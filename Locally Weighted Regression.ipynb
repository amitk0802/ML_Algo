{
 "cells": [
  {
   "cell_type": "markdown",
   "metadata": {},
   "source": [
    "### LOCALLY WEIGHTED REGRESSION"
   ]
  },
  {
   "cell_type": "markdown",
   "metadata": {},
   "source": [
    "It is a Non Parametric Algorithm, it can be used when number of features are small for ex 2-3. We have a modified cost function w(i) * ((y(i) - (theta * x(i))^2), for all values of i= 0 to n. We will fit this function for minimum.\n",
    "\n",
    "Here w(i) is a weighting function which is defined as exp( ( (x(i) - x)^2 )/2 ).\n",
    "If |x(i) - x| is small, w(i) = 1\n",
    "   |x(i) - x| is large, w(i) = 0\n",
    "   \n",
    "Here, shape of the weighting function is like a Gaussian Bell Curve. Here hyperparameter 'tau' is introduced using which we can choose the fatter or thinner width for the curve, so it is bandwidth parameter\n",
    "\n",
    "w(i) = exp( - ( (x(i) - x)^2 )/ (2 * tau * tau) )\n",
    "\n",
    "Weighting in code is a diagonal matrix"
   ]
  },
  {
   "cell_type": "code",
   "execution_count": 3,
   "metadata": {},
   "outputs": [],
   "source": [
    "# Importing Library\n",
    "import numpy as np\n",
    "import pandas as pd\n",
    "import random\n",
    "import matplotlib.pyplot as plt\n",
    "plt.rcParams['figure.figsize'] = (12.0, 9.0)\n"
   ]
  },
  {
   "cell_type": "code",
   "execution_count": 134,
   "metadata": {},
   "outputs": [],
   "source": [
    "data = pd.read_csv(r'C:\\Users\\amitk\\Desktop\\data.csv')\n",
    "X = data.iloc[:, 0]\n",
    "Y = data.iloc[:, 1]\n"
   ]
  },
  {
   "cell_type": "code",
   "execution_count": 135,
   "metadata": {},
   "outputs": [
    {
     "data": {
      "image/png": "[encoded data removed]",
      "text/plain": [
       "<Figure size 864x648 with 1 Axes>"
      ]
     },
     "metadata": {
      "needs_background": "light"
     },
     "output_type": "display_data"
    }
   ],
   "source": [
    "plt.scatter(X, Y)\n",
    "plt.show()"
   ]
  },
  {
   "cell_type": "code",
   "execution_count": 137,
   "metadata": {},
   "outputs": [],
   "source": [
    "# Defining Weighting Function\n",
    "def wf(point, X, t):\n",
    "\n",
    "  # m is the No of training examples .\n",
    "    m = X.shape[0] \n",
    "    \n",
    "  # Initialising W as an identity matrix.\n",
    "    w = np.mat(np.eye(m)) \n",
    "    \n",
    "  # Calculating weights for all training examples [x(i)'s].\n",
    "    for i in range(m): \n",
    "        xi = X[i] \n",
    "        d = (-2 * t * t) \n",
    "        w[i, i] = np.exp(np.dot((xi-point), (xi-point).T)/d) \n",
    "        \n",
    "    return w"
   ]
  },
  {
   "cell_type": "code",
   "execution_count": 138,
   "metadata": {},
   "outputs": [],
   "source": [
    "def predict(X, y, point, tau): \n",
    "    \n",
    "   # m = number of training examples. \n",
    "    m = X.shape[0] \n",
    "    \n",
    "   # Appending a cloumn of ones in X to add the bias term.\n",
    "#### Just one parameter: theta, that's why adding a column of ones        \n",
    "#### to X and also adding a 1 for the point where we want to          \n",
    "#### predict. \n",
    "    X_ = np.append(X, np.ones(m).reshape(m,1), axis=1) \n",
    "    \n",
    "   # point is the x where we want to make the prediction. \n",
    "    point_ = np.array([point, 1]) \n",
    "    \n",
    "   # Calculating the weight matrix using the wm function we wrote      #  # earlier. \n",
    "    w = wm(point_, X_, tau) \n",
    "    \n",
    "  # Calculating parameter theta using the formula.\n",
    "    theta = np.linalg.pinv(X_.T*(w * X_))*(X_.T*(w * y)) \n",
    "    \n",
    "  # Calculating predictions.  \n",
    "    pred = np.dot(point_, theta) \n",
    "    \n",
    "   # Returning the theta and predictions \n",
    "    return theta, pred"
   ]
  },
  {
   "cell_type": "code",
   "execution_count": null,
   "metadata": {},
   "outputs": [],
   "source": [
    "# visualise predicted values with respect\n",
    "# to original target values\n",
    "  \n",
    "Bandwidth = 0.1\n",
    "X_test = np.linspace(-2, 2, 20)\n",
    "Y_test = []\n",
    "for query in X_test:\n",
    "  theta, pred = predict(X, Y, query, Bandwidth)\n",
    "  Y_test.append(pred[0][0])\n",
    "horizontal_axis = np.array(X)\n",
    "vertical_axis = np.array(Y)\n",
    "plt.title(\"Tau / Bandwidth Param %.2f\"% Bandwidth)\n",
    "plt.scatter(horizontal_axis, vertical_axis)\n",
    "Y_test = np.array(Y_test)\n",
    "plt.scatter(X_test, Y_test, color ='red')\n",
    "plt.show()"
   ]
  }
 ],
 "metadata": {
  "kernelspec": {
   "display_name": "Python 3",
   "language": "python",
   "name": "python3"
  },
  "language_info": {
   "codemirror_mode": {
    "name": "ipython",
    "version": 3
   },
   "file_extension": ".py",
   "mimetype": "text/x-python",
   "name": "python",
   "nbconvert_exporter": "python",
   "pygments_lexer": "ipython3",
   "version": "3.7.3"
  }
 },
 "nbformat": 4,
 "nbformat_minor": 2
}
