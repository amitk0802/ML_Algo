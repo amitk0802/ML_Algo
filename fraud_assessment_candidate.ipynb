{
 "cells": [
  {
   "cell_type": "markdown",
   "metadata": {},
   "source": [
    "# Fraud Transaction Detection"
   ]
  },
  {
   "cell_type": "markdown",
   "metadata": {},
   "source": [
    "\n",
    "More information about the scikit learn API can be found:\n",
    "\n",
    "- https://scikit-learn.org/stable/modules/generated/sklearn.pipeline.Pipeline.html\n",
    "- https://scikit-learn.org/dev/developers/contributing.html#rolling-your-own-estimator\n",
    "- http://danielhnyk.cz/creating-your-own-estimator-scikit-learn/\n",
    "\n",
    "*If we are not able to run or replicate your code/steps, we will not grade your assessment.*"
   ]
  },
  {
   "cell_type": "code",
   "execution_count": 14,
   "metadata": {},
   "outputs": [],
   "source": [
    "import pandas as pd\n",
    "import numpy as np\n",
    "import datetime\n",
    "from matplotlib import pyplot as plt\n",
    "from sklearn import preprocessing\n",
    "import warnings\n",
    "warnings.filterwarnings(\"ignore\")\n",
    "import seaborn as sns\n",
    "from sklearn.metrics import accuracy_score\n",
    "from sklearn.metrics import precision_recall_fscore_support \n",
    "\n",
    "data = pd.read_csv('fraud_final_dataset.csv')"
   ]
  },
  {
   "cell_type": "code",
   "execution_count": 15,
   "metadata": {},
   "outputs": [
    {
     "data": {
      "text/html": [
       "<div>\n",
       "<style scoped>\n",
       "    .dataframe tbody tr th:only-of-type {\n",
       "        vertical-align: middle;\n",
       "    }\n",
       "\n",
       "    .dataframe tbody tr th {\n",
       "        vertical-align: top;\n",
       "    }\n",
       "\n",
       "    .dataframe thead th {\n",
       "        text-align: right;\n",
       "    }\n",
       "</style>\n",
       "<table border=\"1\" class=\"dataframe\">\n",
       "  <thead>\n",
       "    <tr style=\"text-align: right;\">\n",
       "      <th></th>\n",
       "      <th>user_id</th>\n",
       "      <th>signup_time</th>\n",
       "      <th>purchase_time</th>\n",
       "      <th>elapsed_time</th>\n",
       "      <th>purchase_value</th>\n",
       "      <th>device_id</th>\n",
       "      <th>source</th>\n",
       "      <th>browser</th>\n",
       "      <th>sex</th>\n",
       "      <th>age</th>\n",
       "      <th>ip_address</th>\n",
       "      <th>class</th>\n",
       "      <th>country</th>\n",
       "    </tr>\n",
       "  </thead>\n",
       "  <tbody>\n",
       "    <tr>\n",
       "      <th>0</th>\n",
       "      <td>285108</td>\n",
       "      <td>7/15/2015 4:36</td>\n",
       "      <td>9/10/2015 14:17</td>\n",
       "      <td>2</td>\n",
       "      <td>31</td>\n",
       "      <td>HZAKVUFTDOSFD</td>\n",
       "      <td>Direct</td>\n",
       "      <td>Chrome</td>\n",
       "      <td>M</td>\n",
       "      <td>49</td>\n",
       "      <td>2.818400e+09</td>\n",
       "      <td>0</td>\n",
       "      <td>United States</td>\n",
       "    </tr>\n",
       "    <tr>\n",
       "      <th>1</th>\n",
       "      <td>131009</td>\n",
       "      <td>1/24/2015 12:29</td>\n",
       "      <td>4/13/2015 4:53</td>\n",
       "      <td>3</td>\n",
       "      <td>31</td>\n",
       "      <td>XGQAJSOUJIZCC</td>\n",
       "      <td>SEO</td>\n",
       "      <td>IE</td>\n",
       "      <td>F</td>\n",
       "      <td>21</td>\n",
       "      <td>3.251268e+09</td>\n",
       "      <td>0</td>\n",
       "      <td>United Kingdom</td>\n",
       "    </tr>\n",
       "    <tr>\n",
       "      <th>2</th>\n",
       "      <td>328855</td>\n",
       "      <td>3/11/2015 0:54</td>\n",
       "      <td>4/5/2015 12:23</td>\n",
       "      <td>1</td>\n",
       "      <td>16</td>\n",
       "      <td>VCCTAYDCWKZIY</td>\n",
       "      <td>Direct</td>\n",
       "      <td>IE</td>\n",
       "      <td>M</td>\n",
       "      <td>26</td>\n",
       "      <td>2.727760e+09</td>\n",
       "      <td>0</td>\n",
       "      <td>United States</td>\n",
       "    </tr>\n",
       "    <tr>\n",
       "      <th>3</th>\n",
       "      <td>229053</td>\n",
       "      <td>1/7/2015 13:19</td>\n",
       "      <td>1/9/2015 10:12</td>\n",
       "      <td>0</td>\n",
       "      <td>29</td>\n",
       "      <td>MFFIHYNXCJLEY</td>\n",
       "      <td>SEO</td>\n",
       "      <td>Chrome</td>\n",
       "      <td>M</td>\n",
       "      <td>34</td>\n",
       "      <td>2.083420e+09</td>\n",
       "      <td>0</td>\n",
       "      <td>Korea Republic of</td>\n",
       "    </tr>\n",
       "    <tr>\n",
       "      <th>4</th>\n",
       "      <td>108439</td>\n",
       "      <td>2/8/2015 21:11</td>\n",
       "      <td>4/9/2015 14:26</td>\n",
       "      <td>2</td>\n",
       "      <td>26</td>\n",
       "      <td>WMSXWGVPNIFBM</td>\n",
       "      <td>Ads</td>\n",
       "      <td>FireFox</td>\n",
       "      <td>M</td>\n",
       "      <td>33</td>\n",
       "      <td>3.207913e+09</td>\n",
       "      <td>0</td>\n",
       "      <td>Brazil</td>\n",
       "    </tr>\n",
       "  </tbody>\n",
       "</table>\n",
       "</div>"
      ],
      "text/plain": [
       "   user_id      signup_time    purchase_time  elapsed_time  purchase_value  \\\n",
       "0   285108   7/15/2015 4:36  9/10/2015 14:17             2              31   \n",
       "1   131009  1/24/2015 12:29   4/13/2015 4:53             3              31   \n",
       "2   328855   3/11/2015 0:54   4/5/2015 12:23             1              16   \n",
       "3   229053   1/7/2015 13:19   1/9/2015 10:12             0              29   \n",
       "4   108439   2/8/2015 21:11   4/9/2015 14:26             2              26   \n",
       "\n",
       "       device_id  source  browser sex  age    ip_address  class  \\\n",
       "0  HZAKVUFTDOSFD  Direct   Chrome   M   49  2.818400e+09      0   \n",
       "1  XGQAJSOUJIZCC     SEO       IE   F   21  3.251268e+09      0   \n",
       "2  VCCTAYDCWKZIY  Direct       IE   M   26  2.727760e+09      0   \n",
       "3  MFFIHYNXCJLEY     SEO   Chrome   M   34  2.083420e+09      0   \n",
       "4  WMSXWGVPNIFBM     Ads  FireFox   M   33  3.207913e+09      0   \n",
       "\n",
       "             country  \n",
       "0      United States  \n",
       "1     United Kingdom  \n",
       "2      United States  \n",
       "3  Korea Republic of  \n",
       "4             Brazil  "
      ]
     },
     "execution_count": 15,
     "metadata": {},
     "output_type": "execute_result"
    }
   ],
   "source": [
    "data.head()"
   ]
  },
  {
   "cell_type": "markdown",
   "metadata": {},
   "source": [
    "## EDA\n",
    "A big portion of being a data scientist is his or her ability to understand the data. Please feel free to use the bottom cells to perform exploratory data analysis. Once you're done, please move on to the problems and tasks."
   ]
  },
  {
   "cell_type": "code",
   "execution_count": 16,
   "metadata": {},
   "outputs": [
    {
     "name": "stdout",
     "output_type": "stream",
     "text": [
      "\n",
      "Description of the Data : \n",
      "\n"
     ]
    },
    {
     "data": {
      "text/html": [
       "<div>\n",
       "<style scoped>\n",
       "    .dataframe tbody tr th:only-of-type {\n",
       "        vertical-align: middle;\n",
       "    }\n",
       "\n",
       "    .dataframe tbody tr th {\n",
       "        vertical-align: top;\n",
       "    }\n",
       "\n",
       "    .dataframe thead th {\n",
       "        text-align: right;\n",
       "    }\n",
       "</style>\n",
       "<table border=\"1\" class=\"dataframe\">\n",
       "  <thead>\n",
       "    <tr style=\"text-align: right;\">\n",
       "      <th></th>\n",
       "      <th>user_id</th>\n",
       "      <th>elapsed_time</th>\n",
       "      <th>purchase_value</th>\n",
       "      <th>age</th>\n",
       "      <th>ip_address</th>\n",
       "      <th>class</th>\n",
       "    </tr>\n",
       "  </thead>\n",
       "  <tbody>\n",
       "    <tr>\n",
       "      <th>count</th>\n",
       "      <td>120000.000000</td>\n",
       "      <td>120000.000000</td>\n",
       "      <td>120000.000000</td>\n",
       "      <td>120000.000000</td>\n",
       "      <td>1.200000e+05</td>\n",
       "      <td>120000.000000</td>\n",
       "    </tr>\n",
       "    <tr>\n",
       "      <th>mean</th>\n",
       "      <td>200320.280100</td>\n",
       "      <td>1.860408</td>\n",
       "      <td>36.881475</td>\n",
       "      <td>33.125250</td>\n",
       "      <td>2.151550e+09</td>\n",
       "      <td>0.093875</td>\n",
       "    </tr>\n",
       "    <tr>\n",
       "      <th>std</th>\n",
       "      <td>115361.945935</td>\n",
       "      <td>1.250767</td>\n",
       "      <td>18.325855</td>\n",
       "      <td>8.617081</td>\n",
       "      <td>1.248314e+09</td>\n",
       "      <td>0.291656</td>\n",
       "    </tr>\n",
       "    <tr>\n",
       "      <th>min</th>\n",
       "      <td>2.000000</td>\n",
       "      <td>0.000000</td>\n",
       "      <td>9.000000</td>\n",
       "      <td>18.000000</td>\n",
       "      <td>9.344714e+04</td>\n",
       "      <td>0.000000</td>\n",
       "    </tr>\n",
       "    <tr>\n",
       "      <th>25%</th>\n",
       "      <td>100925.500000</td>\n",
       "      <td>1.000000</td>\n",
       "      <td>22.000000</td>\n",
       "      <td>27.000000</td>\n",
       "      <td>1.085345e+09</td>\n",
       "      <td>0.000000</td>\n",
       "    </tr>\n",
       "    <tr>\n",
       "      <th>50%</th>\n",
       "      <td>200037.500000</td>\n",
       "      <td>2.000000</td>\n",
       "      <td>34.000000</td>\n",
       "      <td>33.000000</td>\n",
       "      <td>2.155238e+09</td>\n",
       "      <td>0.000000</td>\n",
       "    </tr>\n",
       "    <tr>\n",
       "      <th>75%</th>\n",
       "      <td>300395.500000</td>\n",
       "      <td>3.000000</td>\n",
       "      <td>49.000000</td>\n",
       "      <td>39.000000</td>\n",
       "      <td>3.241268e+09</td>\n",
       "      <td>0.000000</td>\n",
       "    </tr>\n",
       "    <tr>\n",
       "      <th>max</th>\n",
       "      <td>400000.000000</td>\n",
       "      <td>4.000000</td>\n",
       "      <td>154.000000</td>\n",
       "      <td>76.000000</td>\n",
       "      <td>4.294850e+09</td>\n",
       "      <td>1.000000</td>\n",
       "    </tr>\n",
       "  </tbody>\n",
       "</table>\n",
       "</div>"
      ],
      "text/plain": [
       "             user_id   elapsed_time  purchase_value            age  \\\n",
       "count  120000.000000  120000.000000   120000.000000  120000.000000   \n",
       "mean   200320.280100       1.860408       36.881475      33.125250   \n",
       "std    115361.945935       1.250767       18.325855       8.617081   \n",
       "min         2.000000       0.000000        9.000000      18.000000   \n",
       "25%    100925.500000       1.000000       22.000000      27.000000   \n",
       "50%    200037.500000       2.000000       34.000000      33.000000   \n",
       "75%    300395.500000       3.000000       49.000000      39.000000   \n",
       "max    400000.000000       4.000000      154.000000      76.000000   \n",
       "\n",
       "         ip_address          class  \n",
       "count  1.200000e+05  120000.000000  \n",
       "mean   2.151550e+09       0.093875  \n",
       "std    1.248314e+09       0.291656  \n",
       "min    9.344714e+04       0.000000  \n",
       "25%    1.085345e+09       0.000000  \n",
       "50%    2.155238e+09       0.000000  \n",
       "75%    3.241268e+09       0.000000  \n",
       "max    4.294850e+09       1.000000  "
      ]
     },
     "execution_count": 16,
     "metadata": {},
     "output_type": "execute_result"
    }
   ],
   "source": [
    "print(\"\\nDescription of the Data : \\n\")\n",
    "data.describe()"
   ]
  },
  {
   "cell_type": "markdown",
   "metadata": {},
   "source": [
    "**Note:**\n",
    "As the Description of the data shows above, standard deviation of the data is normal from the mean(Except UserId and ip_address)"
   ]
  },
  {
   "cell_type": "code",
   "execution_count": 17,
   "metadata": {},
   "outputs": [
    {
     "name": "stdout",
     "output_type": "stream",
     "text": [
      "Shape of Data : (120000, 13) \n",
      "\n",
      "Dataset Information: \n",
      "\n",
      "<class 'pandas.core.frame.DataFrame'>\n",
      "RangeIndex: 120000 entries, 0 to 119999\n",
      "Data columns (total 13 columns):\n",
      " #   Column          Non-Null Count   Dtype  \n",
      "---  ------          --------------   -----  \n",
      " 0   user_id         120000 non-null  int64  \n",
      " 1   signup_time     120000 non-null  object \n",
      " 2   purchase_time   120000 non-null  object \n",
      " 3   elapsed_time    120000 non-null  int64  \n",
      " 4   purchase_value  120000 non-null  int64  \n",
      " 5   device_id       120000 non-null  object \n",
      " 6   source          120000 non-null  object \n",
      " 7   browser         120000 non-null  object \n",
      " 8   sex             120000 non-null  object \n",
      " 9   age             120000 non-null  int64  \n",
      " 10  ip_address      120000 non-null  float64\n",
      " 11  class           120000 non-null  int64  \n",
      " 12  country         120000 non-null  object \n",
      "dtypes: float64(1), int64(5), object(7)\n",
      "memory usage: 11.9+ MB\n"
     ]
    }
   ],
   "source": [
    "# Dataset shape & overview \n",
    "print(f\"Shape of Data : {data.shape} \\n\")\n",
    "print(\"Dataset Information: \\n\")\n",
    "data.info()"
   ]
  },
  {
   "cell_type": "markdown",
   "metadata": {},
   "source": [
    "**Note:**\n",
    "As the Shape and Info shows above, we have no missing values so we don't need to worry about imputation"
   ]
  },
  {
   "cell_type": "code",
   "execution_count": 18,
   "metadata": {},
   "outputs": [
    {
     "name": "stdout",
     "output_type": "stream",
     "text": [
      "\n",
      "Distribution of the Target 'Class' : \n"
     ]
    },
    {
     "data": {
      "image/png": "[encoded data removed]",
      "text/plain": [
       "<Figure size 720x360 with 1 Axes>"
      ]
     },
     "metadata": {
      "needs_background": "light"
     },
     "output_type": "display_data"
    }
   ],
   "source": [
    "# Define a function to draw a bar chart of a specific feature in data\n",
    "def count_plot(df, col):\n",
    "    fig = plt.figure()\n",
    "    ax = sns.countplot(x=df[col], order=df[col].value_counts().sort_index().index)\n",
    "    abs_values = df[col].value_counts().sort_index()\n",
    "    lbls = [f'{p[0]}' for p in zip(abs_values)]\n",
    "    ax.bar_label(container=ax.containers[0], labels=lbls)\n",
    "\n",
    "print(\"\\nDistribution of the Target 'Class' : \")\n",
    "count_plot(data, 'class')"
   ]
  },
  {
   "cell_type": "markdown",
   "metadata": {},
   "source": [
    "**Takeaway:**\n",
    "\n",
    "The target variable is imbalanced and the distribution is Approx 91% - 9%. It stays consistent with the fact that most fraudulent activities are much less frequenct than non-fraudulent. We shall take note of it before proceeding in order to avoid any overfitting issue when fitting the machine learning models."
   ]
  },
  {
   "cell_type": "code",
   "execution_count": 19,
   "metadata": {},
   "outputs": [
    {
     "name": "stdout",
     "output_type": "stream",
     "text": [
      "Distribution of Categorical Features 'Sex', 'Source', 'Browser' : \n"
     ]
    },
    {
     "data": {
      "image/png": "[encoded data removed]",
      "text/plain": [
       "<Figure size 720x360 with 1 Axes>"
      ]
     },
     "metadata": {
      "needs_background": "light"
     },
     "output_type": "display_data"
    },
    {
     "data": {
      "image/png": "[encoded data removed]",
      "text/plain": [
       "<Figure size 720x360 with 1 Axes>"
      ]
     },
     "metadata": {
      "needs_background": "light"
     },
     "output_type": "display_data"
    },
    {
     "data": {
      "image/png": "[encoded data removed]",
      "text/plain": [
       "<Figure size 720x360 with 1 Axes>"
      ]
     },
     "metadata": {
      "needs_background": "light"
     },
     "output_type": "display_data"
    }
   ],
   "source": [
    "print(\"Distribution of Categorical Features 'Sex', 'Source', 'Browser' : \")\n",
    "count_plot(data, 'sex')\n",
    "count_plot(data, 'source')\n",
    "count_plot(data, 'browser')"
   ]
  },
  {
   "cell_type": "markdown",
   "metadata": {},
   "source": [
    "**Note :** Distribution of Sex, Source and Browser is approximately Uniform. Hence, they will be important features for Modeling"
   ]
  },
  {
   "cell_type": "code",
   "execution_count": 20,
   "metadata": {},
   "outputs": [
    {
     "name": "stdout",
     "output_type": "stream",
     "text": [
      "Distribution of Categorical Features with respect to Target : \n"
     ]
    },
    {
     "data": {
      "text/plain": [
       "<seaborn.axisgrid.FacetGrid at 0x22f4478de50>"
      ]
     },
     "execution_count": 20,
     "metadata": {},
     "output_type": "execute_result"
    },
    {
     "data": {
      "image/png": "[encoded data removed]",
      "text/plain": [
       "<Figure size 1080x360 with 3 Axes>"
      ]
     },
     "metadata": {
      "needs_background": "light"
     },
     "output_type": "display_data"
    },
    {
     "data": {
      "image/png": "[encoded data removed]",
      "text/plain": [
       "<Figure size 1800x360 with 5 Axes>"
      ]
     },
     "metadata": {
      "needs_background": "light"
     },
     "output_type": "display_data"
    },
    {
     "data": {
      "image/png": "[encoded data removed]",
      "text/plain": [
       "<Figure size 720x360 with 2 Axes>"
      ]
     },
     "metadata": {
      "needs_background": "light"
     },
     "output_type": "display_data"
    }
   ],
   "source": [
    "print(\"Distribution of Categorical Features with respect to Target : \")\n",
    "sns.factorplot(x='class', col='source', kind='count', data=data)\n",
    "sns.factorplot(x='class', col='browser', kind='count', data=data)\n",
    "sns.factorplot(x='class', col='sex', kind='count', data=data)"
   ]
  },
  {
   "cell_type": "markdown",
   "metadata": {},
   "source": [
    "The distribution of these features with respect to target is Approximately Uniform as well"
   ]
  },
  {
   "cell_type": "code",
   "execution_count": 21,
   "metadata": {},
   "outputs": [
    {
     "name": "stdout",
     "output_type": "stream",
     "text": [
      "Data Distribution of Target Variable 'Purchase Value' : \n"
     ]
    },
    {
     "data": {
      "text/plain": [
       "<AxesSubplot:xlabel='purchase_value'>"
      ]
     },
     "execution_count": 21,
     "metadata": {},
     "output_type": "execute_result"
    },
    {
     "data": {
      "image/png": "[encoded data removed]",
      "text/plain": [
       "<Figure size 720x360 with 1 Axes>"
      ]
     },
     "metadata": {
      "needs_background": "light"
     },
     "output_type": "display_data"
    }
   ],
   "source": [
    "print(\"Data Distribution of Target Variable 'Purchase Value' : \")\n",
    "sns.distplot(data.purchase_value, kde=False)"
   ]
  },
  {
   "cell_type": "markdown",
   "metadata": {},
   "source": [
    "**Note :** There are no outlier Purchase Value in the transaction"
   ]
  },
  {
   "cell_type": "code",
   "execution_count": 22,
   "metadata": {},
   "outputs": [
    {
     "name": "stdout",
     "output_type": "stream",
     "text": [
      "Distribution of Purchase Time(0-23 hr) : \n"
     ]
    },
    {
     "data": {
      "text/plain": [
       "<AxesSubplot:xlabel='purchase_time'>"
      ]
     },
     "execution_count": 22,
     "metadata": {},
     "output_type": "execute_result"
    },
    {
     "data": {
      "image/png": "[encoded data removed]",
      "text/plain": [
       "<Figure size 720x360 with 1 Axes>"
      ]
     },
     "metadata": {
      "needs_background": "light"
     },
     "output_type": "display_data"
    }
   ],
   "source": [
    "print(\"Distribution of Purchase Time(0-23 hr) : \")\n",
    "out = data.purchase_time.apply(lambda x: int(x.split(' ')[1].split(':')[0])).sort_values(axis=0, ascending=True)\n",
    "sns.distplot(out, kde=False)"
   ]
  },
  {
   "cell_type": "markdown",
   "metadata": {},
   "source": [
    "**Note :** The number of transaction according to time is uniformly distributed across day. Now we can check the split of number of Fraud transaction by time"
   ]
  },
  {
   "cell_type": "code",
   "execution_count": 34,
   "metadata": {},
   "outputs": [
    {
     "data": {
      "text/plain": [
       "<AxesSubplot:title={'center':'Fraud non-Fraud composition by hour of purchase'}>"
      ]
     },
     "execution_count": 34,
     "metadata": {},
     "output_type": "execute_result"
    },
    {
     "data": {
      "image/png": "[encoded data removed]",
      "text/plain": [
       "<Figure size 720x360 with 1 Axes>"
      ]
     },
     "metadata": {
      "needs_background": "light"
     },
     "output_type": "display_data"
    }
   ],
   "source": [
    "new_data = data.copy()\n",
    "new_data['hour'] = new_data.purchase_time.apply(lambda x: int(x.split(' ')[1].split(':')[0])).sort_values(axis=0, ascending=True)\n",
    "\n",
    "reason_cs = new_data['hour'].apply(lambda x: str(x)).str.get_dummies()\n",
    "columns_x = reason_cs.columns\n",
    "new_reason_df = pd.concat([reason_cs, new_data[['class']]], axis=1)\n",
    "\n",
    "fraud = []\n",
    "not_fraud = []\n",
    "for col in columns_x:\n",
    "    fraud.append(new_reason_df[(new_reason_df[col]==1) & (new_reason_df['class']== 1)][col].count())\n",
    "    not_fraud.append(new_reason_df[(new_reason_df[col]==1) & (new_reason_df['class']== 0)][col].count())\n",
    "\n",
    "# Create a sample dataframe\n",
    "df = pd.DataFrame({'Number of Fraud': fraud,\n",
    "                   'Number of Not fraud': not_fraud},\n",
    "                  index=columns_x)\n",
    "df.reset_index(inplace=True, drop=False)\n",
    "df.sort_index(inplace=True)\n",
    "\n",
    "plt.rcParams['figure.figsize'] = [10, 5]\n",
    "# Plot stacked horizontal bar chart\n",
    "df.plot.barh(stacked=True,\n",
    "                     title=\"Fraud non-Fraud composition by hour of purchase\")"
   ]
  },
  {
   "cell_type": "markdown",
   "metadata": {},
   "source": [
    "**Note :** Number of Fraud transactions look uniformly distributed across time"
   ]
  },
  {
   "cell_type": "markdown",
   "metadata": {},
   "source": [
    "## Feature Engineering\n",
    "\n",
    "The steps we take below are, by no means, fully comprehensive nor production-level. However, we will assume that those steps below are **sufficient** for data processing and feature engineering in this assessment. "
   ]
  },
  {
   "cell_type": "markdown",
   "metadata": {},
   "source": [
    "### Problem 0 (provided - do NOT modify)\n",
    "#### Write a custom transformer called CategoricalTransformer to encode categorical columns in an optional \"columns\" construction parameter."
   ]
  },
  {
   "cell_type": "code",
   "execution_count": 35,
   "metadata": {},
   "outputs": [],
   "source": [
    "from sklearn.base import BaseEstimator, TransformerMixin\n",
    "class CategoricalTransformer(BaseEstimator, TransformerMixin):\n",
    "    def __init__(self,columns = None):\n",
    "        self.columns = columns # array of column names to encode\n",
    "\n",
    "    def fit(self,X,y=None):\n",
    "        return self # not relevant here\n",
    "\n",
    "    def transform(self,X):\n",
    "        '''\n",
    "        Transforms columns of X specified in self.columns using\n",
    "        LabelEncoder(). If no columns specified, transforms all\n",
    "        columns in X.\n",
    "        '''\n",
    "        output = X.copy()\n",
    "        if self.columns is not None:\n",
    "            for col in self.columns:\n",
    "                output[col] = preprocessing.LabelEncoder().fit_transform(output[col])\n",
    "        else:\n",
    "            for colname,col in output.iteritems():\n",
    "                output[colname] = preprocessing.LabelEncoder().fit_transform(col)\n",
    "        return output\n",
    "\n",
    "    def fit_transform(self,X,y=None):\n",
    "        return self.fit(X,y).transform(X)"
   ]
  },
  {
   "cell_type": "markdown",
   "metadata": {},
   "source": [
    "### Problem 1\n",
    "#### Write a custom transformer called DropColTransformer to drop the columns specified in an optional \"columns\" construction parameter."
   ]
  },
  {
   "cell_type": "code",
   "execution_count": 36,
   "metadata": {},
   "outputs": [],
   "source": [
    "class DropColTransformer(BaseEstimator, TransformerMixin):\n",
    "    ### BEGIN SOLUTION\n",
    "    def __init__(self,columns = None):\n",
    "        self.columns = columns # array of column needs to be dropped\n",
    "\n",
    "    def fit(self,X,y=None):\n",
    "        return self # not relevant here\n",
    "\n",
    "    def transform(self,X):\n",
    "        return X.drop(self.columns, axis=1)\n",
    "\n",
    "    def fit_transform(self,X,y=None):\n",
    "        return self.fit(X,y).transform(X)"
   ]
  },
  {
   "cell_type": "markdown",
   "metadata": {},
   "source": [
    "### Problem 2\n",
    "#### Write a custom transformer called FillMissingTransformer that fills in the missing values in the dataset that takes an optional \"value\" parameter that specifies what value to substitute for missing values."
   ]
  },
  {
   "cell_type": "code",
   "execution_count": 37,
   "metadata": {},
   "outputs": [],
   "source": [
    "class FillMissingTransformer(BaseEstimator, TransformerMixin):\n",
    "    ### BEGIN SOLUTION\n",
    "    def __init__(self, value = 99999):\n",
    "        self.value = value\n",
    "\n",
    "    def fit(self,X,y=None):\n",
    "        return self\n",
    "\n",
    "    def transform(self, X, y=None):\n",
    "        output = X.copy()\n",
    "        output = output.replace(np.nan, self.value)\n",
    "        return output\n",
    "        \n",
    "    def fit_transform(self,X,y=None):\n",
    "        return self.fit(X,y).transform(X)"
   ]
  },
  {
   "cell_type": "markdown",
   "metadata": {},
   "source": [
    "### Problem 3\n",
    "#### Write a custom transformer called DateTransformer to cast date features into pandas datetime format that takes an optional construction parameter \"columns\" to specify which columns need to be transformed, and an optional parameter \"strftime\" that specifies the format to be parsed."
   ]
  },
  {
   "cell_type": "code",
   "execution_count": 38,
   "metadata": {},
   "outputs": [],
   "source": [
    "class DateTransformer(BaseEstimator, TransformerMixin):\n",
    "    ### BEGIN SOLUTION\n",
    "    def __init__(self, columns=None, strftime=None):\n",
    "        self.columns = columns\n",
    "        self.strftime = strftime\n",
    "        \n",
    "    def fit(self, X, y=None):\n",
    "        return self\n",
    "\n",
    "    def transform(self, X, y=None):\n",
    "        output = X.copy()\n",
    "        if self.columns is not None:\n",
    "            for col in self.columns:\n",
    "                output[col] = pd.to_datetime(output[col])\n",
    "        return output\n",
    "    \n",
    "    def fit_transform(self,X,y=None):\n",
    "        return self.fit(X,y).transform(X)\n"
   ]
  },
  {
   "cell_type": "markdown",
   "metadata": {},
   "source": [
    "### Problem 4 \n",
    "#### Write a custom transformer called NumericalTransformer to: <br> 1) calculate the latency (i.e. time taken by the user in completing a transaction after registration)  <br> 2) calculate the number of users who are using the same device. \n",
    "The construction method need not contain an optional parameter."
   ]
  },
  {
   "cell_type": "code",
   "execution_count": 39,
   "metadata": {},
   "outputs": [],
   "source": [
    "class NumericalTransformer(BaseEstimator, TransformerMixin):\n",
    "    ### BEGIN SOLUTION\n",
    "    def __init__(self):\n",
    "        pass\n",
    "        \n",
    "    def fit(self, X, y=None):\n",
    "        return self\n",
    "\n",
    "    def transform(self, X, y=None):\n",
    "        output = X.copy()\n",
    "        output['latency'] = output['purchase_time']-output['signup_time']\n",
    "        output['latency'] = output['latency'].astype('timedelta64[h]')\n",
    "        \n",
    "        u, indices, counts = np.unique(output['device_id'], return_inverse=True, return_counts=True)\n",
    "        output['device_users_count'] = counts[indices]\n",
    "        return output\n",
    "    \n",
    "    def fit_transform(self,X,y=None):\n",
    "        return self.fit(X,y).transform(X)"
   ]
  },
  {
   "cell_type": "markdown",
   "metadata": {},
   "source": [
    "### Problem 5 (provided - do NOT modify)\n",
    "#### Create a Pipeline Object that concatonates all of the custom transformers that you have just created"
   ]
  },
  {
   "cell_type": "code",
   "execution_count": 40,
   "metadata": {},
   "outputs": [],
   "source": [
    "from sklearn.pipeline import Pipeline\n",
    "full_pipeline = Pipeline([\n",
    "                        ('missing', FillMissingTransformer()),\n",
    "                        ('dates', DateTransformer(['signup_time', 'purchase_time'])),\n",
    "                        ('numerical', NumericalTransformer()),\n",
    "                        ('categorical', CategoricalTransformer(['country', 'sex', \n",
    "                                                          'browser', 'source','device_id'])),\n",
    "                        ('dropCat', DropColTransformer(['signup_time', 'purchase_time']))])"
   ]
  },
  {
   "cell_type": "code",
   "execution_count": 41,
   "metadata": {},
   "outputs": [],
   "source": [
    "transformed_data = full_pipeline.fit_transform(data)"
   ]
  },
  {
   "cell_type": "code",
   "execution_count": 42,
   "metadata": {},
   "outputs": [],
   "source": [
    "X = transformed_data.drop(['class'], axis = 1)\n",
    "y = transformed_data['class']"
   ]
  },
  {
   "cell_type": "code",
   "execution_count": 43,
   "metadata": {},
   "outputs": [],
   "source": [
    "from sklearn.model_selection import train_test_split\n",
    "X_train, X_test, y_train, y_test = train_test_split(X, y)"
   ]
  },
  {
   "cell_type": "markdown",
   "metadata": {},
   "source": [
    "## Modeling\n",
    "\n",
    "Assuming this pipeline is sufficient for data processing and feature engineering, explore **how ever many** different model types and choose one model in which you'd like to move forward. Please explain why you would move forward with the best model.\n",
    "\n",
    "**Preferably only use models from sklearn. If there is an absolute need to incorporate models from other packages, please specify which version of the package was used and explain why that package was needed.**\n",
    "\n",
    "*Feel free to add/remove cells if needed*"
   ]
  },
  {
   "cell_type": "markdown",
   "metadata": {},
   "source": [
    "**NOTE :** I have used package Xgboost for Modeling Extreme Gradient Boosting Algorithm, the version of this package is 1.5.2. Though we can use the full scikit-learn library with XGBoost models, but we need XGBClassifier package."
   ]
  },
  {
   "cell_type": "markdown",
   "metadata": {},
   "source": [
    "### Problem 6: Build model 1"
   ]
  },
  {
   "cell_type": "markdown",
   "metadata": {},
   "source": [
    "#### Necessary steps to build the model"
   ]
  },
  {
   "cell_type": "code",
   "execution_count": 77,
   "metadata": {},
   "outputs": [],
   "source": [
    "# KNN Classifier\n",
    "from sklearn.neighbors import KNeighborsClassifier\n",
    "from sklearn import metrics\n",
    "\n",
    "knnclf=KNeighborsClassifier(n_neighbors=5,algorithm='ball_tree', weights='distance')\n",
    "knnclf.fit(X_train, y_train)\n",
    "\n",
    "ypred_knn = knnclf.predict(X_test)"
   ]
  },
  {
   "cell_type": "markdown",
   "metadata": {},
   "source": [
    "#### Performance metrics of interest & Validation results"
   ]
  },
  {
   "cell_type": "markdown",
   "metadata": {},
   "source": [
    "**Note :** This is the imbalanced data, so we can not use the normal metric to evaluate. I have used Precision, Recall, f1-score and 'roc_auc' to evaluate the model"
   ]
  },
  {
   "cell_type": "code",
   "execution_count": 78,
   "metadata": {},
   "outputs": [
    {
     "name": "stdout",
     "output_type": "stream",
     "text": [
      "Confusion Matrix\n",
      "[[26189  1011]\n",
      " [ 1573  1227]]\n",
      "\n",
      "Classification Report\n",
      "              precision    recall  f1-score   support\n",
      "\n",
      "           0       0.94      0.96      0.95     27200\n",
      "           1       0.55      0.44      0.49      2800\n",
      "\n",
      "    accuracy                           0.91     30000\n",
      "   macro avg       0.75      0.70      0.72     30000\n",
      "weighted avg       0.91      0.91      0.91     30000\n",
      "\n",
      "Accuracy : 0.913867\n",
      "Area under the curve : 0.700523\n"
     ]
    }
   ],
   "source": [
    "ypred_knn = knnclf.predict(X_test)\n",
    "print('Confusion Matrix')\n",
    "print(metrics.confusion_matrix(y_test, ypred_knn))\n",
    "print('\\nClassification Report')\n",
    "print(metrics.classification_report(y_test, ypred_knn))\n",
    "print(\"-----------------------------------------------------------------------------------------\")\n",
    "print('Accuracy : %f' % (metrics.accuracy_score(y_test, ypred_knn)))\n",
    "print('Area under the curve : %f' % (metrics.roc_auc_score(y_test, ypred_knn)))"
   ]
  },
  {
   "cell_type": "markdown",
   "metadata": {},
   "source": [
    "-------------"
   ]
  },
  {
   "cell_type": "markdown",
   "metadata": {},
   "source": [
    "###### We will use 10 fold KFold Cross Validation to train the model for improving the area under the curve score for the KNN classifier"
   ]
  },
  {
   "cell_type": "code",
   "execution_count": 92,
   "metadata": {},
   "outputs": [],
   "source": [
    "# Evaluate every algorithms to find out the best one\n",
    "from sklearn.model_selection import KFold\n",
    "from sklearn.model_selection import cross_val_score\n",
    "k_fold=KFold(n_splits=10,shuffle=True, random_state=0)\n",
    "\n",
    "knnclf=KNeighborsClassifier(n_neighbors=5,algorithm='ball_tree', weights='distance')\n",
    "score=cross_val_score(knnclf, X_train, y_train, cv=k_fold, n_jobs=1, scoring='roc_auc')"
   ]
  },
  {
   "cell_type": "code",
   "execution_count": 93,
   "metadata": {},
   "outputs": [
    {
     "name": "stdout",
     "output_type": "stream",
     "text": [
      "New Area under the curve : 0.746917\n"
     ]
    }
   ],
   "source": [
    "np.mean(score)\n",
    "print('New Area under the curve : %f' % (np.mean(score)))"
   ]
  },
  {
   "cell_type": "markdown",
   "metadata": {},
   "source": [
    "### Problem 7: Build model 2"
   ]
  },
  {
   "cell_type": "markdown",
   "metadata": {},
   "source": [
    "#### Necessary steps to build the model"
   ]
  },
  {
   "cell_type": "code",
   "execution_count": 75,
   "metadata": {},
   "outputs": [
    {
     "data": {
      "text/plain": [
       "RandomForestClassifier()"
      ]
     },
     "execution_count": 75,
     "metadata": {},
     "output_type": "execute_result"
    }
   ],
   "source": [
    "from sklearn.ensemble import RandomForestClassifier\n",
    "\n",
    "rfclf = RandomForestClassifier()\n",
    "rfclf.fit(X_train, y_train)"
   ]
  },
  {
   "cell_type": "markdown",
   "metadata": {},
   "source": [
    "#### Performance metrics of interest & Validation results"
   ]
  },
  {
   "cell_type": "markdown",
   "metadata": {},
   "source": [
    "**Note :** This is the imbalanced data, so we can not use the normal metric to evaluate. I have used Precision, Recall, f1-score and 'roc_auc' to evaluate the model"
   ]
  },
  {
   "cell_type": "code",
   "execution_count": 76,
   "metadata": {},
   "outputs": [
    {
     "name": "stdout",
     "output_type": "stream",
     "text": [
      "Confusion Matrix\n",
      "[[27193     7]\n",
      " [ 1325  1475]]\n",
      "\n",
      "Classification Report\n",
      "              precision    recall  f1-score   support\n",
      "\n",
      "           0       0.95      1.00      0.98     27200\n",
      "           1       1.00      0.53      0.69      2800\n",
      "\n",
      "    accuracy                           0.96     30000\n",
      "   macro avg       0.97      0.76      0.83     30000\n",
      "weighted avg       0.96      0.96      0.95     30000\n",
      "\n",
      "Accuracy : 0.955600\n",
      "Area under the curve : 0.763264\n"
     ]
    }
   ],
   "source": [
    "ypred_rf = rfclf.predict(X_test)\n",
    "print('Confusion Matrix')\n",
    "print(metrics.confusion_matrix(y_test, ypred_rf))\n",
    "print('\\nClassification Report')\n",
    "print(metrics.classification_report(y_test, ypred_rf))\n",
    "print(\"-----------------------------------------------------------------------------------------\")\n",
    "print('Accuracy : %f' % (metrics.accuracy_score(y_test, ypred_rf)))\n",
    "print('Area under the curve : %f' % (metrics.roc_auc_score(y_test, ypred_rf)))"
   ]
  },
  {
   "cell_type": "markdown",
   "metadata": {},
   "source": [
    "------"
   ]
  },
  {
   "cell_type": "markdown",
   "metadata": {},
   "source": [
    "###### We will use 10 fold KFold Cross Validation to train the model for improving the area under the curve score for the Random Forest classifier"
   ]
  },
  {
   "cell_type": "code",
   "execution_count": 94,
   "metadata": {},
   "outputs": [],
   "source": [
    "# Evaluate every algorithms to find out the best one\n",
    "rfclf=RandomForestClassifier()\n",
    "score=cross_val_score(rfclf, X_train, y_train, cv=k_fold, n_jobs=1, scoring='roc_auc')"
   ]
  },
  {
   "cell_type": "code",
   "execution_count": 95,
   "metadata": {},
   "outputs": [
    {
     "name": "stdout",
     "output_type": "stream",
     "text": [
      "New Area under the curve : 0.829295\n"
     ]
    }
   ],
   "source": [
    "np.mean(score)\n",
    "print('New Area under the curve : %f' % (np.mean(score)))"
   ]
  },
  {
   "cell_type": "markdown",
   "metadata": {},
   "source": [
    "### Problem 8: Build model 3"
   ]
  },
  {
   "cell_type": "markdown",
   "metadata": {},
   "source": [
    "#### Necessary steps to build the model"
   ]
  },
  {
   "cell_type": "code",
   "execution_count": 110,
   "metadata": {},
   "outputs": [
    {
     "name": "stdout",
     "output_type": "stream",
     "text": [
      "Requirement already satisfied: xgboost in c:\\users\\amit\\anaconda3\\lib\\site-packages (1.5.2)\n",
      "Requirement already satisfied: numpy in c:\\users\\amit\\anaconda3\\lib\\site-packages (from xgboost) (1.20.3)\n",
      "Requirement already satisfied: scipy in c:\\users\\amit\\anaconda3\\lib\\site-packages (from xgboost) (1.7.1)\n",
      "Note: you may need to restart the kernel to use updated packages.\n"
     ]
    }
   ],
   "source": [
    "pip install xgboost"
   ]
  },
  {
   "cell_type": "code",
   "execution_count": 82,
   "metadata": {},
   "outputs": [
    {
     "name": "stdout",
     "output_type": "stream",
     "text": [
      "[0]\tvalidation_0-error:0.04307\tvalidation_1-error:0.04483\n",
      "[1]\tvalidation_0-error:0.04309\tvalidation_1-error:0.04483\n",
      "[2]\tvalidation_0-error:0.04310\tvalidation_1-error:0.04477\n",
      "[3]\tvalidation_0-error:0.04310\tvalidation_1-error:0.04477\n",
      "[4]\tvalidation_0-error:0.04310\tvalidation_1-error:0.04477\n",
      "[5]\tvalidation_0-error:0.04310\tvalidation_1-error:0.04477\n",
      "[6]\tvalidation_0-error:0.04310\tvalidation_1-error:0.04477\n",
      "[7]\tvalidation_0-error:0.04310\tvalidation_1-error:0.04477\n",
      "[8]\tvalidation_0-error:0.04307\tvalidation_1-error:0.04480\n",
      "[9]\tvalidation_0-error:0.04306\tvalidation_1-error:0.04477\n",
      "[10]\tvalidation_0-error:0.04304\tvalidation_1-error:0.04477\n",
      "[11]\tvalidation_0-error:0.04302\tvalidation_1-error:0.04477\n",
      "[12]\tvalidation_0-error:0.04302\tvalidation_1-error:0.04477\n",
      "[13]\tvalidation_0-error:0.04302\tvalidation_1-error:0.04477\n",
      "[14]\tvalidation_0-error:0.04304\tvalidation_1-error:0.04477\n",
      "[15]\tvalidation_0-error:0.04304\tvalidation_1-error:0.04477\n",
      "[16]\tvalidation_0-error:0.04304\tvalidation_1-error:0.04477\n",
      "[17]\tvalidation_0-error:0.04314\tvalidation_1-error:0.04473\n",
      "[18]\tvalidation_0-error:0.04316\tvalidation_1-error:0.04473\n",
      "[19]\tvalidation_0-error:0.04316\tvalidation_1-error:0.04473\n",
      "[20]\tvalidation_0-error:0.04312\tvalidation_1-error:0.04473\n",
      "[21]\tvalidation_0-error:0.04316\tvalidation_1-error:0.04473\n",
      "[22]\tvalidation_0-error:0.04314\tvalidation_1-error:0.04473\n",
      "[23]\tvalidation_0-error:0.04316\tvalidation_1-error:0.04473\n",
      "[24]\tvalidation_0-error:0.04307\tvalidation_1-error:0.04467\n",
      "[25]\tvalidation_0-error:0.04307\tvalidation_1-error:0.04467\n",
      "[26]\tvalidation_0-error:0.04309\tvalidation_1-error:0.04467\n",
      "[27]\tvalidation_0-error:0.04309\tvalidation_1-error:0.04467\n",
      "[28]\tvalidation_0-error:0.04307\tvalidation_1-error:0.04467\n",
      "[29]\tvalidation_0-error:0.04304\tvalidation_1-error:0.04467\n",
      "[30]\tvalidation_0-error:0.04304\tvalidation_1-error:0.04467\n",
      "[31]\tvalidation_0-error:0.04304\tvalidation_1-error:0.04467\n",
      "[32]\tvalidation_0-error:0.04302\tvalidation_1-error:0.04467\n",
      "[33]\tvalidation_0-error:0.04304\tvalidation_1-error:0.04467\n",
      "[34]\tvalidation_0-error:0.04304\tvalidation_1-error:0.04467\n",
      "[35]\tvalidation_0-error:0.04302\tvalidation_1-error:0.04467\n",
      "[36]\tvalidation_0-error:0.04304\tvalidation_1-error:0.04467\n",
      "[37]\tvalidation_0-error:0.04302\tvalidation_1-error:0.04467\n",
      "[38]\tvalidation_0-error:0.04303\tvalidation_1-error:0.04467\n",
      "[39]\tvalidation_0-error:0.04302\tvalidation_1-error:0.04467\n",
      "[40]\tvalidation_0-error:0.04301\tvalidation_1-error:0.04467\n",
      "[41]\tvalidation_0-error:0.04304\tvalidation_1-error:0.04467\n",
      "[42]\tvalidation_0-error:0.04301\tvalidation_1-error:0.04467\n",
      "[43]\tvalidation_0-error:0.04301\tvalidation_1-error:0.04467\n",
      "[44]\tvalidation_0-error:0.04302\tvalidation_1-error:0.04467\n",
      "[45]\tvalidation_0-error:0.04307\tvalidation_1-error:0.04470\n",
      "[46]\tvalidation_0-error:0.04308\tvalidation_1-error:0.04457\n",
      "[47]\tvalidation_0-error:0.04308\tvalidation_1-error:0.04457\n",
      "[48]\tvalidation_0-error:0.04307\tvalidation_1-error:0.04457\n",
      "[49]\tvalidation_0-error:0.04307\tvalidation_1-error:0.04453\n",
      "[50]\tvalidation_0-error:0.04307\tvalidation_1-error:0.04453\n",
      "[51]\tvalidation_0-error:0.04309\tvalidation_1-error:0.04453\n",
      "[52]\tvalidation_0-error:0.04309\tvalidation_1-error:0.04450\n",
      "[53]\tvalidation_0-error:0.04311\tvalidation_1-error:0.04450\n",
      "[54]\tvalidation_0-error:0.04313\tvalidation_1-error:0.04450\n",
      "[55]\tvalidation_0-error:0.04313\tvalidation_1-error:0.04450\n",
      "[56]\tvalidation_0-error:0.04314\tvalidation_1-error:0.04450\n",
      "[57]\tvalidation_0-error:0.04314\tvalidation_1-error:0.04450\n",
      "[58]\tvalidation_0-error:0.04314\tvalidation_1-error:0.04450\n",
      "[59]\tvalidation_0-error:0.04314\tvalidation_1-error:0.04450\n",
      "[60]\tvalidation_0-error:0.04314\tvalidation_1-error:0.04450\n",
      "[61]\tvalidation_0-error:0.04313\tvalidation_1-error:0.04450\n",
      "[62]\tvalidation_0-error:0.04313\tvalidation_1-error:0.04450\n",
      "[63]\tvalidation_0-error:0.04316\tvalidation_1-error:0.04447\n",
      "[64]\tvalidation_0-error:0.04314\tvalidation_1-error:0.04453\n",
      "[65]\tvalidation_0-error:0.04313\tvalidation_1-error:0.04453\n",
      "[66]\tvalidation_0-error:0.04314\tvalidation_1-error:0.04453\n",
      "[67]\tvalidation_0-error:0.04312\tvalidation_1-error:0.04447\n",
      "[68]\tvalidation_0-error:0.04312\tvalidation_1-error:0.04447\n",
      "[69]\tvalidation_0-error:0.04313\tvalidation_1-error:0.04453\n",
      "[70]\tvalidation_0-error:0.04316\tvalidation_1-error:0.04453\n",
      "[71]\tvalidation_0-error:0.04313\tvalidation_1-error:0.04453\n",
      "[72]\tvalidation_0-error:0.04316\tvalidation_1-error:0.04453\n",
      "[73]\tvalidation_0-error:0.04314\tvalidation_1-error:0.04453\n",
      "[74]\tvalidation_0-error:0.04316\tvalidation_1-error:0.04450\n",
      "[75]\tvalidation_0-error:0.04316\tvalidation_1-error:0.04443\n",
      "[76]\tvalidation_0-error:0.04316\tvalidation_1-error:0.04443\n",
      "[77]\tvalidation_0-error:0.04317\tvalidation_1-error:0.04450\n",
      "[78]\tvalidation_0-error:0.04316\tvalidation_1-error:0.04443\n",
      "[79]\tvalidation_0-error:0.04314\tvalidation_1-error:0.04443\n",
      "[80]\tvalidation_0-error:0.04314\tvalidation_1-error:0.04443\n",
      "[81]\tvalidation_0-error:0.04313\tvalidation_1-error:0.04443\n",
      "[82]\tvalidation_0-error:0.04313\tvalidation_1-error:0.04443\n",
      "[83]\tvalidation_0-error:0.04313\tvalidation_1-error:0.04443\n",
      "[84]\tvalidation_0-error:0.04312\tvalidation_1-error:0.04443\n",
      "[85]\tvalidation_0-error:0.04311\tvalidation_1-error:0.04443\n",
      "[86]\tvalidation_0-error:0.04311\tvalidation_1-error:0.04443\n",
      "[87]\tvalidation_0-error:0.04311\tvalidation_1-error:0.04443\n",
      "[88]\tvalidation_0-error:0.04309\tvalidation_1-error:0.04443\n",
      "[89]\tvalidation_0-error:0.04310\tvalidation_1-error:0.04443\n",
      "[90]\tvalidation_0-error:0.04310\tvalidation_1-error:0.04443\n",
      "[91]\tvalidation_0-error:0.04311\tvalidation_1-error:0.04443\n",
      "[92]\tvalidation_0-error:0.04311\tvalidation_1-error:0.04443\n",
      "[93]\tvalidation_0-error:0.04311\tvalidation_1-error:0.04443\n",
      "[94]\tvalidation_0-error:0.04311\tvalidation_1-error:0.04443\n",
      "[95]\tvalidation_0-error:0.04311\tvalidation_1-error:0.04443\n",
      "[96]\tvalidation_0-error:0.04311\tvalidation_1-error:0.04443\n",
      "[97]\tvalidation_0-error:0.04311\tvalidation_1-error:0.04443\n",
      "[98]\tvalidation_0-error:0.04311\tvalidation_1-error:0.04443\n",
      "[99]\tvalidation_0-error:0.04310\tvalidation_1-error:0.04443\n",
      "[100]\tvalidation_0-error:0.04310\tvalidation_1-error:0.04443\n",
      "[101]\tvalidation_0-error:0.04309\tvalidation_1-error:0.04443\n",
      "[102]\tvalidation_0-error:0.04309\tvalidation_1-error:0.04443\n",
      "[103]\tvalidation_0-error:0.04309\tvalidation_1-error:0.04443\n",
      "[104]\tvalidation_0-error:0.04309\tvalidation_1-error:0.04443\n",
      "[105]\tvalidation_0-error:0.04309\tvalidation_1-error:0.04443\n",
      "[106]\tvalidation_0-error:0.04309\tvalidation_1-error:0.04443\n",
      "[107]\tvalidation_0-error:0.04307\tvalidation_1-error:0.04443\n",
      "[108]\tvalidation_0-error:0.04307\tvalidation_1-error:0.04443\n",
      "[109]\tvalidation_0-error:0.04308\tvalidation_1-error:0.04443\n",
      "[110]\tvalidation_0-error:0.04304\tvalidation_1-error:0.04443\n",
      "[111]\tvalidation_0-error:0.04308\tvalidation_1-error:0.04450\n",
      "[112]\tvalidation_0-error:0.04306\tvalidation_1-error:0.04443\n",
      "[113]\tvalidation_0-error:0.04308\tvalidation_1-error:0.04443\n",
      "[114]\tvalidation_0-error:0.04307\tvalidation_1-error:0.04443\n",
      "[115]\tvalidation_0-error:0.04306\tvalidation_1-error:0.04443\n",
      "[116]\tvalidation_0-error:0.04304\tvalidation_1-error:0.04443\n",
      "[117]\tvalidation_0-error:0.04304\tvalidation_1-error:0.04443\n",
      "[118]\tvalidation_0-error:0.04304\tvalidation_1-error:0.04443\n",
      "[119]\tvalidation_0-error:0.04306\tvalidation_1-error:0.04443\n",
      "[120]\tvalidation_0-error:0.04306\tvalidation_1-error:0.04443\n",
      "[121]\tvalidation_0-error:0.04306\tvalidation_1-error:0.04443\n",
      "[122]\tvalidation_0-error:0.04306\tvalidation_1-error:0.04450\n",
      "[123]\tvalidation_0-error:0.04306\tvalidation_1-error:0.04443\n",
      "[124]\tvalidation_0-error:0.04306\tvalidation_1-error:0.04450\n",
      "[125]\tvalidation_0-error:0.04306\tvalidation_1-error:0.04447\n",
      "[126]\tvalidation_0-error:0.04309\tvalidation_1-error:0.04450\n",
      "[127]\tvalidation_0-error:0.04308\tvalidation_1-error:0.04450\n",
      "[128]\tvalidation_0-error:0.04308\tvalidation_1-error:0.04453\n",
      "[129]\tvalidation_0-error:0.04309\tvalidation_1-error:0.04453\n",
      "[130]\tvalidation_0-error:0.04309\tvalidation_1-error:0.04450\n",
      "[131]\tvalidation_0-error:0.04308\tvalidation_1-error:0.04450\n",
      "[132]\tvalidation_0-error:0.04308\tvalidation_1-error:0.04450\n",
      "[133]\tvalidation_0-error:0.04308\tvalidation_1-error:0.04453\n",
      "[134]\tvalidation_0-error:0.04308\tvalidation_1-error:0.04450\n",
      "[135]\tvalidation_0-error:0.04308\tvalidation_1-error:0.04453\n",
      "[136]\tvalidation_0-error:0.04309\tvalidation_1-error:0.04450\n",
      "[137]\tvalidation_0-error:0.04309\tvalidation_1-error:0.04450\n",
      "[138]\tvalidation_0-error:0.04309\tvalidation_1-error:0.04450\n"
     ]
    },
    {
     "name": "stdout",
     "output_type": "stream",
     "text": [
      "[139]\tvalidation_0-error:0.04309\tvalidation_1-error:0.04453\n",
      "[140]\tvalidation_0-error:0.04309\tvalidation_1-error:0.04450\n",
      "[141]\tvalidation_0-error:0.04309\tvalidation_1-error:0.04450\n",
      "[142]\tvalidation_0-error:0.04309\tvalidation_1-error:0.04450\n",
      "[143]\tvalidation_0-error:0.04309\tvalidation_1-error:0.04450\n",
      "[144]\tvalidation_0-error:0.04309\tvalidation_1-error:0.04450\n",
      "[145]\tvalidation_0-error:0.04309\tvalidation_1-error:0.04450\n",
      "[146]\tvalidation_0-error:0.04309\tvalidation_1-error:0.04450\n",
      "[147]\tvalidation_0-error:0.04309\tvalidation_1-error:0.04450\n",
      "[148]\tvalidation_0-error:0.04309\tvalidation_1-error:0.04450\n",
      "[149]\tvalidation_0-error:0.04309\tvalidation_1-error:0.04450\n",
      "[150]\tvalidation_0-error:0.04309\tvalidation_1-error:0.04450\n",
      "[151]\tvalidation_0-error:0.04309\tvalidation_1-error:0.04453\n",
      "[152]\tvalidation_0-error:0.04309\tvalidation_1-error:0.04453\n",
      "[153]\tvalidation_0-error:0.04309\tvalidation_1-error:0.04453\n",
      "[154]\tvalidation_0-error:0.04310\tvalidation_1-error:0.04453\n",
      "[155]\tvalidation_0-error:0.04310\tvalidation_1-error:0.04453\n",
      "[156]\tvalidation_0-error:0.04311\tvalidation_1-error:0.04450\n",
      "[157]\tvalidation_0-error:0.04311\tvalidation_1-error:0.04450\n",
      "[158]\tvalidation_0-error:0.04310\tvalidation_1-error:0.04450\n",
      "[159]\tvalidation_0-error:0.04310\tvalidation_1-error:0.04450\n",
      "[160]\tvalidation_0-error:0.04310\tvalidation_1-error:0.04453\n",
      "[161]\tvalidation_0-error:0.04310\tvalidation_1-error:0.04453\n",
      "[162]\tvalidation_0-error:0.04310\tvalidation_1-error:0.04453\n",
      "[163]\tvalidation_0-error:0.04310\tvalidation_1-error:0.04453\n",
      "[164]\tvalidation_0-error:0.04310\tvalidation_1-error:0.04453\n",
      "[165]\tvalidation_0-error:0.04310\tvalidation_1-error:0.04453\n",
      "[166]\tvalidation_0-error:0.04310\tvalidation_1-error:0.04450\n",
      "[167]\tvalidation_0-error:0.04310\tvalidation_1-error:0.04450\n",
      "[168]\tvalidation_0-error:0.04310\tvalidation_1-error:0.04450\n",
      "[169]\tvalidation_0-error:0.04310\tvalidation_1-error:0.04450\n",
      "[170]\tvalidation_0-error:0.04311\tvalidation_1-error:0.04450\n",
      "[171]\tvalidation_0-error:0.04311\tvalidation_1-error:0.04450\n",
      "[172]\tvalidation_0-error:0.04311\tvalidation_1-error:0.04450\n",
      "[173]\tvalidation_0-error:0.04309\tvalidation_1-error:0.04450\n",
      "[174]\tvalidation_0-error:0.04309\tvalidation_1-error:0.04450\n",
      "[175]\tvalidation_0-error:0.04309\tvalidation_1-error:0.04450\n",
      "[176]\tvalidation_0-error:0.04309\tvalidation_1-error:0.04450\n",
      "[177]\tvalidation_0-error:0.04309\tvalidation_1-error:0.04450\n",
      "[178]\tvalidation_0-error:0.04309\tvalidation_1-error:0.04450\n",
      "[179]\tvalidation_0-error:0.04309\tvalidation_1-error:0.04450\n",
      "[180]\tvalidation_0-error:0.04308\tvalidation_1-error:0.04450\n",
      "[181]\tvalidation_0-error:0.04308\tvalidation_1-error:0.04450\n",
      "[182]\tvalidation_0-error:0.04308\tvalidation_1-error:0.04447\n",
      "[183]\tvalidation_0-error:0.04308\tvalidation_1-error:0.04447\n",
      "[184]\tvalidation_0-error:0.04307\tvalidation_1-error:0.04447\n",
      "[185]\tvalidation_0-error:0.04307\tvalidation_1-error:0.04447\n",
      "[186]\tvalidation_0-error:0.04307\tvalidation_1-error:0.04447\n",
      "[187]\tvalidation_0-error:0.04307\tvalidation_1-error:0.04450\n",
      "[188]\tvalidation_0-error:0.04307\tvalidation_1-error:0.04450\n",
      "[189]\tvalidation_0-error:0.04307\tvalidation_1-error:0.04450\n",
      "[190]\tvalidation_0-error:0.04307\tvalidation_1-error:0.04447\n",
      "[191]\tvalidation_0-error:0.04307\tvalidation_1-error:0.04447\n",
      "[192]\tvalidation_0-error:0.04307\tvalidation_1-error:0.04447\n",
      "[193]\tvalidation_0-error:0.04307\tvalidation_1-error:0.04447\n",
      "[194]\tvalidation_0-error:0.04307\tvalidation_1-error:0.04447\n",
      "[195]\tvalidation_0-error:0.04307\tvalidation_1-error:0.04447\n",
      "[196]\tvalidation_0-error:0.04307\tvalidation_1-error:0.04447\n",
      "[197]\tvalidation_0-error:0.04307\tvalidation_1-error:0.04447\n",
      "[198]\tvalidation_0-error:0.04307\tvalidation_1-error:0.04447\n",
      "[199]\tvalidation_0-error:0.04307\tvalidation_1-error:0.04447\n",
      "[200]\tvalidation_0-error:0.04307\tvalidation_1-error:0.04447\n",
      "[201]\tvalidation_0-error:0.04307\tvalidation_1-error:0.04447\n",
      "[202]\tvalidation_0-error:0.04307\tvalidation_1-error:0.04447\n",
      "[203]\tvalidation_0-error:0.04307\tvalidation_1-error:0.04447\n",
      "[204]\tvalidation_0-error:0.04307\tvalidation_1-error:0.04443\n",
      "[205]\tvalidation_0-error:0.04306\tvalidation_1-error:0.04447\n",
      "[206]\tvalidation_0-error:0.04306\tvalidation_1-error:0.04447\n",
      "[207]\tvalidation_0-error:0.04306\tvalidation_1-error:0.04447\n",
      "[208]\tvalidation_0-error:0.04306\tvalidation_1-error:0.04447\n",
      "[209]\tvalidation_0-error:0.04308\tvalidation_1-error:0.04447\n",
      "[210]\tvalidation_0-error:0.04308\tvalidation_1-error:0.04447\n",
      "[211]\tvalidation_0-error:0.04308\tvalidation_1-error:0.04447\n",
      "[212]\tvalidation_0-error:0.04308\tvalidation_1-error:0.04447\n",
      "[213]\tvalidation_0-error:0.04306\tvalidation_1-error:0.04447\n",
      "[214]\tvalidation_0-error:0.04307\tvalidation_1-error:0.04447\n",
      "[215]\tvalidation_0-error:0.04308\tvalidation_1-error:0.04447\n",
      "[216]\tvalidation_0-error:0.04308\tvalidation_1-error:0.04447\n",
      "[217]\tvalidation_0-error:0.04308\tvalidation_1-error:0.04447\n",
      "[218]\tvalidation_0-error:0.04308\tvalidation_1-error:0.04447\n",
      "[219]\tvalidation_0-error:0.04307\tvalidation_1-error:0.04447\n",
      "[220]\tvalidation_0-error:0.04307\tvalidation_1-error:0.04447\n",
      "[221]\tvalidation_0-error:0.04307\tvalidation_1-error:0.04447\n",
      "[222]\tvalidation_0-error:0.04307\tvalidation_1-error:0.04447\n",
      "[223]\tvalidation_0-error:0.04307\tvalidation_1-error:0.04447\n",
      "[224]\tvalidation_0-error:0.04307\tvalidation_1-error:0.04447\n",
      "[225]\tvalidation_0-error:0.04307\tvalidation_1-error:0.04447\n",
      "[226]\tvalidation_0-error:0.04308\tvalidation_1-error:0.04447\n",
      "[227]\tvalidation_0-error:0.04308\tvalidation_1-error:0.04443\n",
      "[228]\tvalidation_0-error:0.04308\tvalidation_1-error:0.04443\n",
      "[229]\tvalidation_0-error:0.04306\tvalidation_1-error:0.04443\n",
      "[230]\tvalidation_0-error:0.04307\tvalidation_1-error:0.04447\n",
      "[231]\tvalidation_0-error:0.04307\tvalidation_1-error:0.04447\n",
      "[232]\tvalidation_0-error:0.04307\tvalidation_1-error:0.04443\n",
      "[233]\tvalidation_0-error:0.04307\tvalidation_1-error:0.04443\n",
      "[234]\tvalidation_0-error:0.04307\tvalidation_1-error:0.04443\n",
      "[235]\tvalidation_0-error:0.04307\tvalidation_1-error:0.04443\n",
      "[236]\tvalidation_0-error:0.04307\tvalidation_1-error:0.04443\n",
      "[237]\tvalidation_0-error:0.04307\tvalidation_1-error:0.04443\n",
      "[238]\tvalidation_0-error:0.04307\tvalidation_1-error:0.04443\n",
      "[239]\tvalidation_0-error:0.04307\tvalidation_1-error:0.04443\n",
      "[240]\tvalidation_0-error:0.04307\tvalidation_1-error:0.04443\n",
      "[241]\tvalidation_0-error:0.04306\tvalidation_1-error:0.04443\n",
      "[242]\tvalidation_0-error:0.04306\tvalidation_1-error:0.04443\n",
      "[243]\tvalidation_0-error:0.04306\tvalidation_1-error:0.04443\n",
      "[244]\tvalidation_0-error:0.04304\tvalidation_1-error:0.04443\n",
      "[245]\tvalidation_0-error:0.04306\tvalidation_1-error:0.04443\n",
      "[246]\tvalidation_0-error:0.04304\tvalidation_1-error:0.04443\n",
      "[247]\tvalidation_0-error:0.04304\tvalidation_1-error:0.04443\n",
      "[248]\tvalidation_0-error:0.04303\tvalidation_1-error:0.04443\n",
      "[249]\tvalidation_0-error:0.04302\tvalidation_1-error:0.04447\n",
      "[250]\tvalidation_0-error:0.04302\tvalidation_1-error:0.04447\n",
      "[251]\tvalidation_0-error:0.04302\tvalidation_1-error:0.04447\n",
      "[252]\tvalidation_0-error:0.04302\tvalidation_1-error:0.04447\n",
      "[253]\tvalidation_0-error:0.04301\tvalidation_1-error:0.04447\n",
      "[254]\tvalidation_0-error:0.04300\tvalidation_1-error:0.04447\n",
      "[255]\tvalidation_0-error:0.04300\tvalidation_1-error:0.04447\n",
      "[256]\tvalidation_0-error:0.04300\tvalidation_1-error:0.04447\n",
      "[257]\tvalidation_0-error:0.04300\tvalidation_1-error:0.04447\n",
      "[258]\tvalidation_0-error:0.04300\tvalidation_1-error:0.04443\n",
      "[259]\tvalidation_0-error:0.04300\tvalidation_1-error:0.04447\n",
      "[260]\tvalidation_0-error:0.04300\tvalidation_1-error:0.04447\n",
      "[261]\tvalidation_0-error:0.04300\tvalidation_1-error:0.04447\n",
      "[262]\tvalidation_0-error:0.04300\tvalidation_1-error:0.04447\n",
      "[263]\tvalidation_0-error:0.04300\tvalidation_1-error:0.04447\n",
      "[264]\tvalidation_0-error:0.04300\tvalidation_1-error:0.04447\n",
      "[265]\tvalidation_0-error:0.04299\tvalidation_1-error:0.04447\n",
      "[266]\tvalidation_0-error:0.04299\tvalidation_1-error:0.04443\n",
      "[267]\tvalidation_0-error:0.04299\tvalidation_1-error:0.04443\n",
      "[268]\tvalidation_0-error:0.04299\tvalidation_1-error:0.04447\n",
      "[269]\tvalidation_0-error:0.04298\tvalidation_1-error:0.04447\n",
      "[270]\tvalidation_0-error:0.04298\tvalidation_1-error:0.04447\n",
      "[271]\tvalidation_0-error:0.04298\tvalidation_1-error:0.04447\n",
      "[272]\tvalidation_0-error:0.04298\tvalidation_1-error:0.04447\n",
      "[273]\tvalidation_0-error:0.04298\tvalidation_1-error:0.04447\n",
      "[274]\tvalidation_0-error:0.04298\tvalidation_1-error:0.04447\n",
      "[275]\tvalidation_0-error:0.04298\tvalidation_1-error:0.04447\n"
     ]
    },
    {
     "name": "stdout",
     "output_type": "stream",
     "text": [
      "[276]\tvalidation_0-error:0.04297\tvalidation_1-error:0.04447\n",
      "[277]\tvalidation_0-error:0.04296\tvalidation_1-error:0.04447\n",
      "[278]\tvalidation_0-error:0.04296\tvalidation_1-error:0.04443\n",
      "[279]\tvalidation_0-error:0.04296\tvalidation_1-error:0.04443\n",
      "[280]\tvalidation_0-error:0.04296\tvalidation_1-error:0.04443\n",
      "[281]\tvalidation_0-error:0.04296\tvalidation_1-error:0.04443\n",
      "[282]\tvalidation_0-error:0.04296\tvalidation_1-error:0.04443\n",
      "[283]\tvalidation_0-error:0.04296\tvalidation_1-error:0.04443\n",
      "[284]\tvalidation_0-error:0.04296\tvalidation_1-error:0.04443\n",
      "[285]\tvalidation_0-error:0.04293\tvalidation_1-error:0.04443\n",
      "[286]\tvalidation_0-error:0.04293\tvalidation_1-error:0.04443\n",
      "[287]\tvalidation_0-error:0.04293\tvalidation_1-error:0.04443\n",
      "[288]\tvalidation_0-error:0.04294\tvalidation_1-error:0.04443\n",
      "[289]\tvalidation_0-error:0.04291\tvalidation_1-error:0.04443\n",
      "[290]\tvalidation_0-error:0.04291\tvalidation_1-error:0.04443\n",
      "[291]\tvalidation_0-error:0.04291\tvalidation_1-error:0.04443\n",
      "[292]\tvalidation_0-error:0.04291\tvalidation_1-error:0.04443\n",
      "[293]\tvalidation_0-error:0.04291\tvalidation_1-error:0.04443\n",
      "[294]\tvalidation_0-error:0.04291\tvalidation_1-error:0.04443\n",
      "[295]\tvalidation_0-error:0.04291\tvalidation_1-error:0.04443\n",
      "[296]\tvalidation_0-error:0.04290\tvalidation_1-error:0.04443\n",
      "[297]\tvalidation_0-error:0.04290\tvalidation_1-error:0.04443\n",
      "[298]\tvalidation_0-error:0.04290\tvalidation_1-error:0.04443\n",
      "[299]\tvalidation_0-error:0.04290\tvalidation_1-error:0.04443\n",
      "[300]\tvalidation_0-error:0.04290\tvalidation_1-error:0.04443\n",
      "[301]\tvalidation_0-error:0.04289\tvalidation_1-error:0.04443\n",
      "[302]\tvalidation_0-error:0.04288\tvalidation_1-error:0.04443\n",
      "[303]\tvalidation_0-error:0.04288\tvalidation_1-error:0.04443\n",
      "[304]\tvalidation_0-error:0.04288\tvalidation_1-error:0.04443\n",
      "[305]\tvalidation_0-error:0.04288\tvalidation_1-error:0.04443\n",
      "[306]\tvalidation_0-error:0.04287\tvalidation_1-error:0.04443\n",
      "[307]\tvalidation_0-error:0.04288\tvalidation_1-error:0.04443\n",
      "[308]\tvalidation_0-error:0.04288\tvalidation_1-error:0.04443\n",
      "[309]\tvalidation_0-error:0.04287\tvalidation_1-error:0.04443\n",
      "[310]\tvalidation_0-error:0.04287\tvalidation_1-error:0.04443\n",
      "[311]\tvalidation_0-error:0.04287\tvalidation_1-error:0.04443\n",
      "[312]\tvalidation_0-error:0.04287\tvalidation_1-error:0.04443\n",
      "[313]\tvalidation_0-error:0.04287\tvalidation_1-error:0.04443\n",
      "[314]\tvalidation_0-error:0.04287\tvalidation_1-error:0.04443\n",
      "[315]\tvalidation_0-error:0.04287\tvalidation_1-error:0.04443\n",
      "[316]\tvalidation_0-error:0.04287\tvalidation_1-error:0.04443\n",
      "[317]\tvalidation_0-error:0.04287\tvalidation_1-error:0.04443\n",
      "[318]\tvalidation_0-error:0.04287\tvalidation_1-error:0.04443\n",
      "[319]\tvalidation_0-error:0.04286\tvalidation_1-error:0.04443\n",
      "[320]\tvalidation_0-error:0.04286\tvalidation_1-error:0.04443\n",
      "[321]\tvalidation_0-error:0.04286\tvalidation_1-error:0.04443\n",
      "[322]\tvalidation_0-error:0.04286\tvalidation_1-error:0.04443\n",
      "[323]\tvalidation_0-error:0.04286\tvalidation_1-error:0.04443\n",
      "[324]\tvalidation_0-error:0.04286\tvalidation_1-error:0.04443\n",
      "[325]\tvalidation_0-error:0.04286\tvalidation_1-error:0.04443\n",
      "[326]\tvalidation_0-error:0.04286\tvalidation_1-error:0.04443\n",
      "[327]\tvalidation_0-error:0.04286\tvalidation_1-error:0.04443\n",
      "[328]\tvalidation_0-error:0.04286\tvalidation_1-error:0.04443\n",
      "[329]\tvalidation_0-error:0.04286\tvalidation_1-error:0.04443\n",
      "[330]\tvalidation_0-error:0.04286\tvalidation_1-error:0.04443\n",
      "[331]\tvalidation_0-error:0.04286\tvalidation_1-error:0.04443\n",
      "[332]\tvalidation_0-error:0.04286\tvalidation_1-error:0.04443\n",
      "[333]\tvalidation_0-error:0.04286\tvalidation_1-error:0.04443\n",
      "[334]\tvalidation_0-error:0.04286\tvalidation_1-error:0.04443\n",
      "[335]\tvalidation_0-error:0.04286\tvalidation_1-error:0.04443\n",
      "[336]\tvalidation_0-error:0.04286\tvalidation_1-error:0.04443\n",
      "[337]\tvalidation_0-error:0.04286\tvalidation_1-error:0.04443\n",
      "[338]\tvalidation_0-error:0.04286\tvalidation_1-error:0.04443\n",
      "[339]\tvalidation_0-error:0.04284\tvalidation_1-error:0.04443\n",
      "[340]\tvalidation_0-error:0.04284\tvalidation_1-error:0.04443\n",
      "[341]\tvalidation_0-error:0.04284\tvalidation_1-error:0.04443\n",
      "[342]\tvalidation_0-error:0.04284\tvalidation_1-error:0.04443\n",
      "[343]\tvalidation_0-error:0.04284\tvalidation_1-error:0.04443\n",
      "[344]\tvalidation_0-error:0.04284\tvalidation_1-error:0.04443\n",
      "[345]\tvalidation_0-error:0.04284\tvalidation_1-error:0.04443\n",
      "[346]\tvalidation_0-error:0.04284\tvalidation_1-error:0.04443\n",
      "[347]\tvalidation_0-error:0.04284\tvalidation_1-error:0.04443\n",
      "[348]\tvalidation_0-error:0.04284\tvalidation_1-error:0.04443\n",
      "[349]\tvalidation_0-error:0.04284\tvalidation_1-error:0.04443\n",
      "[350]\tvalidation_0-error:0.04284\tvalidation_1-error:0.04443\n",
      "[351]\tvalidation_0-error:0.04284\tvalidation_1-error:0.04443\n",
      "[352]\tvalidation_0-error:0.04283\tvalidation_1-error:0.04443\n",
      "[353]\tvalidation_0-error:0.04283\tvalidation_1-error:0.04443\n",
      "[354]\tvalidation_0-error:0.04283\tvalidation_1-error:0.04443\n",
      "[355]\tvalidation_0-error:0.04283\tvalidation_1-error:0.04443\n",
      "[356]\tvalidation_0-error:0.04282\tvalidation_1-error:0.04443\n",
      "[357]\tvalidation_0-error:0.04282\tvalidation_1-error:0.04443\n",
      "[358]\tvalidation_0-error:0.04282\tvalidation_1-error:0.04443\n",
      "[359]\tvalidation_0-error:0.04281\tvalidation_1-error:0.04443\n",
      "[360]\tvalidation_0-error:0.04281\tvalidation_1-error:0.04443\n",
      "[361]\tvalidation_0-error:0.04281\tvalidation_1-error:0.04443\n",
      "[362]\tvalidation_0-error:0.04281\tvalidation_1-error:0.04443\n",
      "[363]\tvalidation_0-error:0.04281\tvalidation_1-error:0.04443\n",
      "[364]\tvalidation_0-error:0.04280\tvalidation_1-error:0.04443\n",
      "[365]\tvalidation_0-error:0.04280\tvalidation_1-error:0.04443\n",
      "[366]\tvalidation_0-error:0.04280\tvalidation_1-error:0.04443\n",
      "[367]\tvalidation_0-error:0.04279\tvalidation_1-error:0.04443\n",
      "[368]\tvalidation_0-error:0.04279\tvalidation_1-error:0.04443\n",
      "[369]\tvalidation_0-error:0.04278\tvalidation_1-error:0.04443\n",
      "[370]\tvalidation_0-error:0.04278\tvalidation_1-error:0.04443\n",
      "[371]\tvalidation_0-error:0.04278\tvalidation_1-error:0.04443\n",
      "[372]\tvalidation_0-error:0.04278\tvalidation_1-error:0.04443\n",
      "[373]\tvalidation_0-error:0.04278\tvalidation_1-error:0.04443\n",
      "[374]\tvalidation_0-error:0.04278\tvalidation_1-error:0.04443\n",
      "[375]\tvalidation_0-error:0.04278\tvalidation_1-error:0.04443\n",
      "[376]\tvalidation_0-error:0.04278\tvalidation_1-error:0.04443\n",
      "[377]\tvalidation_0-error:0.04278\tvalidation_1-error:0.04443\n",
      "[378]\tvalidation_0-error:0.04277\tvalidation_1-error:0.04443\n",
      "[379]\tvalidation_0-error:0.04277\tvalidation_1-error:0.04443\n",
      "[380]\tvalidation_0-error:0.04277\tvalidation_1-error:0.04443\n",
      "[381]\tvalidation_0-error:0.04277\tvalidation_1-error:0.04443\n",
      "[382]\tvalidation_0-error:0.04277\tvalidation_1-error:0.04443\n",
      "[383]\tvalidation_0-error:0.04277\tvalidation_1-error:0.04443\n",
      "[384]\tvalidation_0-error:0.04277\tvalidation_1-error:0.04443\n",
      "[385]\tvalidation_0-error:0.04277\tvalidation_1-error:0.04443\n",
      "[386]\tvalidation_0-error:0.04277\tvalidation_1-error:0.04447\n",
      "[387]\tvalidation_0-error:0.04276\tvalidation_1-error:0.04447\n",
      "[388]\tvalidation_0-error:0.04276\tvalidation_1-error:0.04447\n",
      "[389]\tvalidation_0-error:0.04276\tvalidation_1-error:0.04447\n",
      "[390]\tvalidation_0-error:0.04276\tvalidation_1-error:0.04447\n",
      "[391]\tvalidation_0-error:0.04276\tvalidation_1-error:0.04447\n",
      "[392]\tvalidation_0-error:0.04276\tvalidation_1-error:0.04447\n",
      "[393]\tvalidation_0-error:0.04276\tvalidation_1-error:0.04447\n",
      "[394]\tvalidation_0-error:0.04276\tvalidation_1-error:0.04447\n",
      "[395]\tvalidation_0-error:0.04276\tvalidation_1-error:0.04447\n",
      "[396]\tvalidation_0-error:0.04274\tvalidation_1-error:0.04447\n",
      "[397]\tvalidation_0-error:0.04274\tvalidation_1-error:0.04447\n",
      "[398]\tvalidation_0-error:0.04274\tvalidation_1-error:0.04447\n",
      "[399]\tvalidation_0-error:0.04274\tvalidation_1-error:0.04447\n",
      "[400]\tvalidation_0-error:0.04273\tvalidation_1-error:0.04447\n",
      "[401]\tvalidation_0-error:0.04274\tvalidation_1-error:0.04447\n",
      "[402]\tvalidation_0-error:0.04274\tvalidation_1-error:0.04447\n",
      "[403]\tvalidation_0-error:0.04274\tvalidation_1-error:0.04447\n",
      "[404]\tvalidation_0-error:0.04273\tvalidation_1-error:0.04447\n",
      "[405]\tvalidation_0-error:0.04273\tvalidation_1-error:0.04447\n",
      "[406]\tvalidation_0-error:0.04272\tvalidation_1-error:0.04447\n",
      "[407]\tvalidation_0-error:0.04272\tvalidation_1-error:0.04447\n",
      "[408]\tvalidation_0-error:0.04273\tvalidation_1-error:0.04447\n",
      "[409]\tvalidation_0-error:0.04273\tvalidation_1-error:0.04450\n",
      "[410]\tvalidation_0-error:0.04273\tvalidation_1-error:0.04450\n",
      "[411]\tvalidation_0-error:0.04273\tvalidation_1-error:0.04447\n",
      "[412]\tvalidation_0-error:0.04273\tvalidation_1-error:0.04447\n"
     ]
    },
    {
     "name": "stdout",
     "output_type": "stream",
     "text": [
      "[413]\tvalidation_0-error:0.04273\tvalidation_1-error:0.04447\n",
      "[414]\tvalidation_0-error:0.04273\tvalidation_1-error:0.04447\n",
      "[415]\tvalidation_0-error:0.04272\tvalidation_1-error:0.04447\n",
      "[416]\tvalidation_0-error:0.04272\tvalidation_1-error:0.04450\n",
      "[417]\tvalidation_0-error:0.04272\tvalidation_1-error:0.04453\n",
      "[418]\tvalidation_0-error:0.04272\tvalidation_1-error:0.04453\n",
      "[419]\tvalidation_0-error:0.04272\tvalidation_1-error:0.04453\n",
      "[420]\tvalidation_0-error:0.04271\tvalidation_1-error:0.04453\n",
      "[421]\tvalidation_0-error:0.04271\tvalidation_1-error:0.04453\n",
      "[422]\tvalidation_0-error:0.04271\tvalidation_1-error:0.04453\n",
      "[423]\tvalidation_0-error:0.04270\tvalidation_1-error:0.04453\n",
      "[424]\tvalidation_0-error:0.04270\tvalidation_1-error:0.04453\n",
      "[425]\tvalidation_0-error:0.04268\tvalidation_1-error:0.04457\n",
      "[426]\tvalidation_0-error:0.04269\tvalidation_1-error:0.04460\n",
      "[427]\tvalidation_0-error:0.04269\tvalidation_1-error:0.04457\n",
      "[428]\tvalidation_0-error:0.04269\tvalidation_1-error:0.04457\n",
      "[429]\tvalidation_0-error:0.04269\tvalidation_1-error:0.04457\n",
      "[430]\tvalidation_0-error:0.04269\tvalidation_1-error:0.04460\n",
      "[431]\tvalidation_0-error:0.04269\tvalidation_1-error:0.04460\n",
      "[432]\tvalidation_0-error:0.04269\tvalidation_1-error:0.04460\n",
      "[433]\tvalidation_0-error:0.04269\tvalidation_1-error:0.04457\n",
      "[434]\tvalidation_0-error:0.04269\tvalidation_1-error:0.04457\n",
      "[435]\tvalidation_0-error:0.04269\tvalidation_1-error:0.04457\n",
      "[436]\tvalidation_0-error:0.04269\tvalidation_1-error:0.04457\n",
      "[437]\tvalidation_0-error:0.04268\tvalidation_1-error:0.04457\n",
      "[438]\tvalidation_0-error:0.04268\tvalidation_1-error:0.04457\n",
      "[439]\tvalidation_0-error:0.04268\tvalidation_1-error:0.04457\n",
      "[440]\tvalidation_0-error:0.04268\tvalidation_1-error:0.04457\n",
      "[441]\tvalidation_0-error:0.04268\tvalidation_1-error:0.04460\n",
      "[442]\tvalidation_0-error:0.04268\tvalidation_1-error:0.04460\n",
      "[443]\tvalidation_0-error:0.04268\tvalidation_1-error:0.04460\n",
      "[444]\tvalidation_0-error:0.04268\tvalidation_1-error:0.04460\n",
      "[445]\tvalidation_0-error:0.04267\tvalidation_1-error:0.04460\n",
      "[446]\tvalidation_0-error:0.04267\tvalidation_1-error:0.04460\n",
      "[447]\tvalidation_0-error:0.04267\tvalidation_1-error:0.04457\n",
      "[448]\tvalidation_0-error:0.04267\tvalidation_1-error:0.04457\n",
      "[449]\tvalidation_0-error:0.04266\tvalidation_1-error:0.04453\n",
      "[450]\tvalidation_0-error:0.04266\tvalidation_1-error:0.04457\n",
      "[451]\tvalidation_0-error:0.04264\tvalidation_1-error:0.04457\n",
      "[452]\tvalidation_0-error:0.04264\tvalidation_1-error:0.04457\n",
      "[453]\tvalidation_0-error:0.04264\tvalidation_1-error:0.04457\n",
      "[454]\tvalidation_0-error:0.04266\tvalidation_1-error:0.04457\n",
      "[455]\tvalidation_0-error:0.04266\tvalidation_1-error:0.04457\n",
      "[456]\tvalidation_0-error:0.04266\tvalidation_1-error:0.04457\n",
      "[457]\tvalidation_0-error:0.04263\tvalidation_1-error:0.04457\n",
      "[458]\tvalidation_0-error:0.04263\tvalidation_1-error:0.04457\n",
      "[459]\tvalidation_0-error:0.04263\tvalidation_1-error:0.04457\n",
      "[460]\tvalidation_0-error:0.04263\tvalidation_1-error:0.04457\n",
      "[461]\tvalidation_0-error:0.04263\tvalidation_1-error:0.04457\n",
      "[462]\tvalidation_0-error:0.04263\tvalidation_1-error:0.04457\n",
      "[463]\tvalidation_0-error:0.04263\tvalidation_1-error:0.04457\n",
      "[464]\tvalidation_0-error:0.04263\tvalidation_1-error:0.04457\n",
      "[465]\tvalidation_0-error:0.04263\tvalidation_1-error:0.04457\n",
      "[466]\tvalidation_0-error:0.04263\tvalidation_1-error:0.04457\n",
      "[467]\tvalidation_0-error:0.04262\tvalidation_1-error:0.04457\n",
      "[468]\tvalidation_0-error:0.04262\tvalidation_1-error:0.04453\n",
      "[469]\tvalidation_0-error:0.04262\tvalidation_1-error:0.04453\n",
      "[470]\tvalidation_0-error:0.04262\tvalidation_1-error:0.04453\n",
      "[471]\tvalidation_0-error:0.04262\tvalidation_1-error:0.04453\n",
      "[472]\tvalidation_0-error:0.04262\tvalidation_1-error:0.04453\n",
      "[473]\tvalidation_0-error:0.04262\tvalidation_1-error:0.04453\n",
      "[474]\tvalidation_0-error:0.04261\tvalidation_1-error:0.04450\n",
      "[475]\tvalidation_0-error:0.04261\tvalidation_1-error:0.04450\n",
      "[476]\tvalidation_0-error:0.04261\tvalidation_1-error:0.04450\n",
      "[477]\tvalidation_0-error:0.04259\tvalidation_1-error:0.04450\n",
      "[478]\tvalidation_0-error:0.04260\tvalidation_1-error:0.04450\n",
      "[479]\tvalidation_0-error:0.04260\tvalidation_1-error:0.04450\n",
      "[480]\tvalidation_0-error:0.04259\tvalidation_1-error:0.04450\n",
      "[481]\tvalidation_0-error:0.04259\tvalidation_1-error:0.04450\n",
      "[482]\tvalidation_0-error:0.04259\tvalidation_1-error:0.04450\n",
      "[483]\tvalidation_0-error:0.04259\tvalidation_1-error:0.04450\n",
      "[484]\tvalidation_0-error:0.04259\tvalidation_1-error:0.04450\n",
      "[485]\tvalidation_0-error:0.04258\tvalidation_1-error:0.04450\n",
      "[486]\tvalidation_0-error:0.04258\tvalidation_1-error:0.04450\n",
      "[487]\tvalidation_0-error:0.04258\tvalidation_1-error:0.04450\n",
      "[488]\tvalidation_0-error:0.04258\tvalidation_1-error:0.04450\n",
      "[489]\tvalidation_0-error:0.04258\tvalidation_1-error:0.04450\n",
      "[490]\tvalidation_0-error:0.04258\tvalidation_1-error:0.04450\n",
      "[491]\tvalidation_0-error:0.04258\tvalidation_1-error:0.04450\n",
      "[492]\tvalidation_0-error:0.04258\tvalidation_1-error:0.04450\n",
      "[493]\tvalidation_0-error:0.04257\tvalidation_1-error:0.04450\n",
      "[494]\tvalidation_0-error:0.04257\tvalidation_1-error:0.04450\n",
      "[495]\tvalidation_0-error:0.04257\tvalidation_1-error:0.04450\n",
      "[496]\tvalidation_0-error:0.04257\tvalidation_1-error:0.04450\n",
      "[497]\tvalidation_0-error:0.04256\tvalidation_1-error:0.04450\n",
      "[498]\tvalidation_0-error:0.04257\tvalidation_1-error:0.04450\n",
      "[499]\tvalidation_0-error:0.04257\tvalidation_1-error:0.04450\n",
      "[500]\tvalidation_0-error:0.04257\tvalidation_1-error:0.04450\n",
      "[501]\tvalidation_0-error:0.04257\tvalidation_1-error:0.04450\n",
      "[502]\tvalidation_0-error:0.04257\tvalidation_1-error:0.04450\n",
      "[503]\tvalidation_0-error:0.04257\tvalidation_1-error:0.04450\n",
      "[504]\tvalidation_0-error:0.04256\tvalidation_1-error:0.04450\n",
      "[505]\tvalidation_0-error:0.04256\tvalidation_1-error:0.04450\n",
      "[506]\tvalidation_0-error:0.04257\tvalidation_1-error:0.04450\n",
      "[507]\tvalidation_0-error:0.04257\tvalidation_1-error:0.04450\n",
      "[508]\tvalidation_0-error:0.04257\tvalidation_1-error:0.04450\n",
      "[509]\tvalidation_0-error:0.04256\tvalidation_1-error:0.04450\n",
      "[510]\tvalidation_0-error:0.04254\tvalidation_1-error:0.04450\n",
      "[511]\tvalidation_0-error:0.04254\tvalidation_1-error:0.04450\n",
      "[512]\tvalidation_0-error:0.04254\tvalidation_1-error:0.04450\n",
      "[513]\tvalidation_0-error:0.04254\tvalidation_1-error:0.04450\n",
      "[514]\tvalidation_0-error:0.04254\tvalidation_1-error:0.04450\n",
      "[515]\tvalidation_0-error:0.04254\tvalidation_1-error:0.04450\n",
      "[516]\tvalidation_0-error:0.04254\tvalidation_1-error:0.04450\n",
      "[517]\tvalidation_0-error:0.04254\tvalidation_1-error:0.04450\n",
      "[518]\tvalidation_0-error:0.04254\tvalidation_1-error:0.04450\n",
      "[519]\tvalidation_0-error:0.04254\tvalidation_1-error:0.04450\n",
      "[520]\tvalidation_0-error:0.04256\tvalidation_1-error:0.04450\n",
      "[521]\tvalidation_0-error:0.04256\tvalidation_1-error:0.04450\n",
      "[522]\tvalidation_0-error:0.04256\tvalidation_1-error:0.04450\n",
      "[523]\tvalidation_0-error:0.04254\tvalidation_1-error:0.04450\n",
      "[524]\tvalidation_0-error:0.04254\tvalidation_1-error:0.04450\n",
      "[525]\tvalidation_0-error:0.04253\tvalidation_1-error:0.04450\n",
      "[526]\tvalidation_0-error:0.04253\tvalidation_1-error:0.04450\n",
      "[527]\tvalidation_0-error:0.04254\tvalidation_1-error:0.04450\n",
      "[528]\tvalidation_0-error:0.04253\tvalidation_1-error:0.04450\n",
      "[529]\tvalidation_0-error:0.04254\tvalidation_1-error:0.04450\n",
      "[530]\tvalidation_0-error:0.04253\tvalidation_1-error:0.04450\n",
      "[531]\tvalidation_0-error:0.04253\tvalidation_1-error:0.04450\n",
      "[532]\tvalidation_0-error:0.04252\tvalidation_1-error:0.04450\n",
      "[533]\tvalidation_0-error:0.04251\tvalidation_1-error:0.04450\n",
      "[534]\tvalidation_0-error:0.04250\tvalidation_1-error:0.04450\n",
      "[535]\tvalidation_0-error:0.04251\tvalidation_1-error:0.04450\n",
      "[536]\tvalidation_0-error:0.04250\tvalidation_1-error:0.04450\n",
      "[537]\tvalidation_0-error:0.04250\tvalidation_1-error:0.04450\n",
      "[538]\tvalidation_0-error:0.04250\tvalidation_1-error:0.04450\n",
      "[539]\tvalidation_0-error:0.04249\tvalidation_1-error:0.04450\n",
      "[540]\tvalidation_0-error:0.04249\tvalidation_1-error:0.04453\n",
      "[541]\tvalidation_0-error:0.04246\tvalidation_1-error:0.04453\n",
      "[542]\tvalidation_0-error:0.04246\tvalidation_1-error:0.04453\n",
      "[543]\tvalidation_0-error:0.04247\tvalidation_1-error:0.04453\n",
      "[544]\tvalidation_0-error:0.04246\tvalidation_1-error:0.04453\n",
      "[545]\tvalidation_0-error:0.04246\tvalidation_1-error:0.04453\n",
      "[546]\tvalidation_0-error:0.04246\tvalidation_1-error:0.04453\n",
      "[547]\tvalidation_0-error:0.04246\tvalidation_1-error:0.04453\n",
      "[548]\tvalidation_0-error:0.04246\tvalidation_1-error:0.04453\n",
      "[549]\tvalidation_0-error:0.04246\tvalidation_1-error:0.04453\n"
     ]
    },
    {
     "name": "stdout",
     "output_type": "stream",
     "text": [
      "[550]\tvalidation_0-error:0.04246\tvalidation_1-error:0.04453\n",
      "[551]\tvalidation_0-error:0.04246\tvalidation_1-error:0.04453\n",
      "[552]\tvalidation_0-error:0.04244\tvalidation_1-error:0.04453\n",
      "[553]\tvalidation_0-error:0.04244\tvalidation_1-error:0.04453\n",
      "[554]\tvalidation_0-error:0.04246\tvalidation_1-error:0.04453\n",
      "[555]\tvalidation_0-error:0.04246\tvalidation_1-error:0.04453\n",
      "[556]\tvalidation_0-error:0.04246\tvalidation_1-error:0.04453\n",
      "[557]\tvalidation_0-error:0.04246\tvalidation_1-error:0.04453\n",
      "[558]\tvalidation_0-error:0.04246\tvalidation_1-error:0.04453\n",
      "[559]\tvalidation_0-error:0.04246\tvalidation_1-error:0.04453\n",
      "[560]\tvalidation_0-error:0.04246\tvalidation_1-error:0.04453\n",
      "[561]\tvalidation_0-error:0.04246\tvalidation_1-error:0.04453\n",
      "[562]\tvalidation_0-error:0.04246\tvalidation_1-error:0.04453\n",
      "[563]\tvalidation_0-error:0.04246\tvalidation_1-error:0.04453\n",
      "[564]\tvalidation_0-error:0.04246\tvalidation_1-error:0.04453\n",
      "[565]\tvalidation_0-error:0.04246\tvalidation_1-error:0.04453\n",
      "[566]\tvalidation_0-error:0.04244\tvalidation_1-error:0.04453\n",
      "[567]\tvalidation_0-error:0.04244\tvalidation_1-error:0.04453\n",
      "[568]\tvalidation_0-error:0.04244\tvalidation_1-error:0.04453\n",
      "[569]\tvalidation_0-error:0.04244\tvalidation_1-error:0.04453\n",
      "[570]\tvalidation_0-error:0.04244\tvalidation_1-error:0.04453\n",
      "[571]\tvalidation_0-error:0.04244\tvalidation_1-error:0.04453\n",
      "[572]\tvalidation_0-error:0.04244\tvalidation_1-error:0.04453\n",
      "[573]\tvalidation_0-error:0.04243\tvalidation_1-error:0.04453\n",
      "[574]\tvalidation_0-error:0.04243\tvalidation_1-error:0.04453\n",
      "[575]\tvalidation_0-error:0.04244\tvalidation_1-error:0.04453\n",
      "[576]\tvalidation_0-error:0.04242\tvalidation_1-error:0.04453\n",
      "[577]\tvalidation_0-error:0.04242\tvalidation_1-error:0.04453\n",
      "[578]\tvalidation_0-error:0.04241\tvalidation_1-error:0.04453\n",
      "[579]\tvalidation_0-error:0.04241\tvalidation_1-error:0.04453\n",
      "[580]\tvalidation_0-error:0.04241\tvalidation_1-error:0.04453\n",
      "[581]\tvalidation_0-error:0.04241\tvalidation_1-error:0.04453\n",
      "[582]\tvalidation_0-error:0.04241\tvalidation_1-error:0.04453\n",
      "[583]\tvalidation_0-error:0.04241\tvalidation_1-error:0.04453\n",
      "[584]\tvalidation_0-error:0.04241\tvalidation_1-error:0.04453\n",
      "[585]\tvalidation_0-error:0.04241\tvalidation_1-error:0.04453\n",
      "[586]\tvalidation_0-error:0.04240\tvalidation_1-error:0.04453\n",
      "[587]\tvalidation_0-error:0.04240\tvalidation_1-error:0.04453\n",
      "[588]\tvalidation_0-error:0.04240\tvalidation_1-error:0.04453\n",
      "[589]\tvalidation_0-error:0.04241\tvalidation_1-error:0.04453\n",
      "[590]\tvalidation_0-error:0.04241\tvalidation_1-error:0.04453\n",
      "[591]\tvalidation_0-error:0.04240\tvalidation_1-error:0.04453\n",
      "[592]\tvalidation_0-error:0.04240\tvalidation_1-error:0.04457\n",
      "[593]\tvalidation_0-error:0.04240\tvalidation_1-error:0.04457\n",
      "[594]\tvalidation_0-error:0.04240\tvalidation_1-error:0.04457\n",
      "[595]\tvalidation_0-error:0.04240\tvalidation_1-error:0.04457\n",
      "[596]\tvalidation_0-error:0.04240\tvalidation_1-error:0.04457\n",
      "[597]\tvalidation_0-error:0.04240\tvalidation_1-error:0.04457\n",
      "[598]\tvalidation_0-error:0.04240\tvalidation_1-error:0.04457\n",
      "[599]\tvalidation_0-error:0.04240\tvalidation_1-error:0.04457\n",
      "[600]\tvalidation_0-error:0.04240\tvalidation_1-error:0.04457\n",
      "[601]\tvalidation_0-error:0.04240\tvalidation_1-error:0.04457\n",
      "[602]\tvalidation_0-error:0.04240\tvalidation_1-error:0.04457\n",
      "[603]\tvalidation_0-error:0.04240\tvalidation_1-error:0.04457\n",
      "[604]\tvalidation_0-error:0.04239\tvalidation_1-error:0.04457\n",
      "[605]\tvalidation_0-error:0.04239\tvalidation_1-error:0.04457\n",
      "[606]\tvalidation_0-error:0.04239\tvalidation_1-error:0.04457\n",
      "[607]\tvalidation_0-error:0.04238\tvalidation_1-error:0.04457\n",
      "[608]\tvalidation_0-error:0.04238\tvalidation_1-error:0.04457\n",
      "[609]\tvalidation_0-error:0.04239\tvalidation_1-error:0.04457\n",
      "[610]\tvalidation_0-error:0.04239\tvalidation_1-error:0.04457\n",
      "[611]\tvalidation_0-error:0.04239\tvalidation_1-error:0.04457\n",
      "[612]\tvalidation_0-error:0.04238\tvalidation_1-error:0.04457\n",
      "[613]\tvalidation_0-error:0.04238\tvalidation_1-error:0.04457\n",
      "[614]\tvalidation_0-error:0.04238\tvalidation_1-error:0.04457\n",
      "[615]\tvalidation_0-error:0.04238\tvalidation_1-error:0.04457\n",
      "[616]\tvalidation_0-error:0.04238\tvalidation_1-error:0.04457\n",
      "[617]\tvalidation_0-error:0.04238\tvalidation_1-error:0.04457\n",
      "[618]\tvalidation_0-error:0.04237\tvalidation_1-error:0.04457\n",
      "[619]\tvalidation_0-error:0.04237\tvalidation_1-error:0.04457\n",
      "[620]\tvalidation_0-error:0.04237\tvalidation_1-error:0.04457\n",
      "[621]\tvalidation_0-error:0.04237\tvalidation_1-error:0.04457\n",
      "[622]\tvalidation_0-error:0.04236\tvalidation_1-error:0.04457\n",
      "[623]\tvalidation_0-error:0.04236\tvalidation_1-error:0.04457\n",
      "[624]\tvalidation_0-error:0.04236\tvalidation_1-error:0.04457\n",
      "[625]\tvalidation_0-error:0.04236\tvalidation_1-error:0.04457\n",
      "[626]\tvalidation_0-error:0.04237\tvalidation_1-error:0.04457\n",
      "[627]\tvalidation_0-error:0.04237\tvalidation_1-error:0.04457\n",
      "[628]\tvalidation_0-error:0.04237\tvalidation_1-error:0.04457\n",
      "[629]\tvalidation_0-error:0.04237\tvalidation_1-error:0.04457\n",
      "[630]\tvalidation_0-error:0.04237\tvalidation_1-error:0.04457\n",
      "[631]\tvalidation_0-error:0.04237\tvalidation_1-error:0.04457\n",
      "[632]\tvalidation_0-error:0.04237\tvalidation_1-error:0.04457\n",
      "[633]\tvalidation_0-error:0.04237\tvalidation_1-error:0.04457\n",
      "[634]\tvalidation_0-error:0.04237\tvalidation_1-error:0.04457\n",
      "[635]\tvalidation_0-error:0.04237\tvalidation_1-error:0.04457\n",
      "[636]\tvalidation_0-error:0.04237\tvalidation_1-error:0.04457\n",
      "[637]\tvalidation_0-error:0.04237\tvalidation_1-error:0.04457\n",
      "[638]\tvalidation_0-error:0.04237\tvalidation_1-error:0.04457\n",
      "[639]\tvalidation_0-error:0.04237\tvalidation_1-error:0.04457\n",
      "[640]\tvalidation_0-error:0.04237\tvalidation_1-error:0.04453\n",
      "[641]\tvalidation_0-error:0.04237\tvalidation_1-error:0.04453\n",
      "[642]\tvalidation_0-error:0.04237\tvalidation_1-error:0.04453\n",
      "[643]\tvalidation_0-error:0.04237\tvalidation_1-error:0.04453\n",
      "[644]\tvalidation_0-error:0.04237\tvalidation_1-error:0.04453\n",
      "[645]\tvalidation_0-error:0.04237\tvalidation_1-error:0.04453\n",
      "[646]\tvalidation_0-error:0.04237\tvalidation_1-error:0.04453\n",
      "[647]\tvalidation_0-error:0.04236\tvalidation_1-error:0.04453\n",
      "[648]\tvalidation_0-error:0.04236\tvalidation_1-error:0.04453\n",
      "[649]\tvalidation_0-error:0.04236\tvalidation_1-error:0.04453\n",
      "[650]\tvalidation_0-error:0.04236\tvalidation_1-error:0.04453\n",
      "[651]\tvalidation_0-error:0.04236\tvalidation_1-error:0.04453\n",
      "[652]\tvalidation_0-error:0.04236\tvalidation_1-error:0.04453\n",
      "[653]\tvalidation_0-error:0.04234\tvalidation_1-error:0.04453\n",
      "[654]\tvalidation_0-error:0.04234\tvalidation_1-error:0.04453\n",
      "[655]\tvalidation_0-error:0.04234\tvalidation_1-error:0.04453\n",
      "[656]\tvalidation_0-error:0.04234\tvalidation_1-error:0.04453\n",
      "[657]\tvalidation_0-error:0.04234\tvalidation_1-error:0.04453\n",
      "[658]\tvalidation_0-error:0.04234\tvalidation_1-error:0.04453\n",
      "[659]\tvalidation_0-error:0.04234\tvalidation_1-error:0.04453\n",
      "[660]\tvalidation_0-error:0.04234\tvalidation_1-error:0.04453\n",
      "[661]\tvalidation_0-error:0.04236\tvalidation_1-error:0.04453\n",
      "[662]\tvalidation_0-error:0.04234\tvalidation_1-error:0.04453\n",
      "[663]\tvalidation_0-error:0.04234\tvalidation_1-error:0.04453\n",
      "[664]\tvalidation_0-error:0.04234\tvalidation_1-error:0.04453\n",
      "[665]\tvalidation_0-error:0.04234\tvalidation_1-error:0.04453\n",
      "[666]\tvalidation_0-error:0.04234\tvalidation_1-error:0.04453\n",
      "[667]\tvalidation_0-error:0.04234\tvalidation_1-error:0.04453\n",
      "[668]\tvalidation_0-error:0.04233\tvalidation_1-error:0.04453\n",
      "[669]\tvalidation_0-error:0.04233\tvalidation_1-error:0.04453\n",
      "[670]\tvalidation_0-error:0.04236\tvalidation_1-error:0.04453\n",
      "[671]\tvalidation_0-error:0.04236\tvalidation_1-error:0.04453\n",
      "[672]\tvalidation_0-error:0.04236\tvalidation_1-error:0.04453\n",
      "[673]\tvalidation_0-error:0.04234\tvalidation_1-error:0.04453\n",
      "[674]\tvalidation_0-error:0.04234\tvalidation_1-error:0.04453\n",
      "[675]\tvalidation_0-error:0.04234\tvalidation_1-error:0.04453\n",
      "[676]\tvalidation_0-error:0.04234\tvalidation_1-error:0.04453\n",
      "[677]\tvalidation_0-error:0.04234\tvalidation_1-error:0.04453\n",
      "[678]\tvalidation_0-error:0.04233\tvalidation_1-error:0.04453\n",
      "[679]\tvalidation_0-error:0.04233\tvalidation_1-error:0.04453\n",
      "[680]\tvalidation_0-error:0.04233\tvalidation_1-error:0.04453\n",
      "[681]\tvalidation_0-error:0.04233\tvalidation_1-error:0.04453\n",
      "[682]\tvalidation_0-error:0.04233\tvalidation_1-error:0.04453\n",
      "[683]\tvalidation_0-error:0.04233\tvalidation_1-error:0.04453\n",
      "[684]\tvalidation_0-error:0.04233\tvalidation_1-error:0.04453\n",
      "[685]\tvalidation_0-error:0.04233\tvalidation_1-error:0.04453\n",
      "[686]\tvalidation_0-error:0.04233\tvalidation_1-error:0.04453\n"
     ]
    },
    {
     "name": "stdout",
     "output_type": "stream",
     "text": [
      "[687]\tvalidation_0-error:0.04233\tvalidation_1-error:0.04453\n",
      "[688]\tvalidation_0-error:0.04234\tvalidation_1-error:0.04453\n",
      "[689]\tvalidation_0-error:0.04234\tvalidation_1-error:0.04453\n",
      "[690]\tvalidation_0-error:0.04234\tvalidation_1-error:0.04453\n",
      "[691]\tvalidation_0-error:0.04234\tvalidation_1-error:0.04453\n",
      "[692]\tvalidation_0-error:0.04234\tvalidation_1-error:0.04453\n",
      "[693]\tvalidation_0-error:0.04234\tvalidation_1-error:0.04453\n",
      "[694]\tvalidation_0-error:0.04234\tvalidation_1-error:0.04453\n",
      "[695]\tvalidation_0-error:0.04234\tvalidation_1-error:0.04453\n",
      "[696]\tvalidation_0-error:0.04234\tvalidation_1-error:0.04453\n",
      "[697]\tvalidation_0-error:0.04234\tvalidation_1-error:0.04453\n",
      "[698]\tvalidation_0-error:0.04234\tvalidation_1-error:0.04453\n",
      "[699]\tvalidation_0-error:0.04234\tvalidation_1-error:0.04453\n",
      "[700]\tvalidation_0-error:0.04234\tvalidation_1-error:0.04453\n",
      "[701]\tvalidation_0-error:0.04233\tvalidation_1-error:0.04453\n",
      "[702]\tvalidation_0-error:0.04233\tvalidation_1-error:0.04453\n",
      "[703]\tvalidation_0-error:0.04233\tvalidation_1-error:0.04453\n",
      "[704]\tvalidation_0-error:0.04233\tvalidation_1-error:0.04453\n",
      "[705]\tvalidation_0-error:0.04232\tvalidation_1-error:0.04453\n",
      "[706]\tvalidation_0-error:0.04231\tvalidation_1-error:0.04453\n",
      "[707]\tvalidation_0-error:0.04230\tvalidation_1-error:0.04453\n",
      "[708]\tvalidation_0-error:0.04230\tvalidation_1-error:0.04453\n",
      "[709]\tvalidation_0-error:0.04230\tvalidation_1-error:0.04453\n",
      "[710]\tvalidation_0-error:0.04230\tvalidation_1-error:0.04453\n",
      "[711]\tvalidation_0-error:0.04230\tvalidation_1-error:0.04453\n",
      "[712]\tvalidation_0-error:0.04230\tvalidation_1-error:0.04453\n",
      "[713]\tvalidation_0-error:0.04230\tvalidation_1-error:0.04453\n",
      "[714]\tvalidation_0-error:0.04230\tvalidation_1-error:0.04453\n",
      "[715]\tvalidation_0-error:0.04230\tvalidation_1-error:0.04453\n",
      "[716]\tvalidation_0-error:0.04230\tvalidation_1-error:0.04453\n",
      "[717]\tvalidation_0-error:0.04230\tvalidation_1-error:0.04453\n",
      "[718]\tvalidation_0-error:0.04229\tvalidation_1-error:0.04453\n",
      "[719]\tvalidation_0-error:0.04229\tvalidation_1-error:0.04453\n",
      "[720]\tvalidation_0-error:0.04228\tvalidation_1-error:0.04453\n",
      "[721]\tvalidation_0-error:0.04228\tvalidation_1-error:0.04453\n",
      "[722]\tvalidation_0-error:0.04227\tvalidation_1-error:0.04453\n",
      "[723]\tvalidation_0-error:0.04227\tvalidation_1-error:0.04453\n",
      "[724]\tvalidation_0-error:0.04227\tvalidation_1-error:0.04453\n",
      "[725]\tvalidation_0-error:0.04227\tvalidation_1-error:0.04453\n",
      "[726]\tvalidation_0-error:0.04227\tvalidation_1-error:0.04453\n",
      "[727]\tvalidation_0-error:0.04227\tvalidation_1-error:0.04453\n",
      "[728]\tvalidation_0-error:0.04227\tvalidation_1-error:0.04453\n",
      "[729]\tvalidation_0-error:0.04223\tvalidation_1-error:0.04453\n",
      "[730]\tvalidation_0-error:0.04223\tvalidation_1-error:0.04453\n",
      "[731]\tvalidation_0-error:0.04223\tvalidation_1-error:0.04453\n",
      "[732]\tvalidation_0-error:0.04223\tvalidation_1-error:0.04453\n",
      "[733]\tvalidation_0-error:0.04224\tvalidation_1-error:0.04453\n",
      "[734]\tvalidation_0-error:0.04224\tvalidation_1-error:0.04453\n",
      "[735]\tvalidation_0-error:0.04224\tvalidation_1-error:0.04453\n",
      "[736]\tvalidation_0-error:0.04224\tvalidation_1-error:0.04453\n",
      "[737]\tvalidation_0-error:0.04224\tvalidation_1-error:0.04453\n",
      "[738]\tvalidation_0-error:0.04224\tvalidation_1-error:0.04453\n",
      "[739]\tvalidation_0-error:0.04224\tvalidation_1-error:0.04453\n",
      "[740]\tvalidation_0-error:0.04224\tvalidation_1-error:0.04453\n",
      "[741]\tvalidation_0-error:0.04224\tvalidation_1-error:0.04453\n",
      "[742]\tvalidation_0-error:0.04224\tvalidation_1-error:0.04453\n",
      "[743]\tvalidation_0-error:0.04223\tvalidation_1-error:0.04453\n",
      "[744]\tvalidation_0-error:0.04223\tvalidation_1-error:0.04453\n",
      "[745]\tvalidation_0-error:0.04223\tvalidation_1-error:0.04453\n",
      "[746]\tvalidation_0-error:0.04223\tvalidation_1-error:0.04453\n",
      "[747]\tvalidation_0-error:0.04223\tvalidation_1-error:0.04453\n",
      "[748]\tvalidation_0-error:0.04223\tvalidation_1-error:0.04453\n",
      "[749]\tvalidation_0-error:0.04223\tvalidation_1-error:0.04453\n",
      "[750]\tvalidation_0-error:0.04223\tvalidation_1-error:0.04453\n",
      "[751]\tvalidation_0-error:0.04223\tvalidation_1-error:0.04453\n",
      "[752]\tvalidation_0-error:0.04223\tvalidation_1-error:0.04453\n",
      "[753]\tvalidation_0-error:0.04223\tvalidation_1-error:0.04453\n",
      "[754]\tvalidation_0-error:0.04223\tvalidation_1-error:0.04453\n",
      "[755]\tvalidation_0-error:0.04223\tvalidation_1-error:0.04453\n",
      "[756]\tvalidation_0-error:0.04223\tvalidation_1-error:0.04453\n",
      "[757]\tvalidation_0-error:0.04222\tvalidation_1-error:0.04453\n",
      "[758]\tvalidation_0-error:0.04222\tvalidation_1-error:0.04453\n",
      "[759]\tvalidation_0-error:0.04222\tvalidation_1-error:0.04453\n",
      "[760]\tvalidation_0-error:0.04222\tvalidation_1-error:0.04453\n",
      "[761]\tvalidation_0-error:0.04222\tvalidation_1-error:0.04450\n",
      "[762]\tvalidation_0-error:0.04222\tvalidation_1-error:0.04450\n",
      "[763]\tvalidation_0-error:0.04222\tvalidation_1-error:0.04450\n",
      "[764]\tvalidation_0-error:0.04221\tvalidation_1-error:0.04450\n",
      "[765]\tvalidation_0-error:0.04221\tvalidation_1-error:0.04450\n",
      "[766]\tvalidation_0-error:0.04221\tvalidation_1-error:0.04450\n",
      "[767]\tvalidation_0-error:0.04220\tvalidation_1-error:0.04450\n",
      "[768]\tvalidation_0-error:0.04220\tvalidation_1-error:0.04450\n",
      "[769]\tvalidation_0-error:0.04219\tvalidation_1-error:0.04450\n",
      "[770]\tvalidation_0-error:0.04219\tvalidation_1-error:0.04450\n",
      "[771]\tvalidation_0-error:0.04219\tvalidation_1-error:0.04450\n",
      "[772]\tvalidation_0-error:0.04220\tvalidation_1-error:0.04450\n",
      "[773]\tvalidation_0-error:0.04220\tvalidation_1-error:0.04450\n",
      "[774]\tvalidation_0-error:0.04219\tvalidation_1-error:0.04450\n",
      "[775]\tvalidation_0-error:0.04219\tvalidation_1-error:0.04450\n",
      "[776]\tvalidation_0-error:0.04219\tvalidation_1-error:0.04450\n",
      "[777]\tvalidation_0-error:0.04219\tvalidation_1-error:0.04450\n",
      "[778]\tvalidation_0-error:0.04219\tvalidation_1-error:0.04450\n",
      "[779]\tvalidation_0-error:0.04218\tvalidation_1-error:0.04450\n",
      "[780]\tvalidation_0-error:0.04218\tvalidation_1-error:0.04450\n",
      "[781]\tvalidation_0-error:0.04218\tvalidation_1-error:0.04450\n",
      "[782]\tvalidation_0-error:0.04218\tvalidation_1-error:0.04450\n",
      "[783]\tvalidation_0-error:0.04217\tvalidation_1-error:0.04450\n",
      "[784]\tvalidation_0-error:0.04217\tvalidation_1-error:0.04450\n",
      "[785]\tvalidation_0-error:0.04217\tvalidation_1-error:0.04450\n",
      "[786]\tvalidation_0-error:0.04216\tvalidation_1-error:0.04450\n",
      "[787]\tvalidation_0-error:0.04216\tvalidation_1-error:0.04450\n",
      "[788]\tvalidation_0-error:0.04216\tvalidation_1-error:0.04450\n",
      "[789]\tvalidation_0-error:0.04216\tvalidation_1-error:0.04450\n",
      "[790]\tvalidation_0-error:0.04216\tvalidation_1-error:0.04453\n",
      "[791]\tvalidation_0-error:0.04216\tvalidation_1-error:0.04453\n",
      "[792]\tvalidation_0-error:0.04216\tvalidation_1-error:0.04453\n",
      "[793]\tvalidation_0-error:0.04216\tvalidation_1-error:0.04453\n",
      "[794]\tvalidation_0-error:0.04216\tvalidation_1-error:0.04453\n",
      "[795]\tvalidation_0-error:0.04216\tvalidation_1-error:0.04453\n",
      "[796]\tvalidation_0-error:0.04216\tvalidation_1-error:0.04453\n",
      "[797]\tvalidation_0-error:0.04216\tvalidation_1-error:0.04453\n",
      "[798]\tvalidation_0-error:0.04216\tvalidation_1-error:0.04453\n",
      "[799]\tvalidation_0-error:0.04216\tvalidation_1-error:0.04450\n",
      "[800]\tvalidation_0-error:0.04216\tvalidation_1-error:0.04450\n",
      "[801]\tvalidation_0-error:0.04216\tvalidation_1-error:0.04453\n",
      "[802]\tvalidation_0-error:0.04216\tvalidation_1-error:0.04453\n",
      "[803]\tvalidation_0-error:0.04216\tvalidation_1-error:0.04450\n",
      "[804]\tvalidation_0-error:0.04216\tvalidation_1-error:0.04450\n",
      "[805]\tvalidation_0-error:0.04216\tvalidation_1-error:0.04450\n",
      "[806]\tvalidation_0-error:0.04216\tvalidation_1-error:0.04450\n",
      "[807]\tvalidation_0-error:0.04216\tvalidation_1-error:0.04450\n",
      "[808]\tvalidation_0-error:0.04216\tvalidation_1-error:0.04450\n",
      "[809]\tvalidation_0-error:0.04216\tvalidation_1-error:0.04450\n",
      "[810]\tvalidation_0-error:0.04216\tvalidation_1-error:0.04453\n",
      "[811]\tvalidation_0-error:0.04216\tvalidation_1-error:0.04453\n",
      "[812]\tvalidation_0-error:0.04213\tvalidation_1-error:0.04453\n",
      "[813]\tvalidation_0-error:0.04213\tvalidation_1-error:0.04453\n",
      "[814]\tvalidation_0-error:0.04213\tvalidation_1-error:0.04453\n",
      "[815]\tvalidation_0-error:0.04213\tvalidation_1-error:0.04453\n",
      "[816]\tvalidation_0-error:0.04213\tvalidation_1-error:0.04453\n",
      "[817]\tvalidation_0-error:0.04213\tvalidation_1-error:0.04453\n",
      "[818]\tvalidation_0-error:0.04213\tvalidation_1-error:0.04453\n",
      "[819]\tvalidation_0-error:0.04213\tvalidation_1-error:0.04453\n",
      "[820]\tvalidation_0-error:0.04213\tvalidation_1-error:0.04453\n",
      "[821]\tvalidation_0-error:0.04213\tvalidation_1-error:0.04453\n",
      "[822]\tvalidation_0-error:0.04213\tvalidation_1-error:0.04453\n",
      "[823]\tvalidation_0-error:0.04213\tvalidation_1-error:0.04453\n"
     ]
    },
    {
     "name": "stdout",
     "output_type": "stream",
     "text": [
      "[824]\tvalidation_0-error:0.04213\tvalidation_1-error:0.04457\n",
      "[825]\tvalidation_0-error:0.04213\tvalidation_1-error:0.04457\n",
      "[826]\tvalidation_0-error:0.04213\tvalidation_1-error:0.04457\n",
      "[827]\tvalidation_0-error:0.04213\tvalidation_1-error:0.04457\n",
      "[828]\tvalidation_0-error:0.04213\tvalidation_1-error:0.04457\n",
      "[829]\tvalidation_0-error:0.04213\tvalidation_1-error:0.04457\n",
      "[830]\tvalidation_0-error:0.04213\tvalidation_1-error:0.04457\n",
      "[831]\tvalidation_0-error:0.04212\tvalidation_1-error:0.04457\n",
      "[832]\tvalidation_0-error:0.04212\tvalidation_1-error:0.04453\n",
      "[833]\tvalidation_0-error:0.04212\tvalidation_1-error:0.04453\n",
      "[834]\tvalidation_0-error:0.04212\tvalidation_1-error:0.04453\n",
      "[835]\tvalidation_0-error:0.04212\tvalidation_1-error:0.04453\n",
      "[836]\tvalidation_0-error:0.04212\tvalidation_1-error:0.04453\n",
      "[837]\tvalidation_0-error:0.04212\tvalidation_1-error:0.04457\n",
      "[838]\tvalidation_0-error:0.04212\tvalidation_1-error:0.04457\n",
      "[839]\tvalidation_0-error:0.04212\tvalidation_1-error:0.04457\n",
      "[840]\tvalidation_0-error:0.04211\tvalidation_1-error:0.04457\n",
      "[841]\tvalidation_0-error:0.04210\tvalidation_1-error:0.04457\n",
      "[842]\tvalidation_0-error:0.04210\tvalidation_1-error:0.04457\n",
      "[843]\tvalidation_0-error:0.04210\tvalidation_1-error:0.04457\n",
      "[844]\tvalidation_0-error:0.04210\tvalidation_1-error:0.04457\n",
      "[845]\tvalidation_0-error:0.04210\tvalidation_1-error:0.04457\n",
      "[846]\tvalidation_0-error:0.04210\tvalidation_1-error:0.04457\n",
      "[847]\tvalidation_0-error:0.04210\tvalidation_1-error:0.04457\n",
      "[848]\tvalidation_0-error:0.04210\tvalidation_1-error:0.04457\n",
      "[849]\tvalidation_0-error:0.04210\tvalidation_1-error:0.04457\n",
      "[850]\tvalidation_0-error:0.04210\tvalidation_1-error:0.04457\n",
      "[851]\tvalidation_0-error:0.04210\tvalidation_1-error:0.04457\n",
      "[852]\tvalidation_0-error:0.04210\tvalidation_1-error:0.04457\n",
      "[853]\tvalidation_0-error:0.04210\tvalidation_1-error:0.04457\n",
      "[854]\tvalidation_0-error:0.04209\tvalidation_1-error:0.04457\n",
      "[855]\tvalidation_0-error:0.04209\tvalidation_1-error:0.04457\n",
      "[856]\tvalidation_0-error:0.04209\tvalidation_1-error:0.04457\n",
      "[857]\tvalidation_0-error:0.04209\tvalidation_1-error:0.04457\n",
      "[858]\tvalidation_0-error:0.04209\tvalidation_1-error:0.04457\n",
      "[859]\tvalidation_0-error:0.04209\tvalidation_1-error:0.04457\n",
      "[860]\tvalidation_0-error:0.04209\tvalidation_1-error:0.04457\n",
      "[861]\tvalidation_0-error:0.04209\tvalidation_1-error:0.04457\n",
      "[862]\tvalidation_0-error:0.04209\tvalidation_1-error:0.04457\n",
      "[863]\tvalidation_0-error:0.04209\tvalidation_1-error:0.04457\n",
      "[864]\tvalidation_0-error:0.04209\tvalidation_1-error:0.04457\n",
      "[865]\tvalidation_0-error:0.04209\tvalidation_1-error:0.04457\n",
      "[866]\tvalidation_0-error:0.04209\tvalidation_1-error:0.04457\n",
      "[867]\tvalidation_0-error:0.04209\tvalidation_1-error:0.04457\n",
      "[868]\tvalidation_0-error:0.04208\tvalidation_1-error:0.04457\n",
      "[869]\tvalidation_0-error:0.04208\tvalidation_1-error:0.04457\n",
      "[870]\tvalidation_0-error:0.04208\tvalidation_1-error:0.04457\n",
      "[871]\tvalidation_0-error:0.04208\tvalidation_1-error:0.04457\n",
      "[872]\tvalidation_0-error:0.04209\tvalidation_1-error:0.04457\n",
      "[873]\tvalidation_0-error:0.04209\tvalidation_1-error:0.04460\n",
      "[874]\tvalidation_0-error:0.04209\tvalidation_1-error:0.04460\n",
      "[875]\tvalidation_0-error:0.04209\tvalidation_1-error:0.04460\n",
      "[876]\tvalidation_0-error:0.04208\tvalidation_1-error:0.04460\n",
      "[877]\tvalidation_0-error:0.04208\tvalidation_1-error:0.04460\n",
      "[878]\tvalidation_0-error:0.04208\tvalidation_1-error:0.04460\n",
      "[879]\tvalidation_0-error:0.04207\tvalidation_1-error:0.04460\n",
      "[880]\tvalidation_0-error:0.04207\tvalidation_1-error:0.04460\n",
      "[881]\tvalidation_0-error:0.04207\tvalidation_1-error:0.04460\n",
      "[882]\tvalidation_0-error:0.04207\tvalidation_1-error:0.04460\n",
      "[883]\tvalidation_0-error:0.04207\tvalidation_1-error:0.04460\n",
      "[884]\tvalidation_0-error:0.04207\tvalidation_1-error:0.04460\n",
      "[885]\tvalidation_0-error:0.04207\tvalidation_1-error:0.04463\n",
      "[886]\tvalidation_0-error:0.04207\tvalidation_1-error:0.04463\n",
      "[887]\tvalidation_0-error:0.04207\tvalidation_1-error:0.04463\n",
      "[888]\tvalidation_0-error:0.04207\tvalidation_1-error:0.04463\n",
      "[889]\tvalidation_0-error:0.04207\tvalidation_1-error:0.04463\n",
      "[890]\tvalidation_0-error:0.04207\tvalidation_1-error:0.04463\n",
      "[891]\tvalidation_0-error:0.04207\tvalidation_1-error:0.04460\n",
      "[892]\tvalidation_0-error:0.04207\tvalidation_1-error:0.04460\n",
      "[893]\tvalidation_0-error:0.04207\tvalidation_1-error:0.04460\n",
      "[894]\tvalidation_0-error:0.04207\tvalidation_1-error:0.04460\n",
      "[895]\tvalidation_0-error:0.04207\tvalidation_1-error:0.04460\n",
      "[896]\tvalidation_0-error:0.04207\tvalidation_1-error:0.04460\n",
      "[897]\tvalidation_0-error:0.04207\tvalidation_1-error:0.04460\n",
      "[898]\tvalidation_0-error:0.04207\tvalidation_1-error:0.04460\n",
      "[899]\tvalidation_0-error:0.04206\tvalidation_1-error:0.04460\n",
      "[900]\tvalidation_0-error:0.04206\tvalidation_1-error:0.04460\n",
      "[901]\tvalidation_0-error:0.04206\tvalidation_1-error:0.04460\n",
      "[902]\tvalidation_0-error:0.04206\tvalidation_1-error:0.04460\n",
      "[903]\tvalidation_0-error:0.04206\tvalidation_1-error:0.04460\n",
      "[904]\tvalidation_0-error:0.04206\tvalidation_1-error:0.04460\n",
      "[905]\tvalidation_0-error:0.04206\tvalidation_1-error:0.04460\n",
      "[906]\tvalidation_0-error:0.04204\tvalidation_1-error:0.04460\n",
      "[907]\tvalidation_0-error:0.04204\tvalidation_1-error:0.04460\n",
      "[908]\tvalidation_0-error:0.04204\tvalidation_1-error:0.04460\n",
      "[909]\tvalidation_0-error:0.04204\tvalidation_1-error:0.04460\n",
      "[910]\tvalidation_0-error:0.04204\tvalidation_1-error:0.04460\n",
      "[911]\tvalidation_0-error:0.04204\tvalidation_1-error:0.04460\n",
      "[912]\tvalidation_0-error:0.04204\tvalidation_1-error:0.04460\n",
      "[913]\tvalidation_0-error:0.04204\tvalidation_1-error:0.04460\n",
      "[914]\tvalidation_0-error:0.04204\tvalidation_1-error:0.04460\n",
      "[915]\tvalidation_0-error:0.04203\tvalidation_1-error:0.04460\n",
      "[916]\tvalidation_0-error:0.04203\tvalidation_1-error:0.04460\n",
      "[917]\tvalidation_0-error:0.04203\tvalidation_1-error:0.04460\n",
      "[918]\tvalidation_0-error:0.04203\tvalidation_1-error:0.04460\n",
      "[919]\tvalidation_0-error:0.04203\tvalidation_1-error:0.04460\n",
      "[920]\tvalidation_0-error:0.04203\tvalidation_1-error:0.04460\n",
      "[921]\tvalidation_0-error:0.04203\tvalidation_1-error:0.04460\n",
      "[922]\tvalidation_0-error:0.04203\tvalidation_1-error:0.04460\n",
      "[923]\tvalidation_0-error:0.04203\tvalidation_1-error:0.04460\n",
      "[924]\tvalidation_0-error:0.04202\tvalidation_1-error:0.04460\n",
      "[925]\tvalidation_0-error:0.04203\tvalidation_1-error:0.04460\n",
      "[926]\tvalidation_0-error:0.04201\tvalidation_1-error:0.04460\n",
      "[927]\tvalidation_0-error:0.04201\tvalidation_1-error:0.04460\n",
      "[928]\tvalidation_0-error:0.04201\tvalidation_1-error:0.04460\n",
      "[929]\tvalidation_0-error:0.04202\tvalidation_1-error:0.04460\n",
      "[930]\tvalidation_0-error:0.04202\tvalidation_1-error:0.04460\n",
      "[931]\tvalidation_0-error:0.04202\tvalidation_1-error:0.04460\n",
      "[932]\tvalidation_0-error:0.04202\tvalidation_1-error:0.04460\n",
      "[933]\tvalidation_0-error:0.04202\tvalidation_1-error:0.04460\n",
      "[934]\tvalidation_0-error:0.04202\tvalidation_1-error:0.04460\n",
      "[935]\tvalidation_0-error:0.04201\tvalidation_1-error:0.04460\n",
      "[936]\tvalidation_0-error:0.04201\tvalidation_1-error:0.04460\n",
      "[937]\tvalidation_0-error:0.04201\tvalidation_1-error:0.04460\n",
      "[938]\tvalidation_0-error:0.04201\tvalidation_1-error:0.04460\n",
      "[939]\tvalidation_0-error:0.04201\tvalidation_1-error:0.04460\n",
      "[940]\tvalidation_0-error:0.04201\tvalidation_1-error:0.04460\n",
      "[941]\tvalidation_0-error:0.04201\tvalidation_1-error:0.04460\n",
      "[942]\tvalidation_0-error:0.04201\tvalidation_1-error:0.04460\n",
      "[943]\tvalidation_0-error:0.04200\tvalidation_1-error:0.04460\n",
      "[944]\tvalidation_0-error:0.04200\tvalidation_1-error:0.04460\n",
      "[945]\tvalidation_0-error:0.04200\tvalidation_1-error:0.04460\n",
      "[946]\tvalidation_0-error:0.04200\tvalidation_1-error:0.04460\n",
      "[947]\tvalidation_0-error:0.04200\tvalidation_1-error:0.04460\n",
      "[948]\tvalidation_0-error:0.04200\tvalidation_1-error:0.04460\n",
      "[949]\tvalidation_0-error:0.04200\tvalidation_1-error:0.04460\n",
      "[950]\tvalidation_0-error:0.04200\tvalidation_1-error:0.04460\n",
      "[951]\tvalidation_0-error:0.04199\tvalidation_1-error:0.04460\n",
      "[952]\tvalidation_0-error:0.04199\tvalidation_1-error:0.04460\n",
      "[953]\tvalidation_0-error:0.04199\tvalidation_1-error:0.04460\n",
      "[954]\tvalidation_0-error:0.04199\tvalidation_1-error:0.04460\n",
      "[955]\tvalidation_0-error:0.04199\tvalidation_1-error:0.04460\n",
      "[956]\tvalidation_0-error:0.04199\tvalidation_1-error:0.04460\n",
      "[957]\tvalidation_0-error:0.04199\tvalidation_1-error:0.04460\n",
      "[958]\tvalidation_0-error:0.04198\tvalidation_1-error:0.04460\n",
      "[959]\tvalidation_0-error:0.04198\tvalidation_1-error:0.04460\n",
      "[960]\tvalidation_0-error:0.04197\tvalidation_1-error:0.04460\n"
     ]
    },
    {
     "name": "stdout",
     "output_type": "stream",
     "text": [
      "[961]\tvalidation_0-error:0.04197\tvalidation_1-error:0.04460\n",
      "[962]\tvalidation_0-error:0.04196\tvalidation_1-error:0.04463\n",
      "[963]\tvalidation_0-error:0.04196\tvalidation_1-error:0.04463\n",
      "[964]\tvalidation_0-error:0.04196\tvalidation_1-error:0.04463\n",
      "[965]\tvalidation_0-error:0.04194\tvalidation_1-error:0.04463\n",
      "[966]\tvalidation_0-error:0.04193\tvalidation_1-error:0.04463\n",
      "[967]\tvalidation_0-error:0.04193\tvalidation_1-error:0.04463\n",
      "[968]\tvalidation_0-error:0.04193\tvalidation_1-error:0.04460\n",
      "[969]\tvalidation_0-error:0.04193\tvalidation_1-error:0.04460\n",
      "[970]\tvalidation_0-error:0.04193\tvalidation_1-error:0.04460\n",
      "[971]\tvalidation_0-error:0.04193\tvalidation_1-error:0.04460\n",
      "[972]\tvalidation_0-error:0.04192\tvalidation_1-error:0.04460\n",
      "[973]\tvalidation_0-error:0.04192\tvalidation_1-error:0.04460\n",
      "[974]\tvalidation_0-error:0.04192\tvalidation_1-error:0.04460\n",
      "[975]\tvalidation_0-error:0.04192\tvalidation_1-error:0.04460\n",
      "[976]\tvalidation_0-error:0.04192\tvalidation_1-error:0.04460\n",
      "[977]\tvalidation_0-error:0.04192\tvalidation_1-error:0.04460\n",
      "[978]\tvalidation_0-error:0.04192\tvalidation_1-error:0.04460\n",
      "[979]\tvalidation_0-error:0.04192\tvalidation_1-error:0.04460\n",
      "[980]\tvalidation_0-error:0.04192\tvalidation_1-error:0.04460\n",
      "[981]\tvalidation_0-error:0.04192\tvalidation_1-error:0.04460\n",
      "[982]\tvalidation_0-error:0.04192\tvalidation_1-error:0.04460\n",
      "[983]\tvalidation_0-error:0.04192\tvalidation_1-error:0.04460\n",
      "[984]\tvalidation_0-error:0.04192\tvalidation_1-error:0.04460\n",
      "[985]\tvalidation_0-error:0.04192\tvalidation_1-error:0.04460\n",
      "[986]\tvalidation_0-error:0.04192\tvalidation_1-error:0.04460\n",
      "[987]\tvalidation_0-error:0.04192\tvalidation_1-error:0.04460\n",
      "[988]\tvalidation_0-error:0.04193\tvalidation_1-error:0.04460\n",
      "[989]\tvalidation_0-error:0.04192\tvalidation_1-error:0.04460\n",
      "[990]\tvalidation_0-error:0.04192\tvalidation_1-error:0.04460\n",
      "[991]\tvalidation_0-error:0.04189\tvalidation_1-error:0.04460\n",
      "[992]\tvalidation_0-error:0.04189\tvalidation_1-error:0.04460\n",
      "[993]\tvalidation_0-error:0.04189\tvalidation_1-error:0.04460\n",
      "[994]\tvalidation_0-error:0.04189\tvalidation_1-error:0.04460\n",
      "[995]\tvalidation_0-error:0.04189\tvalidation_1-error:0.04460\n",
      "[996]\tvalidation_0-error:0.04189\tvalidation_1-error:0.04460\n",
      "[997]\tvalidation_0-error:0.04189\tvalidation_1-error:0.04460\n",
      "[998]\tvalidation_0-error:0.04189\tvalidation_1-error:0.04460\n",
      "[999]\tvalidation_0-error:0.04189\tvalidation_1-error:0.04460\n"
     ]
    },
    {
     "data": {
      "text/plain": [
       "XGBClassifier(base_score=0.5, booster='gbtree', colsample_bylevel=1,\n",
       "              colsample_bynode=1, colsample_bytree=1, enable_categorical=False,\n",
       "              gamma=0, gpu_id=-1, importance_type=None,\n",
       "              interaction_constraints='', learning_rate=0.01, max_delta_step=0,\n",
       "              max_depth=8, min_child_weight=1, missing=nan,\n",
       "              monotone_constraints='()', n_estimators=1000, n_jobs=4,\n",
       "              num_parallel_tree=1, predictor='auto', random_state=0,\n",
       "              reg_alpha=0, reg_lambda=1, scale_pos_weight=1, subsample=1,\n",
       "              tree_method='exact', validate_parameters=1, verbosity=None)"
      ]
     },
     "execution_count": 82,
     "metadata": {},
     "output_type": "execute_result"
    }
   ],
   "source": [
    "from xgboost.sklearn import XGBClassifier\n",
    "\n",
    "xgb_model = XGBClassifier(learning_rate=0.05, max_depth=6, n_estimators=250)\n",
    "xgb_model.fit(X_train, y_train, eval_metric=['error'], eval_set=[((X_train, y_train)),(X_test, y_test)])"
   ]
  },
  {
   "cell_type": "markdown",
   "metadata": {},
   "source": [
    "#### Performance metrics of interest & Validation results"
   ]
  },
  {
   "cell_type": "markdown",
   "metadata": {},
   "source": [
    "**Note :** This is the imbalanced data, so we can not use the normal metric to evaluate. I have used Precision, Recall, f1-score and 'roc_auc' to evaluate the model"
   ]
  },
  {
   "cell_type": "code",
   "execution_count": 107,
   "metadata": {},
   "outputs": [
    {
     "name": "stdout",
     "output_type": "stream",
     "text": [
      "confusion matrix\n",
      "[[27186    14]\n",
      " [ 1324  1476]]\n",
      "classification report\n",
      "              precision    recall  f1-score   support\n",
      "\n",
      "           0       0.95      1.00      0.98     27200\n",
      "           1       0.99      0.53      0.69      2800\n",
      "\n",
      "    accuracy                           0.96     30000\n",
      "   macro avg       0.97      0.76      0.83     30000\n",
      "weighted avg       0.96      0.96      0.95     30000\n",
      "\n",
      "-----------------------------------------------------------------------------------------\n",
      "Accuracy is :\n",
      "0.9554\n",
      "Area under the curve : 0.763314\n"
     ]
    }
   ],
   "source": [
    "ypred_xgb = xgb_model.predict(X_test)  #predicts\n",
    "print('confusion matrix')\n",
    "print(metrics.confusion_matrix(y_test, ypred_xgb))\n",
    "print('classification report')\n",
    "print(metrics.classification_report(y_test, ypred_xgb))\n",
    "print(\"-----------------------------------------------------------------------------------------\")\n",
    "print(\"Accuracy is :\")\n",
    "print(metrics.accuracy_score(y_test, ypred_xgb))\n",
    "print('Area under the curve : %f' % (metrics.roc_auc_score(y_test, ypred_xgb)))"
   ]
  },
  {
   "cell_type": "markdown",
   "metadata": {},
   "source": [
    "--------"
   ]
  },
  {
   "cell_type": "markdown",
   "metadata": {},
   "source": [
    "###### We will use 10 fold KFold Cross Validation to train the model for improving the area under the curve score for the Random Forest classifier"
   ]
  },
  {
   "cell_type": "code",
   "execution_count": 100,
   "metadata": {},
   "outputs": [],
   "source": [
    "# Evaluate every algorithms to find out the best one\n",
    "rfclf=RandomForestClassifier()\n",
    "xgbclf = XGBClassifier(learning_rate=0.05, max_depth=6, n_estimators=250, eval_metric='logloss')\n",
    "score=cross_val_score(xgbclf, X_train, y_train, cv=k_fold, n_jobs=1, scoring='roc_auc')"
   ]
  },
  {
   "cell_type": "code",
   "execution_count": 101,
   "metadata": {},
   "outputs": [
    {
     "name": "stdout",
     "output_type": "stream",
     "text": [
      "New Area under the curve : 0.830470\n"
     ]
    }
   ],
   "source": [
    "np.mean(score)\n",
    "print('New Area under the curve : %f' % (np.mean(score)))"
   ]
  },
  {
   "cell_type": "markdown",
   "metadata": {},
   "source": [
    "**Note :** ROC Curves summarize the trade-off between the true positive rate and false positive rate for a predictive model using different probability thresholds"
   ]
  },
  {
   "cell_type": "markdown",
   "metadata": {},
   "source": [
    "### Problem 9: Explain why you chose your model to move forward"
   ]
  },
  {
   "cell_type": "code",
   "execution_count": 55,
   "metadata": {},
   "outputs": [
    {
     "name": "stdout",
     "output_type": "stream",
     "text": [
      "\n",
      "I chose XGBoost Model because:\n",
      "1. The model performance metrics is better than other Classifiers\n",
      "2. It performed well because data was mixture numerical and categorical features\n",
      "3. XGBoost has in-built L1 and L2 regularization which prevents the model from overfitting\n",
      "4. Thus, this algorithm delivers high performance and accuracy as compared to other algorithms\n",
      "\n"
     ]
    }
   ],
   "source": [
    "print(\"\"\"\n",
    "I chose XGBoost Model because:\n",
    "1. The model performance metrics is better than other Classifiers after modeling on KFold Cross Validation\n",
    "2. It performs well because data was mixture numerical and categorical features\n",
    "3. XGBoost has in-built L1 and L2 regularization which prevents the model from overfitting\n",
    "4. Thus, this algorithm delivers high performance as compared to other algorithms\n",
    "\"\"\")"
   ]
  },
  {
   "cell_type": "markdown",
   "metadata": {},
   "source": [
    "### Problem 10: Next Steps\n",
    "Open-ended Question: What would you do to improve this model in data processing steps, feature engineering steps, and/or modeling stage? "
   ]
  },
  {
   "cell_type": "code",
   "execution_count": 111,
   "metadata": {},
   "outputs": [
    {
     "name": "stdout",
     "output_type": "stream",
     "text": [
      "\n",
      "Data Processing steps - The target is Imbalanced, below are the few steps in data wrangling which would improve this model :\n",
      "1) The more Fraudulent data for unseen variables and cases will help the model to perform better\n",
      "1) With same data, I would perform Oversampling (such as Random or SMOTE), for minority target variable\n",
      "2) Undersampling (such as Random, NearMiss or Undersampling with clustering) on the majority target variable can also be performed to improve efficiency\n",
      "\n",
      "Feature Engineering:\n",
      "1. I will find the Geo location using ipaddress and use this feature for modeling because there can be relation between this feature and target\n",
      "2. Remove features such as UserId and ipaddress because they are not important features\n",
      "\n",
      "Modeling:\n",
      "1. We can see an increase in AUC score. High AUC increases the chance that we will be able to find an optimal threshold that will satisfy these requirements. It can be further increased by performing Hyperparameter Tuning\n",
      "2. We need to do random sampling multiple times for training the model and then use it on the new data for better results\n",
      "\n",
      "\n"
     ]
    }
   ],
   "source": [
    "print(\"\"\"\n",
    "Data Processing steps - The target is Imbalanced, below are the few steps in data wrangling which would improve this model :\n",
    "1) The more Fraudulent data for unseen variables and cases will help the model to perform better\n",
    "1) With same data, I would perform Oversampling (such as Random or SMOTE), for minority target variable\n",
    "2) Undersampling (such as Random, NearMiss or Undersampling with clustering) on the majority target variable can also be performed to improve efficiency\n",
    "\n",
    "Feature Engineering:\n",
    "1. I will find the Geo location using ipaddress and use this feature for modeling because there can be relation between this feature and target\n",
    "2. Remove features which are not important such as UserId and ipaddress\n",
    "\n",
    "Modeling:\n",
    "1. We can see an increase in AUC score. High AUC increases the chance that we will be able to find an optimal threshold that will satisfy these requirements. It can be further optimized by performing Hyperparameter Tuning\n",
    "2. Next step would be to learn the bias parameter and fine-tuning the model by using a standard optimization metric\n",
    "\n",
    "\"\"\")"
   ]
  },
  {
   "cell_type": "code",
   "execution_count": null,
   "metadata": {},
   "outputs": [],
   "source": []
  }
 ],
 "metadata": {
  "kernelspec": {
   "display_name": "Python 3 (ipykernel)",
   "language": "python",
   "name": "python3"
  },
  "language_info": {
   "codemirror_mode": {
    "name": "ipython",
    "version": 3
   },
   "file_extension": ".py",
   "mimetype": "text/x-python",
   "name": "python",
   "nbconvert_exporter": "python",
   "pygments_lexer": "ipython3",
   "version": "3.9.7"
  }
 },
 "nbformat": 4,
 "nbformat_minor": 4
}
