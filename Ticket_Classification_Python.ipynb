{
 "cells": [
  {
   "cell_type": "markdown",
   "metadata": {},
   "source": [
    "# TICKET CLASSIFICATION"
   ]
  },
  {
   "cell_type": "markdown",
   "metadata": {},
   "source": [
    "### This project shows how to create a model for text analysis and classification and deploy order to automatically classify support tickets. This will streamline routing tickets process to correct team members\n"
   ]
  },
  {
   "cell_type": "code",
   "execution_count": 1,
   "metadata": {},
   "outputs": [
    {
     "name": "stdout",
     "output_type": "stream",
     "text": [
      "[nltk_data] Downloading package punkt to\n",
      "[nltk_data]     C:\\Users\\kaam8004\\AppData\\Roaming\\nltk_data...\n",
      "[nltk_data]   Package punkt is already up-to-date!\n",
      "[nltk_data] Downloading package wordnet to\n",
      "[nltk_data]     C:\\Users\\kaam8004\\AppData\\Roaming\\nltk_data...\n",
      "[nltk_data]   Package wordnet is already up-to-date!\n"
     ]
    },
    {
     "data": {
      "text/plain": [
       "True"
      ]
     },
     "execution_count": 1,
     "metadata": {},
     "output_type": "execute_result"
    }
   ],
   "source": [
    "# Importing Libraries\n",
    "import pandas as pd\n",
    "import numpy as np\n",
    "from sklearn import preprocessing\n",
    "from sklearn.model_selection import train_test_split\n",
    "from sklearn.feature_extraction.text import CountVectorizer, TfidfTransformer\n",
    "from sklearn.base import BaseEstimator, TransformerMixin\n",
    "from sklearn.pipeline import Pipeline, FeatureUnion \n",
    "from sklearn.naive_bayes import MultinomialNB\n",
    "import matplotlib.pyplot as plt\n",
    "from nltk.stem import PorterStemmer\n",
    "from nltk.tokenize import word_tokenize\n",
    "from nltk.stem import WordNetLemmatizer\n",
    "import nltk\n",
    "import xgboost as xgb\n",
    "from sklearn.metrics import accuracy_score\n",
    "from sklearn.metrics import precision_recall_fscore_support \n",
    "from sklearn.neighbors.base import KNeighborsMixin\n",
    "from imblearn.over_sampling import SMOTE \n",
    "from imblearn.pipeline import make_pipeline as make_pipeline_imb\n",
    "from xgboost import plot_tree\n",
    "import graphviz\n",
    "nltk.download('punkt')\n",
    "nltk.download('wordnet')\n"
   ]
  },
  {
   "cell_type": "markdown",
   "metadata": {},
   "source": [
    "#### Reading Ticket Data into a Dataframe"
   ]
  },
  {
   "cell_type": "code",
   "execution_count": 2,
   "metadata": {},
   "outputs": [],
   "source": [
    "# Reading Ticket Data into Dataframe\n",
    "ticketdata = pd.read_csv(r'C:\\Users\\kaam8004\\Desktop\\HARRY POTTER\\all_tickets_oversample.csv',keep_default_na=False)"
   ]
  },
  {
   "cell_type": "code",
   "execution_count": 3,
   "metadata": {},
   "outputs": [
    {
     "data": {
      "text/html": [
       "<div>\n",
       "<style scoped>\n",
       "    .dataframe tbody tr th:only-of-type {\n",
       "        vertical-align: middle;\n",
       "    }\n",
       "\n",
       "    .dataframe tbody tr th {\n",
       "        vertical-align: top;\n",
       "    }\n",
       "\n",
       "    .dataframe thead th {\n",
       "        text-align: right;\n",
       "    }\n",
       "</style>\n",
       "<table border=\"1\" class=\"dataframe\">\n",
       "  <thead>\n",
       "    <tr style=\"text-align: right;\">\n",
       "      <th></th>\n",
       "      <th>title</th>\n",
       "      <th>body</th>\n",
       "      <th>ticket_type</th>\n",
       "      <th>category</th>\n",
       "      <th>sub_category1</th>\n",
       "      <th>sub_category2</th>\n",
       "      <th>business_service</th>\n",
       "      <th>urgency</th>\n",
       "      <th>impact</th>\n",
       "    </tr>\n",
       "  </thead>\n",
       "  <tbody>\n",
       "    <tr>\n",
       "      <th>0</th>\n",
       "      <td></td>\n",
       "      <td>hi since recruiter lead permission approve req...</td>\n",
       "      <td>1</td>\n",
       "      <td>4</td>\n",
       "      <td>2</td>\n",
       "      <td>21</td>\n",
       "      <td>71</td>\n",
       "      <td>3</td>\n",
       "      <td>4</td>\n",
       "    </tr>\n",
       "    <tr>\n",
       "      <th>1</th>\n",
       "      <td>connection with icon</td>\n",
       "      <td>icon dear please setup icon per icon engineers...</td>\n",
       "      <td>1</td>\n",
       "      <td>6</td>\n",
       "      <td>22</td>\n",
       "      <td>7</td>\n",
       "      <td>26</td>\n",
       "      <td>3</td>\n",
       "      <td>4</td>\n",
       "    </tr>\n",
       "    <tr>\n",
       "      <th>2</th>\n",
       "      <td>work experience user</td>\n",
       "      <td>work experience user hi work experience studen...</td>\n",
       "      <td>1</td>\n",
       "      <td>5</td>\n",
       "      <td>13</td>\n",
       "      <td>7</td>\n",
       "      <td>32</td>\n",
       "      <td>3</td>\n",
       "      <td>4</td>\n",
       "    </tr>\n",
       "    <tr>\n",
       "      <th>3</th>\n",
       "      <td>requesting for meeting</td>\n",
       "      <td>requesting meeting hi please help follow equip...</td>\n",
       "      <td>1</td>\n",
       "      <td>5</td>\n",
       "      <td>13</td>\n",
       "      <td>7</td>\n",
       "      <td>32</td>\n",
       "      <td>3</td>\n",
       "      <td>4</td>\n",
       "    </tr>\n",
       "    <tr>\n",
       "      <th>4</th>\n",
       "      <td>reset passwords for external accounts</td>\n",
       "      <td>re expire days hi ask help update passwords co...</td>\n",
       "      <td>1</td>\n",
       "      <td>4</td>\n",
       "      <td>2</td>\n",
       "      <td>76</td>\n",
       "      <td>4</td>\n",
       "      <td>3</td>\n",
       "      <td>4</td>\n",
       "    </tr>\n",
       "  </tbody>\n",
       "</table>\n",
       "</div>"
      ],
      "text/plain": [
       "                                   title  \\\n",
       "0                                          \n",
       "1                   connection with icon   \n",
       "2                   work experience user   \n",
       "3                 requesting for meeting   \n",
       "4  reset passwords for external accounts   \n",
       "\n",
       "                                                body  ticket_type  category  \\\n",
       "0  hi since recruiter lead permission approve req...            1         4   \n",
       "1  icon dear please setup icon per icon engineers...            1         6   \n",
       "2  work experience user hi work experience studen...            1         5   \n",
       "3  requesting meeting hi please help follow equip...            1         5   \n",
       "4  re expire days hi ask help update passwords co...            1         4   \n",
       "\n",
       "   sub_category1  sub_category2  business_service  urgency  impact  \n",
       "0              2             21                71        3       4  \n",
       "1             22              7                26        3       4  \n",
       "2             13              7                32        3       4  \n",
       "3             13              7                32        3       4  \n",
       "4              2             76                 4        3       4  "
      ]
     },
     "execution_count": 3,
     "metadata": {},
     "output_type": "execute_result"
    }
   ],
   "source": [
    "ticketdata.head()"
   ]
  },
  {
   "cell_type": "markdown",
   "metadata": {},
   "source": [
    "#### Distribution of Target variable 'Category' in the data after oversampling"
   ]
  },
  {
   "cell_type": "code",
   "execution_count": 4,
   "metadata": {},
   "outputs": [
    {
     "data": {
      "image/png": "[encoded data removed]",
      "text/plain": [
       "<Figure size 432x288 with 1 Axes>"
      ]
     },
     "metadata": {
      "needs_background": "light"
     },
     "output_type": "display_data"
    }
   ],
   "source": [
    "# Distribution of label in different categories\n",
    "ticketdata[['ticket_type','category']].groupby('category').count().plot.bar()\n",
    "plt.show()"
   ]
  },
  {
   "cell_type": "code",
   "execution_count": 5,
   "metadata": {},
   "outputs": [],
   "source": [
    "# Saving Category into Y\n",
    "Y = ticketdata['category'].copy()\n",
    "ticketdata_df = ticketdata.drop(columns='category')"
   ]
  },
  {
   "cell_type": "code",
   "execution_count": 6,
   "metadata": {},
   "outputs": [],
   "source": [
    "# Create Single Column from title and body\n",
    "ticketdata_df['Email_Thread'] = ticketdata_df.title.astype(str).str.cat(ticketdata_df.body.astype(str), sep=' ')\n",
    "ticketdata_df.drop(['title','body'], axis = 1, inplace=True)"
   ]
  },
  {
   "cell_type": "code",
   "execution_count": 7,
   "metadata": {
    "collapsed": true
   },
   "outputs": [
    {
     "data": {
      "text/html": [
       "<div>\n",
       "<style scoped>\n",
       "    .dataframe tbody tr th:only-of-type {\n",
       "        vertical-align: middle;\n",
       "    }\n",
       "\n",
       "    .dataframe tbody tr th {\n",
       "        vertical-align: top;\n",
       "    }\n",
       "\n",
       "    .dataframe thead th {\n",
       "        text-align: right;\n",
       "    }\n",
       "</style>\n",
       "<table border=\"1\" class=\"dataframe\">\n",
       "  <thead>\n",
       "    <tr style=\"text-align: right;\">\n",
       "      <th></th>\n",
       "      <th>ticket_type</th>\n",
       "      <th>business_service</th>\n",
       "      <th>urgency</th>\n",
       "      <th>impact</th>\n",
       "      <th>Email_Thread</th>\n",
       "    </tr>\n",
       "  </thead>\n",
       "  <tbody>\n",
       "    <tr>\n",
       "      <th>0</th>\n",
       "      <td>1</td>\n",
       "      <td>71</td>\n",
       "      <td>3</td>\n",
       "      <td>4</td>\n",
       "      <td>hi since recruiter lead permission approve re...</td>\n",
       "    </tr>\n",
       "    <tr>\n",
       "      <th>1</th>\n",
       "      <td>1</td>\n",
       "      <td>26</td>\n",
       "      <td>3</td>\n",
       "      <td>4</td>\n",
       "      <td>connection with icon icon dear please setup ic...</td>\n",
       "    </tr>\n",
       "    <tr>\n",
       "      <th>2</th>\n",
       "      <td>1</td>\n",
       "      <td>32</td>\n",
       "      <td>3</td>\n",
       "      <td>4</td>\n",
       "      <td>work experience user work experience user hi w...</td>\n",
       "    </tr>\n",
       "    <tr>\n",
       "      <th>3</th>\n",
       "      <td>1</td>\n",
       "      <td>32</td>\n",
       "      <td>3</td>\n",
       "      <td>4</td>\n",
       "      <td>requesting for meeting requesting meeting hi p...</td>\n",
       "    </tr>\n",
       "    <tr>\n",
       "      <th>4</th>\n",
       "      <td>1</td>\n",
       "      <td>4</td>\n",
       "      <td>3</td>\n",
       "      <td>4</td>\n",
       "      <td>reset passwords for external accounts re expir...</td>\n",
       "    </tr>\n",
       "  </tbody>\n",
       "</table>\n",
       "</div>"
      ],
      "text/plain": [
       "   ticket_type  business_service  urgency  impact  \\\n",
       "0            1                71        3       4   \n",
       "1            1                26        3       4   \n",
       "2            1                32        3       4   \n",
       "3            1                32        3       4   \n",
       "4            1                 4        3       4   \n",
       "\n",
       "                                        Email_Thread  \n",
       "0   hi since recruiter lead permission approve re...  \n",
       "1  connection with icon icon dear please setup ic...  \n",
       "2  work experience user work experience user hi w...  \n",
       "3  requesting for meeting requesting meeting hi p...  \n",
       "4  reset passwords for external accounts re expir...  "
      ]
     },
     "execution_count": 7,
     "metadata": {},
     "output_type": "execute_result"
    }
   ],
   "source": [
    "ticketdata_df.head()"
   ]
  },
  {
   "cell_type": "markdown",
   "metadata": {},
   "source": [
    "#### Creating function for Tokenizing and Stemming the Email_Thread"
   ]
  },
  {
   "cell_type": "code",
   "execution_count": 8,
   "metadata": {},
   "outputs": [],
   "source": [
    "# Convert word to its root \n",
    "ps = PorterStemmer()\n",
    "\n",
    "def tokenStem(text):\n",
    "    words = word_tokenize(text)\n",
    "    word=[ps.stem(item) for item in words if len(item) > 2]\n",
    "    return word"
   ]
  },
  {
   "cell_type": "code",
   "execution_count": 9,
   "metadata": {},
   "outputs": [
    {
     "data": {
      "text/html": [
       "<div>\n",
       "<style scoped>\n",
       "    .dataframe tbody tr th:only-of-type {\n",
       "        vertical-align: middle;\n",
       "    }\n",
       "\n",
       "    .dataframe tbody tr th {\n",
       "        vertical-align: top;\n",
       "    }\n",
       "\n",
       "    .dataframe thead th {\n",
       "        text-align: right;\n",
       "    }\n",
       "</style>\n",
       "<table border=\"1\" class=\"dataframe\">\n",
       "  <thead>\n",
       "    <tr style=\"text-align: right;\">\n",
       "      <th></th>\n",
       "      <th>ticket_type</th>\n",
       "      <th>business_service</th>\n",
       "      <th>urgency</th>\n",
       "      <th>impact</th>\n",
       "      <th>Email_Thread</th>\n",
       "    </tr>\n",
       "  </thead>\n",
       "  <tbody>\n",
       "    <tr>\n",
       "      <th>0</th>\n",
       "      <td>1</td>\n",
       "      <td>71</td>\n",
       "      <td>3</td>\n",
       "      <td>4</td>\n",
       "      <td>hi since recruiter lead permission approve re...</td>\n",
       "    </tr>\n",
       "    <tr>\n",
       "      <th>1</th>\n",
       "      <td>1</td>\n",
       "      <td>26</td>\n",
       "      <td>3</td>\n",
       "      <td>4</td>\n",
       "      <td>connection with icon icon dear please setup ic...</td>\n",
       "    </tr>\n",
       "    <tr>\n",
       "      <th>2</th>\n",
       "      <td>1</td>\n",
       "      <td>32</td>\n",
       "      <td>3</td>\n",
       "      <td>4</td>\n",
       "      <td>work experience user work experience user hi w...</td>\n",
       "    </tr>\n",
       "    <tr>\n",
       "      <th>3</th>\n",
       "      <td>1</td>\n",
       "      <td>32</td>\n",
       "      <td>3</td>\n",
       "      <td>4</td>\n",
       "      <td>requesting for meeting requesting meeting hi p...</td>\n",
       "    </tr>\n",
       "    <tr>\n",
       "      <th>4</th>\n",
       "      <td>1</td>\n",
       "      <td>4</td>\n",
       "      <td>3</td>\n",
       "      <td>4</td>\n",
       "      <td>reset passwords for external accounts re expir...</td>\n",
       "    </tr>\n",
       "  </tbody>\n",
       "</table>\n",
       "</div>"
      ],
      "text/plain": [
       "   ticket_type  business_service  urgency  impact  \\\n",
       "0            1                71        3       4   \n",
       "1            1                26        3       4   \n",
       "2            1                32        3       4   \n",
       "3            1                32        3       4   \n",
       "4            1                 4        3       4   \n",
       "\n",
       "                                        Email_Thread  \n",
       "0   hi since recruiter lead permission approve re...  \n",
       "1  connection with icon icon dear please setup ic...  \n",
       "2  work experience user work experience user hi w...  \n",
       "3  requesting for meeting requesting meeting hi p...  \n",
       "4  reset passwords for external accounts re expir...  "
      ]
     },
     "execution_count": 9,
     "metadata": {},
     "output_type": "execute_result"
    }
   ],
   "source": [
    "ticketdata_df.head()\n"
   ]
  },
  {
   "cell_type": "code",
   "execution_count": 11,
   "metadata": {},
   "outputs": [],
   "source": [
    "text_data = np.array(ticketdata_df['Email_Thread'])"
   ]
  },
  {
   "cell_type": "code",
   "execution_count": 12,
   "metadata": {
    "collapsed": true
   },
   "outputs": [
    {
     "data": {
      "text/plain": [
       "array([' hi since recruiter lead permission approve requisitions makes please make thanks recruiter',\n",
       "       'connection with icon icon dear please setup icon per icon engineers please let other details needed thanks lead',\n",
       "       'work experience user work experience user hi work experience student coming next his name much appreciate him duration thank',\n",
       "       ...,\n",
       "       'warning for complains to be de activated complaint should not have sent tuesday incident warning for hi guys can below warnings be activated please there should be attached tm complaints thank you manager sent tuesday incident warning for sent tuesday incident warning for ticket close breaching customer feedback owners please be advised following ticket close breaching customer feedback owners reference number customer summary hub feedback software request performed erroneously by priority low resolution target date assigned engineer ref msg',\n",
       "       'notifications not sent to all members when tickets assigned to sent tuesday sent members when tickets assigned importance high hello could you kindly advise below above reference closed previously should one be please let know thank you very much kind regards analyst ext hub sent tuesday re sent members when tickets assigned hello regarding below please be advised have checked with advised way sent agreed upon level if changes be made needs be subject process review discussed with owner would have larger impact have discussed with other last week meeting agree these should be sent out moreover some already sent members approval alright while most them seems be issue if you ask below you can last month have only received for changes assigned for approval needless say actual number way higher than let know if should raise with someone if with whom owner be honest thank you manager sent sent members when tickets assigned hello fact appears have closed ticket per our conversation please get back should request be needed thank you very much apologies for inconvenience caused kind regards analyst ext hub please take few moments fill annual survey feedback sweet sent tuesday sent members when tickets assigned hello thank you for getting back case place ticket hold until notice your best kind regards analyst ext hub please take few moments fill annual survey feedback sweet sent thursday december re sent members when tickets assigned hello thanks for info ll discuss with next meeting agreed what but personally for these be sent out but others might best manager sent december sent members when tickets assigned dear you well please be advised have checked with advised way sent agreed upon level if changes be made needs be subject process review discussed with owner would have larger impact moment proceed closing above ticket apologize for delay getting back you for any further assistance please hesitate contact thank you very much kind regards analyst ext hub please take few moments fill annual survey feedback sweet sent friday december your approval required hello please make everyone received when changes assigned for approval what have noticed until only sent out when changes directly assigned someone particular whole seems be issue with thank you manager sent december your approval required task assigned please be advised following change task assigned task reference change reference customer change summary enable file level encryption for sensitive data you can access via following link ref msg',\n",
       "       'service tiers do not appear properly service now sent urgent request hi understanding yet also checking tiers seem appear properly sn form could you please look into thanks sent urgent request hello apologies for delay getting back you have checked with our colleagues appears should be able add name by going configuration could you kindly check with whether she can if get back looking forward hearing you thank you very much kind regards analyst ext hub please take few moments fill annual survey feedback sweet sent tuesday transition urgent request importance high hi could you please fast forward progression for would like raise acceptance into cr using name surprised breached given was logged th december thanks kinds regards officer'],\n",
       "      dtype=object)"
      ]
     },
     "execution_count": 12,
     "metadata": {},
     "output_type": "execute_result"
    }
   ],
   "source": [
    "text_data"
   ]
  },
  {
   "cell_type": "markdown",
   "metadata": {},
   "source": [
    "#### Creating bag of words by removing Stop Words, doing CountVectorizer"
   ]
  },
  {
   "cell_type": "code",
   "execution_count": 13,
   "metadata": {
    "collapsed": true
   },
   "outputs": [
    {
     "name": "stderr",
     "output_type": "stream",
     "text": [
      "C:\\Users\\kaam8004\\AppData\\Local\\Continuum\\anaconda3\\lib\\site-packages\\sklearn\\feature_extraction\\text.py:300: UserWarning: Your stop_words may be inconsistent with your preprocessing. Tokenizing the stop words generated tokens ['abov', 'afterward', 'alon', 'alreadi', 'alway', 'ani', 'anoth', 'anyon', 'anyth', 'anywher', 'becam', 'becaus', 'becom', 'befor', 'besid', 'cri', 'describ', 'dure', 'els', 'elsewher', 'empti', 'everi', 'everyon', 'everyth', 'everywher', 'fifti', 'formerli', 'forti', 'ha', 'henc', 'hereaft', 'herebi', 'hi', 'howev', 'hundr', 'inde', 'latterli', 'mani', 'meanwhil', 'moreov', 'mostli', 'nobodi', 'noon', 'noth', 'nowher', 'onc', 'onli', 'otherwis', 'ourselv', 'perhap', 'pleas', 'seriou', 'sever', 'sinc', 'sincer', 'sixti', 'someon', 'someth', 'sometim', 'somewher', 'themselv', 'thenc', 'thereaft', 'therebi', 'therefor', 'thi', 'thu', 'togeth', 'twelv', 'twenti', 'veri', 'wa', 'whatev', 'whenc', 'whenev', 'wherea', 'whereaft', 'wherebi', 'wherev', 'whi', 'yourselv'] not in stop_words.\n",
      "  'stop_words.' % sorted(inconsistent))\n"
     ]
    }
   ],
   "source": [
    "count = CountVectorizer(tokenizer=tokenStem, analyzer='word',stop_words ='english',ngram_range= (1, 1),min_df=1000)\n",
    "bag_of_words = count.fit_transform(text_data)\n",
    "\n",
    "# Show feature matrix"
   ]
  },
  {
   "cell_type": "code",
   "execution_count": 14,
   "metadata": {
    "collapsed": true
   },
   "outputs": [
    {
     "data": {
      "text/plain": [
       "['abl',\n",
       " 'abov',\n",
       " 'absenc',\n",
       " 'accept',\n",
       " 'access',\n",
       " 'accordingli',\n",
       " 'account',\n",
       " 'action',\n",
       " 'activ',\n",
       " 'ad',\n",
       " 'add',\n",
       " 'addit',\n",
       " 'address',\n",
       " 'adjust',\n",
       " 'administr',\n",
       " 'advis',\n",
       " 'alloc',\n",
       " 'allow',\n",
       " 'alreadi',\n",
       " 'analyst',\n",
       " 'ani',\n",
       " 'announc',\n",
       " 'annual',\n",
       " 'answer',\n",
       " 'anyon',\n",
       " 'appear',\n",
       " 'applic',\n",
       " 'appreci',\n",
       " 'approv',\n",
       " 'area',\n",
       " 'ask',\n",
       " 'assign',\n",
       " 'assist',\n",
       " 'attach',\n",
       " 'author',\n",
       " 'autom',\n",
       " 'automat',\n",
       " 'avail',\n",
       " 'avoid',\n",
       " 'award',\n",
       " 'basi',\n",
       " 'becaus',\n",
       " 'befor',\n",
       " 'best',\n",
       " 'brand',\n",
       " 'breach',\n",
       " 'breakdown',\n",
       " 'button',\n",
       " 'cabl',\n",
       " 'canada',\n",
       " 'canari',\n",
       " 'capac',\n",
       " 'card',\n",
       " 'care',\n",
       " 'career',\n",
       " 'carryov',\n",
       " 'cascad',\n",
       " 'case',\n",
       " 'catalogu',\n",
       " 'caus',\n",
       " 'center',\n",
       " 'chang',\n",
       " 'check',\n",
       " 'choos',\n",
       " 'client',\n",
       " 'close',\n",
       " 'code',\n",
       " 'colleagu',\n",
       " 'come',\n",
       " 'comment',\n",
       " 'commun',\n",
       " 'compani',\n",
       " 'complaint',\n",
       " 'complet',\n",
       " 'comput',\n",
       " 'confidenti',\n",
       " 'configur',\n",
       " 'confirm',\n",
       " 'confluenc',\n",
       " 'connect',\n",
       " 'consequ',\n",
       " 'consid',\n",
       " 'consider',\n",
       " 'consult',\n",
       " 'consum',\n",
       " 'contact',\n",
       " 'contain',\n",
       " 'content',\n",
       " 'continu',\n",
       " 'control',\n",
       " 'copi',\n",
       " 'correct',\n",
       " 'cost',\n",
       " 'countri',\n",
       " 'cover',\n",
       " 'creat',\n",
       " 'credenti',\n",
       " 'current',\n",
       " 'data',\n",
       " 'date',\n",
       " 'day',\n",
       " 'dear',\n",
       " 'dec',\n",
       " 'decemb',\n",
       " 'delet',\n",
       " 'descript',\n",
       " 'develop',\n",
       " 'devic',\n",
       " 'did',\n",
       " 'differ',\n",
       " 'digit',\n",
       " 'direct',\n",
       " 'directli',\n",
       " 'disciplin',\n",
       " 'disclosur',\n",
       " 'disconnect',\n",
       " 'discuss',\n",
       " 'display',\n",
       " 'doc',\n",
       " 'document',\n",
       " 'doe',\n",
       " 'doubt',\n",
       " 'dure',\n",
       " 'earlier',\n",
       " 'effort',\n",
       " 'enabl',\n",
       " 'engin',\n",
       " 'enter',\n",
       " 'entiti',\n",
       " 'environ',\n",
       " 'error',\n",
       " 'establish',\n",
       " 'everi',\n",
       " 'exampl',\n",
       " 'expir',\n",
       " 'ext',\n",
       " 'extens',\n",
       " 'face',\n",
       " 'fail',\n",
       " 'fall',\n",
       " 'far',\n",
       " 'fault',\n",
       " 'februari',\n",
       " 'file',\n",
       " 'filter',\n",
       " 'final',\n",
       " 'fix',\n",
       " 'flag',\n",
       " 'floor',\n",
       " 'folder',\n",
       " 'follow',\n",
       " 'form',\n",
       " 'forward',\n",
       " 'free',\n",
       " 'friday',\n",
       " 'frustrat',\n",
       " 'fusion',\n",
       " 'germani',\n",
       " 'goe',\n",
       " 'good',\n",
       " 'got',\n",
       " 'group',\n",
       " 'guy',\n",
       " 'ha',\n",
       " 'hand',\n",
       " 'handl',\n",
       " 'happen',\n",
       " 'haven',\n",
       " 'head',\n",
       " 'hello',\n",
       " 'help',\n",
       " 'hereinaft',\n",
       " 'hesit',\n",
       " 'hi',\n",
       " 'high',\n",
       " 'hold',\n",
       " 'holiday',\n",
       " 'hub',\n",
       " 'imag',\n",
       " 'immedi',\n",
       " 'import',\n",
       " 'incid',\n",
       " 'includ',\n",
       " 'inform',\n",
       " 'infra',\n",
       " 'infrastructur',\n",
       " 'instal',\n",
       " 'intend',\n",
       " 'intercept',\n",
       " 'intern',\n",
       " 'invalid',\n",
       " 'investig',\n",
       " 'issu',\n",
       " 'item',\n",
       " 'job',\n",
       " 'join',\n",
       " 'juli',\n",
       " 'key',\n",
       " 'kind',\n",
       " 'kindli',\n",
       " 'knew',\n",
       " 'know',\n",
       " 'lack',\n",
       " 'laptop',\n",
       " 'largest',\n",
       " 'law',\n",
       " 'lead',\n",
       " 'leader',\n",
       " 'leav',\n",
       " 'leaver',\n",
       " 'left',\n",
       " 'let',\n",
       " 'liabil',\n",
       " 'licens',\n",
       " 'lieu',\n",
       " 'like',\n",
       " 'line',\n",
       " 'link',\n",
       " 'list',\n",
       " 'littl',\n",
       " 'locat',\n",
       " 'log',\n",
       " 'look',\n",
       " 'loop',\n",
       " 'lost',\n",
       " 'lot',\n",
       " 'machin',\n",
       " 'mail',\n",
       " 'mailbox',\n",
       " 'make',\n",
       " 'manag',\n",
       " 'mandatori',\n",
       " 'march',\n",
       " 'matern',\n",
       " 'mean',\n",
       " 'meant',\n",
       " 'meet',\n",
       " 'member',\n",
       " 'men',\n",
       " 'mention',\n",
       " 'messag',\n",
       " 'minut',\n",
       " 'mislead',\n",
       " 'miss',\n",
       " 'mistak',\n",
       " 'mob',\n",
       " 'mobil',\n",
       " 'moment',\n",
       " 'monday',\n",
       " 'monitor',\n",
       " 'morn',\n",
       " 'msg',\n",
       " 'multimedia',\n",
       " 'necessarili',\n",
       " 'need',\n",
       " 'network',\n",
       " 'new',\n",
       " 'newspap',\n",
       " 'note',\n",
       " 'notic',\n",
       " 'notif',\n",
       " 'notifi',\n",
       " 'novemb',\n",
       " 'number',\n",
       " 'octob',\n",
       " 'offic',\n",
       " 'old',\n",
       " 'onc',\n",
       " 'onli',\n",
       " 'open',\n",
       " 'oper',\n",
       " 'opinion',\n",
       " 'option',\n",
       " 'oracl',\n",
       " 'order',\n",
       " 'otherwis',\n",
       " 'outlook',\n",
       " 'owner',\n",
       " 'pa',\n",
       " 'parent',\n",
       " 'pass',\n",
       " 'password',\n",
       " 'past',\n",
       " 'path',\n",
       " 'perform',\n",
       " 'period',\n",
       " 'permiss',\n",
       " 'person',\n",
       " 'phone',\n",
       " 'place',\n",
       " 'plan',\n",
       " 'pleas',\n",
       " 'point',\n",
       " 'portfolio',\n",
       " 'possibl',\n",
       " 'practic',\n",
       " 'press',\n",
       " 'print',\n",
       " 'prioriti',\n",
       " 'privileg',\n",
       " 'problem',\n",
       " 'proceed',\n",
       " 'process',\n",
       " 'product',\n",
       " 'profil',\n",
       " 'progress',\n",
       " 'prohibit',\n",
       " 'project',\n",
       " 'provid',\n",
       " 'public',\n",
       " 'publish',\n",
       " 'purchas',\n",
       " 'question',\n",
       " 'queue',\n",
       " 'rais',\n",
       " 'reach',\n",
       " 'realli',\n",
       " 'reason',\n",
       " 'recal',\n",
       " 'receipt',\n",
       " 'receiv',\n",
       " 'recent',\n",
       " 'recipi',\n",
       " 'record',\n",
       " 'ref',\n",
       " 'refer',\n",
       " 'referenc',\n",
       " 'regard',\n",
       " 'regist',\n",
       " 'reject',\n",
       " 'relat',\n",
       " 'relianc',\n",
       " 'reloc',\n",
       " 'rememb',\n",
       " 'remov',\n",
       " 'render',\n",
       " 'replac',\n",
       " 'report',\n",
       " 'repres',\n",
       " 'request',\n",
       " 'requir',\n",
       " 'reset',\n",
       " 'resolut',\n",
       " 'resolv',\n",
       " 'resourc',\n",
       " 'respons',\n",
       " 'return',\n",
       " 'review',\n",
       " 'right',\n",
       " 'ring',\n",
       " 'room',\n",
       " 'run',\n",
       " 'sale',\n",
       " 'say',\n",
       " 'schedul',\n",
       " 'screen',\n",
       " 'search',\n",
       " 'section',\n",
       " 'select',\n",
       " 'send',\n",
       " 'senior',\n",
       " 'sensit',\n",
       " 'sent',\n",
       " 'separ',\n",
       " 'server',\n",
       " 'servic',\n",
       " 'set',\n",
       " 'setup',\n",
       " 'share',\n",
       " 'short',\n",
       " 'sinc',\n",
       " 'sit',\n",
       " 'site',\n",
       " 'softwar',\n",
       " 'sole',\n",
       " 'solv',\n",
       " 'someth',\n",
       " 'somewher',\n",
       " 'specialist',\n",
       " 'squar',\n",
       " 'start',\n",
       " 'starter',\n",
       " 'statu',\n",
       " 'step',\n",
       " 'street',\n",
       " 'strictli',\n",
       " 'subject',\n",
       " 'submit',\n",
       " 'subsequ',\n",
       " 'summari',\n",
       " 'symptom',\n",
       " 'sync',\n",
       " 'taken',\n",
       " 'talk',\n",
       " 'task',\n",
       " 'team',\n",
       " 'telephoni',\n",
       " 'term',\n",
       " 'test',\n",
       " 'tester',\n",
       " 'thank',\n",
       " 'think',\n",
       " 'thursday',\n",
       " 'ticket',\n",
       " 'time',\n",
       " 'timecard',\n",
       " 'titl',\n",
       " 'today',\n",
       " 'tomorrow',\n",
       " 'tool',\n",
       " 'total',\n",
       " 'transmit',\n",
       " 'tri',\n",
       " 'trigger',\n",
       " 'tuesday',\n",
       " 'type',\n",
       " 'unabl',\n",
       " 'understand',\n",
       " 'unfortun',\n",
       " 'unless',\n",
       " 'unread',\n",
       " 'updat',\n",
       " 'upgrad',\n",
       " 'uptim',\n",
       " 'urgent',\n",
       " 'use',\n",
       " 'user',\n",
       " 'usual',\n",
       " 'veri',\n",
       " 'version',\n",
       " 'video',\n",
       " 'view',\n",
       " 'viru',\n",
       " 'virus',\n",
       " 'voic',\n",
       " 'wa',\n",
       " 'want',\n",
       " 'way',\n",
       " 'wednesday',\n",
       " 'week',\n",
       " 'weekli',\n",
       " 'wharf',\n",
       " 'win',\n",
       " 'window',\n",
       " 'work',\n",
       " 'write',\n",
       " 'wrongli',\n",
       " 'wrote',\n",
       " 'year']"
      ]
     },
     "execution_count": 14,
     "metadata": {},
     "output_type": "execute_result"
    }
   ],
   "source": [
    "count.get_feature_names()"
   ]
  },
  {
   "cell_type": "code",
   "execution_count": 15,
   "metadata": {
    "collapsed": true
   },
   "outputs": [
    {
     "name": "stdout",
     "output_type": "stream",
     "text": [
      "  (0, 400)\t1\n",
      "  (0, 291)\t1\n",
      "  (0, 229)\t2\n",
      "  (0, 28)\t1\n",
      "  (0, 286)\t1\n",
      "  (0, 206)\t1\n",
      "  (0, 370)\t1\n",
      "  (1, 254)\t1\n",
      "  (1, 211)\t1\n",
      "  (1, 126)\t1\n",
      "  (1, 367)\t1\n",
      "  (1, 101)\t1\n",
      "  (1, 79)\t1\n",
      "  (1, 400)\t1\n",
      "  (1, 291)\t2\n",
      "  (1, 206)\t1\n",
      "  (2, 27)\t1\n",
      "  (2, 173)\t1\n",
      "  (2, 68)\t1\n",
      "  (2, 426)\t2\n",
      "  (2, 444)\t3\n",
      "  (2, 400)\t1\n",
      "  (3, 48)\t1\n",
      "  (3, 150)\t1\n",
      "  (3, 170)\t1\n",
      "  :\t:\n",
      "  (72796, 365)\t2\n",
      "  (72796, 151)\t1\n",
      "  (72796, 3)\t1\n",
      "  (72796, 265)\t1\n",
      "  (72796, 424)\t3\n",
      "  (72796, 22)\t1\n",
      "  (72796, 62)\t3\n",
      "  (72796, 152)\t2\n",
      "  (72796, 362)\t3\n",
      "  (72796, 169)\t1\n",
      "  (72796, 10)\t1\n",
      "  (72796, 135)\t1\n",
      "  (72796, 414)\t1\n",
      "  (72796, 198)\t2\n",
      "  (72796, 222)\t2\n",
      "  (72796, 19)\t1\n",
      "  (72796, 221)\t1\n",
      "  (72796, 327)\t2\n",
      "  (72796, 199)\t1\n",
      "  (72796, 174)\t1\n",
      "  (72796, 180)\t1\n",
      "  (72796, 67)\t1\n",
      "  (72796, 339)\t3\n",
      "  (72796, 400)\t3\n",
      "  (72796, 291)\t3\n"
     ]
    }
   ],
   "source": [
    "print(bag_of_words)"
   ]
  },
  {
   "cell_type": "markdown",
   "metadata": {},
   "source": [
    "#### Tfidf Transformer on Email_Thread"
   ]
  },
  {
   "cell_type": "code",
   "execution_count": 16,
   "metadata": {},
   "outputs": [],
   "source": [
    "tf =TfidfTransformer(smooth_idf=True,sublinear_tf =True)\n",
    "tfid = tf.fit_transform(bag_of_words)"
   ]
  },
  {
   "cell_type": "code",
   "execution_count": 17,
   "metadata": {},
   "outputs": [],
   "source": [
    "tf_df = pd.SparseDataFrame([ pd.SparseSeries(tfid[i].toarray().ravel()) \n",
    "                              for i in np.arange(tfid.shape[0]) ], columns = count.get_feature_names())"
   ]
  },
  {
   "cell_type": "code",
   "execution_count": 18,
   "metadata": {},
   "outputs": [
    {
     "data": {
      "text/html": [
       "<div>\n",
       "<style scoped>\n",
       "    .dataframe tbody tr th:only-of-type {\n",
       "        vertical-align: middle;\n",
       "    }\n",
       "\n",
       "    .dataframe tbody tr th {\n",
       "        vertical-align: top;\n",
       "    }\n",
       "\n",
       "    .dataframe thead th {\n",
       "        text-align: right;\n",
       "    }\n",
       "</style>\n",
       "<table border=\"1\" class=\"dataframe\">\n",
       "  <thead>\n",
       "    <tr style=\"text-align: right;\">\n",
       "      <th></th>\n",
       "      <th>abl</th>\n",
       "      <th>abov</th>\n",
       "      <th>absenc</th>\n",
       "      <th>accept</th>\n",
       "      <th>access</th>\n",
       "      <th>accordingli</th>\n",
       "      <th>account</th>\n",
       "      <th>action</th>\n",
       "      <th>activ</th>\n",
       "      <th>ad</th>\n",
       "      <th>...</th>\n",
       "      <th>week</th>\n",
       "      <th>weekli</th>\n",
       "      <th>wharf</th>\n",
       "      <th>win</th>\n",
       "      <th>window</th>\n",
       "      <th>work</th>\n",
       "      <th>write</th>\n",
       "      <th>wrongli</th>\n",
       "      <th>wrote</th>\n",
       "      <th>year</th>\n",
       "    </tr>\n",
       "  </thead>\n",
       "  <tbody>\n",
       "    <tr>\n",
       "      <th>0</th>\n",
       "      <td>0.0</td>\n",
       "      <td>0.0</td>\n",
       "      <td>0.0</td>\n",
       "      <td>0.0</td>\n",
       "      <td>0.000000</td>\n",
       "      <td>0.0</td>\n",
       "      <td>0.000000</td>\n",
       "      <td>0.0</td>\n",
       "      <td>0.000000</td>\n",
       "      <td>0.0</td>\n",
       "      <td>...</td>\n",
       "      <td>0.0</td>\n",
       "      <td>0.0</td>\n",
       "      <td>0.0</td>\n",
       "      <td>0.0</td>\n",
       "      <td>0.000000</td>\n",
       "      <td>0.000000</td>\n",
       "      <td>0.0</td>\n",
       "      <td>0.0</td>\n",
       "      <td>0.0</td>\n",
       "      <td>0.0</td>\n",
       "    </tr>\n",
       "    <tr>\n",
       "      <th>1</th>\n",
       "      <td>0.0</td>\n",
       "      <td>0.0</td>\n",
       "      <td>0.0</td>\n",
       "      <td>0.0</td>\n",
       "      <td>0.000000</td>\n",
       "      <td>0.0</td>\n",
       "      <td>0.000000</td>\n",
       "      <td>0.0</td>\n",
       "      <td>0.000000</td>\n",
       "      <td>0.0</td>\n",
       "      <td>...</td>\n",
       "      <td>0.0</td>\n",
       "      <td>0.0</td>\n",
       "      <td>0.0</td>\n",
       "      <td>0.0</td>\n",
       "      <td>0.000000</td>\n",
       "      <td>0.000000</td>\n",
       "      <td>0.0</td>\n",
       "      <td>0.0</td>\n",
       "      <td>0.0</td>\n",
       "      <td>0.0</td>\n",
       "    </tr>\n",
       "    <tr>\n",
       "      <th>2</th>\n",
       "      <td>0.0</td>\n",
       "      <td>0.0</td>\n",
       "      <td>0.0</td>\n",
       "      <td>0.0</td>\n",
       "      <td>0.000000</td>\n",
       "      <td>0.0</td>\n",
       "      <td>0.000000</td>\n",
       "      <td>0.0</td>\n",
       "      <td>0.000000</td>\n",
       "      <td>0.0</td>\n",
       "      <td>...</td>\n",
       "      <td>0.0</td>\n",
       "      <td>0.0</td>\n",
       "      <td>0.0</td>\n",
       "      <td>0.0</td>\n",
       "      <td>0.000000</td>\n",
       "      <td>0.505627</td>\n",
       "      <td>0.0</td>\n",
       "      <td>0.0</td>\n",
       "      <td>0.0</td>\n",
       "      <td>0.0</td>\n",
       "    </tr>\n",
       "    <tr>\n",
       "      <th>3</th>\n",
       "      <td>0.0</td>\n",
       "      <td>0.0</td>\n",
       "      <td>0.0</td>\n",
       "      <td>0.0</td>\n",
       "      <td>0.000000</td>\n",
       "      <td>0.0</td>\n",
       "      <td>0.000000</td>\n",
       "      <td>0.0</td>\n",
       "      <td>0.000000</td>\n",
       "      <td>0.0</td>\n",
       "      <td>...</td>\n",
       "      <td>0.0</td>\n",
       "      <td>0.0</td>\n",
       "      <td>0.0</td>\n",
       "      <td>0.0</td>\n",
       "      <td>0.000000</td>\n",
       "      <td>0.000000</td>\n",
       "      <td>0.0</td>\n",
       "      <td>0.0</td>\n",
       "      <td>0.0</td>\n",
       "      <td>0.0</td>\n",
       "    </tr>\n",
       "    <tr>\n",
       "      <th>4</th>\n",
       "      <td>0.0</td>\n",
       "      <td>0.0</td>\n",
       "      <td>0.0</td>\n",
       "      <td>0.0</td>\n",
       "      <td>0.069362</td>\n",
       "      <td>0.0</td>\n",
       "      <td>0.096286</td>\n",
       "      <td>0.0</td>\n",
       "      <td>0.110346</td>\n",
       "      <td>0.0</td>\n",
       "      <td>...</td>\n",
       "      <td>0.0</td>\n",
       "      <td>0.0</td>\n",
       "      <td>0.0</td>\n",
       "      <td>0.0</td>\n",
       "      <td>0.125035</td>\n",
       "      <td>0.000000</td>\n",
       "      <td>0.0</td>\n",
       "      <td>0.0</td>\n",
       "      <td>0.0</td>\n",
       "      <td>0.0</td>\n",
       "    </tr>\n",
       "  </tbody>\n",
       "</table>\n",
       "<p>5 rows × 449 columns</p>\n",
       "</div>"
      ],
      "text/plain": [
       "   abl  abov  absenc  accept    access  accordingli   account  action  \\\n",
       "0  0.0   0.0     0.0     0.0  0.000000          0.0  0.000000     0.0   \n",
       "1  0.0   0.0     0.0     0.0  0.000000          0.0  0.000000     0.0   \n",
       "2  0.0   0.0     0.0     0.0  0.000000          0.0  0.000000     0.0   \n",
       "3  0.0   0.0     0.0     0.0  0.000000          0.0  0.000000     0.0   \n",
       "4  0.0   0.0     0.0     0.0  0.069362          0.0  0.096286     0.0   \n",
       "\n",
       "      activ   ad  ...   week  weekli  wharf  win    window      work  write  \\\n",
       "0  0.000000  0.0  ...    0.0     0.0    0.0  0.0  0.000000  0.000000    0.0   \n",
       "1  0.000000  0.0  ...    0.0     0.0    0.0  0.0  0.000000  0.000000    0.0   \n",
       "2  0.000000  0.0  ...    0.0     0.0    0.0  0.0  0.000000  0.505627    0.0   \n",
       "3  0.000000  0.0  ...    0.0     0.0    0.0  0.0  0.000000  0.000000    0.0   \n",
       "4  0.110346  0.0  ...    0.0     0.0    0.0  0.0  0.125035  0.000000    0.0   \n",
       "\n",
       "   wrongli  wrote  year  \n",
       "0      0.0    0.0   0.0  \n",
       "1      0.0    0.0   0.0  \n",
       "2      0.0    0.0   0.0  \n",
       "3      0.0    0.0   0.0  \n",
       "4      0.0    0.0   0.0  \n",
       "\n",
       "[5 rows x 449 columns]"
      ]
     },
     "execution_count": 18,
     "metadata": {},
     "output_type": "execute_result"
    }
   ],
   "source": [
    "tf_df.head()"
   ]
  },
  {
   "cell_type": "code",
   "execution_count": 19,
   "metadata": {},
   "outputs": [],
   "source": [
    "ticketdata_df.drop(['Email_Thread'], axis = 1, inplace=True)"
   ]
  },
  {
   "cell_type": "code",
   "execution_count": 20,
   "metadata": {
    "collapsed": true
   },
   "outputs": [
    {
     "data": {
      "text/html": [
       "<div>\n",
       "<style scoped>\n",
       "    .dataframe tbody tr th:only-of-type {\n",
       "        vertical-align: middle;\n",
       "    }\n",
       "\n",
       "    .dataframe tbody tr th {\n",
       "        vertical-align: top;\n",
       "    }\n",
       "\n",
       "    .dataframe thead th {\n",
       "        text-align: right;\n",
       "    }\n",
       "</style>\n",
       "<table border=\"1\" class=\"dataframe\">\n",
       "  <thead>\n",
       "    <tr style=\"text-align: right;\">\n",
       "      <th></th>\n",
       "      <th>ticket_type</th>\n",
       "      <th>business_service</th>\n",
       "      <th>urgency</th>\n",
       "      <th>impact</th>\n",
       "    </tr>\n",
       "  </thead>\n",
       "  <tbody>\n",
       "    <tr>\n",
       "      <th>0</th>\n",
       "      <td>1</td>\n",
       "      <td>71</td>\n",
       "      <td>3</td>\n",
       "      <td>4</td>\n",
       "    </tr>\n",
       "    <tr>\n",
       "      <th>1</th>\n",
       "      <td>1</td>\n",
       "      <td>26</td>\n",
       "      <td>3</td>\n",
       "      <td>4</td>\n",
       "    </tr>\n",
       "    <tr>\n",
       "      <th>2</th>\n",
       "      <td>1</td>\n",
       "      <td>32</td>\n",
       "      <td>3</td>\n",
       "      <td>4</td>\n",
       "    </tr>\n",
       "    <tr>\n",
       "      <th>3</th>\n",
       "      <td>1</td>\n",
       "      <td>32</td>\n",
       "      <td>3</td>\n",
       "      <td>4</td>\n",
       "    </tr>\n",
       "    <tr>\n",
       "      <th>4</th>\n",
       "      <td>1</td>\n",
       "      <td>4</td>\n",
       "      <td>3</td>\n",
       "      <td>4</td>\n",
       "    </tr>\n",
       "  </tbody>\n",
       "</table>\n",
       "</div>"
      ],
      "text/plain": [
       "   ticket_type  business_service  urgency  impact\n",
       "0            1                71        3       4\n",
       "1            1                26        3       4\n",
       "2            1                32        3       4\n",
       "3            1                32        3       4\n",
       "4            1                 4        3       4"
      ]
     },
     "execution_count": 20,
     "metadata": {},
     "output_type": "execute_result"
    }
   ],
   "source": [
    "ticketdata_df.head()"
   ]
  },
  {
   "cell_type": "markdown",
   "metadata": {},
   "source": [
    "#### Scaling input data(0-1) using MinMaxScaler"
   ]
  },
  {
   "cell_type": "code",
   "execution_count": 21,
   "metadata": {},
   "outputs": [],
   "source": [
    "min_max = preprocessing.MinMaxScaler(feature_range=(0, 1), copy=True)\n",
    "ticketdata_df= min_max.fit_transform(ticketdata_df)"
   ]
  },
  {
   "cell_type": "code",
   "execution_count": 22,
   "metadata": {},
   "outputs": [],
   "source": [
    "df=pd.DataFrame(data=ticketdata_df[0:,0:],index=[i for i in range(ticketdata_df.shape[0])],columns = ['ticket_type','business_service', 'urgency', 'impact'] )"
   ]
  },
  {
   "cell_type": "code",
   "execution_count": 23,
   "metadata": {},
   "outputs": [],
   "source": [
    "df = df.join(tf_df)"
   ]
  },
  {
   "cell_type": "markdown",
   "metadata": {},
   "source": [
    "#### Train Test data split"
   ]
  },
  {
   "cell_type": "code",
   "execution_count": 24,
   "metadata": {},
   "outputs": [],
   "source": [
    "raw_data, X_test, y_train, y_test = train_test_split(df, Y, test_size=0.33, random_state=42)"
   ]
  },
  {
   "cell_type": "markdown",
   "metadata": {},
   "source": [
    "#### XGBClassifier for classification"
   ]
  },
  {
   "cell_type": "code",
   "execution_count": 25,
   "metadata": {},
   "outputs": [],
   "source": [
    "finclf=xgb.XGBClassifier(early_stopping_rounds=5,n_jobs=4, learning_rate=0.05, max_depth=6, n_estimators=1000, subsample=0.8)"
   ]
  },
  {
   "cell_type": "code",
   "execution_count": 26,
   "metadata": {},
   "outputs": [
    {
     "data": {
      "text/plain": [
       "XGBClassifier(base_score=0.5, booster='gbtree', colsample_bylevel=1,\n",
       "              colsample_bynode=1, colsample_bytree=1, early_stopping_rounds=5,\n",
       "              gamma=0, learning_rate=0.05, max_delta_step=0, max_depth=6,\n",
       "              min_child_weight=1, missing=None, n_estimators=1000, n_jobs=4,\n",
       "              nthread=None, objective='multi:softprob', random_state=0,\n",
       "              reg_alpha=0, reg_lambda=1, scale_pos_weight=1, seed=None,\n",
       "              silent=None, subsample=0.8, verbosity=1)"
      ]
     },
     "execution_count": 26,
     "metadata": {},
     "output_type": "execute_result"
    }
   ],
   "source": [
    "# Training dataset\n",
    "finclf.fit(raw_data, y_train)"
   ]
  },
  {
   "cell_type": "code",
   "execution_count": 60,
   "metadata": {},
   "outputs": [],
   "source": [
    "# Test dataset\n",
    "pred= finclf.predict(X_test)"
   ]
  },
  {
   "cell_type": "code",
   "execution_count": 28,
   "metadata": {},
   "outputs": [
    {
     "data": {
      "text/plain": [
       "Index(['ticket_type', 'business_service', 'urgency', 'impact', 'abl', 'abov',\n",
       "       'absenc', 'accept', 'access', 'accordingli',\n",
       "       ...\n",
       "       'week', 'weekli', 'wharf', 'win', 'window', 'work', 'write', 'wrongli',\n",
       "       'wrote', 'year'],\n",
       "      dtype='object', length=453)"
      ]
     },
     "execution_count": 28,
     "metadata": {},
     "output_type": "execute_result"
    }
   ],
   "source": [
    "X_test.columns"
   ]
  },
  {
   "cell_type": "code",
   "execution_count": 29,
   "metadata": {},
   "outputs": [
    {
     "data": {
      "text/plain": [
       "0.9465534465534465"
      ]
     },
     "execution_count": 29,
     "metadata": {},
     "output_type": "execute_result"
    }
   ],
   "source": [
    "np.mean(pred == y_test)"
   ]
  },
  {
   "cell_type": "markdown",
   "metadata": {},
   "source": [
    "#### Precision, Recall, F-Score and Accuracy"
   ]
  },
  {
   "cell_type": "code",
   "execution_count": 30,
   "metadata": {},
   "outputs": [],
   "source": [
    "precision, recall, fscore, support = precision_recall_fscore_support(y_test, pred)"
   ]
  },
  {
   "cell_type": "code",
   "execution_count": 31,
   "metadata": {},
   "outputs": [],
   "source": [
    "score = accuracy_score(y_test, pred)"
   ]
  },
  {
   "cell_type": "code",
   "execution_count": 32,
   "metadata": {},
   "outputs": [
    {
     "name": "stdout",
     "output_type": "stream",
     "text": [
      "precision: [0.9952741  1.         0.98704453 0.9393913  0.91495017 0.81744966\n",
      " 0.73421927 0.97101449 0.99449036 1.         0.93480257 0.99716178]\n",
      "recall: [1.         1.         1.         0.96109921 0.86904386 0.65273312\n",
      " 0.72697368 0.72043011 1.         1.         1.         1.        ]\n",
      "fscore: [0.99763145 1.         0.99348003 0.95012128 0.89140638 0.72586412\n",
      " 0.73057851 0.82716049 0.99723757 1.         0.9663028  0.99857887]\n",
      "\n",
      "\n",
      "Total Accuracy on test data 94.66%\n"
     ]
    }
   ],
   "source": [
    "\n",
    "print('precision: {}'.format(precision))\n",
    "print('recall: {}'.format(recall))\n",
    "print('fscore: {}'.format(fscore))\n",
    "print('\\n\\nTotal Accuracy on test data {0:.2f}%'.format(score*100))"
   ]
  },
  {
   "cell_type": "markdown",
   "metadata": {},
   "source": [
    "#### Feature Importance plot"
   ]
  },
  {
   "cell_type": "code",
   "execution_count": 33,
   "metadata": {},
   "outputs": [
    {
     "data": {
      "image/png": "[encoded data removed]",
      "text/plain": [
       "<Figure size 864x1296 with 1 Axes>"
      ]
     },
     "metadata": {
      "needs_background": "light"
     },
     "output_type": "display_data"
    }
   ],
   "source": [
    "# Feature names will be populate when code will run next time\n",
    "fig, ax = plt.subplots(figsize=(12,18))\n",
    "xgb.plot_importance(finclf, max_num_features=20, height=0.8, ax=ax)\n",
    "plt.show()"
   ]
  },
  {
   "cell_type": "markdown",
   "metadata": {},
   "source": [
    "#### Visualizing Xgboost decision tree"
   ]
  },
  {
   "cell_type": "code",
   "execution_count": 36,
   "metadata": {},
   "outputs": [
    {
     "data": {
      "image/png": "[encoded data removed]",
      "text/plain": [
       "<Figure size 2160x1080 with 1 Axes>"
      ]
     },
     "metadata": {
      "needs_background": "light"
     },
     "output_type": "display_data"
    }
   ],
   "source": [
    "plot_tree(finclf,num_trees=20)\n",
    "fig= plt.gcf()\n",
    "fig.set_size_inches(30,15)"
   ]
  },
  {
   "cell_type": "markdown",
   "metadata": {},
   "source": [
    "### Demo of New Ticket Data to Check it's Classification of Category"
   ]
  },
  {
   "cell_type": "code",
   "execution_count": 85,
   "metadata": {},
   "outputs": [],
   "source": [
    "input_df = pd.read_csv(r'C:\\Users\\kaam8004\\Desktop\\HARRY POTTER\\input_to_model.csv')"
   ]
  },
  {
   "cell_type": "code",
   "execution_count": 86,
   "metadata": {},
   "outputs": [
    {
     "data": {
      "text/html": [
       "<div>\n",
       "<style scoped>\n",
       "    .dataframe tbody tr th:only-of-type {\n",
       "        vertical-align: middle;\n",
       "    }\n",
       "\n",
       "    .dataframe tbody tr th {\n",
       "        vertical-align: top;\n",
       "    }\n",
       "\n",
       "    .dataframe thead th {\n",
       "        text-align: right;\n",
       "    }\n",
       "</style>\n",
       "<table border=\"1\" class=\"dataframe\">\n",
       "  <thead>\n",
       "    <tr style=\"text-align: right;\">\n",
       "      <th></th>\n",
       "      <th>title</th>\n",
       "      <th>body</th>\n",
       "      <th>ticket_type</th>\n",
       "      <th>business_service</th>\n",
       "      <th>urgency</th>\n",
       "      <th>impact</th>\n",
       "    </tr>\n",
       "  </thead>\n",
       "  <tbody>\n",
       "    <tr>\n",
       "      <th>0</th>\n",
       "      <td>reset passwords for external accounts</td>\n",
       "      <td>re expire days hi ask help update passwords co...</td>\n",
       "      <td>1</td>\n",
       "      <td>4</td>\n",
       "      <td>3</td>\n",
       "      <td>4</td>\n",
       "    </tr>\n",
       "    <tr>\n",
       "      <th>1</th>\n",
       "      <td>access card</td>\n",
       "      <td>re card va se</td>\n",
       "      <td>1</td>\n",
       "      <td>73</td>\n",
       "      <td>3</td>\n",
       "      <td>4</td>\n",
       "    </tr>\n",
       "    <tr>\n",
       "      <th>2</th>\n",
       "      <td>remove key sensitive from oracle fusion when l...</td>\n",
       "      <td>friday pm key sensitive looking select locatio...</td>\n",
       "      <td>1</td>\n",
       "      <td>68</td>\n",
       "      <td>3</td>\n",
       "      <td>4</td>\n",
       "    </tr>\n",
       "  </tbody>\n",
       "</table>\n",
       "</div>"
      ],
      "text/plain": [
       "                                               title  \\\n",
       "0              reset passwords for external accounts   \n",
       "1                                        access card   \n",
       "2  remove key sensitive from oracle fusion when l...   \n",
       "\n",
       "                                                body  ticket_type  \\\n",
       "0  re expire days hi ask help update passwords co...            1   \n",
       "1                                      re card va se            1   \n",
       "2  friday pm key sensitive looking select locatio...            1   \n",
       "\n",
       "   business_service  urgency  impact  \n",
       "0                 4        3       4  \n",
       "1                73        3       4  \n",
       "2                68        3       4  "
      ]
     },
     "execution_count": 86,
     "metadata": {},
     "output_type": "execute_result"
    }
   ],
   "source": [
    "input_df.head()"
   ]
  },
  {
   "cell_type": "code",
   "execution_count": 87,
   "metadata": {},
   "outputs": [],
   "source": [
    "# Create Single Column from title and body\n",
    "input_df['Email_Thread'] = input_df.title.astype(str).str.cat(input_df.body.astype(str), sep=' ')\n",
    "input_df.drop(['title','body'], axis = 1, inplace=True)\n",
    "text_data_ip = np.array(input_df['Email_Thread'])\n",
    "bag_of_words_ip = count.transform(text_data_ip)\n",
    "tfid_ip = tf.transform(bag_of_words_ip)\n",
    "tf_df_ip = pd.SparseDataFrame([ pd.SparseSeries(tfid_ip[i].toarray().ravel()) \n",
    "                              for i in np.arange(tfid_ip.shape[0]) ], columns = count.get_feature_names())\n",
    "input_df.drop(['Email_Thread'], axis = 1, inplace=True)\n",
    "input_df= min_max.transform(input_df)\n",
    "df_ip=pd.DataFrame(data=input_df[0:,0:],index=[i for i in range(input_df.shape[0])],columns = ['ticket_type','business_service', 'urgency', 'impact'] )\n",
    "df_ip = df_ip.join(tf_df_ip)\n"
   ]
  },
  {
   "cell_type": "code",
   "execution_count": 88,
   "metadata": {},
   "outputs": [],
   "source": [
    "pred_ip= finclf.predict(df_ip)"
   ]
  },
  {
   "cell_type": "code",
   "execution_count": 89,
   "metadata": {},
   "outputs": [
    {
     "data": {
      "text/plain": [
       "array([ 4,  7, 10], dtype=int64)"
      ]
     },
     "execution_count": 89,
     "metadata": {},
     "output_type": "execute_result"
    }
   ],
   "source": [
    "pred_ip"
   ]
  }
 ],
 "metadata": {
  "kernelspec": {
   "display_name": "Python 3",
   "language": "python",
   "name": "python3"
  },
  "language_info": {
   "codemirror_mode": {
    "name": "ipython",
    "version": 3
   },
   "file_extension": ".py",
   "mimetype": "text/x-python",
   "name": "python",
   "nbconvert_exporter": "python",
   "pygments_lexer": "ipython3",
   "version": "3.8.3"
  }
 },
 "nbformat": 4,
 "nbformat_minor": 2
}
